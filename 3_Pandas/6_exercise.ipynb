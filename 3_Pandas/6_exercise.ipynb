{
 "cells": [
  {
   "cell_type": "markdown",
   "id": "1c84e3ef",
   "metadata": {},
   "source": [
    "# Exercise\n",
    "\n",
    "I wanted give you guys to start getting familiar with real data so this exercise is based on a dataset I found on Kaggle. You can download it from this github repo or directly from [kaggle](https://www.kaggle.com/datasets/utkarsharya/ecommerce-purchases/data). I prefer you download it yourself."
   ]
  },
  {
   "cell_type": "markdown",
   "id": "58a026d4",
   "metadata": {},
   "source": [
    "** Load the data using Pandas.**\n",
    "\n",
    "THe file is located in `resources/Ecommerce`.\n",
    "\n",
    "It's a CSV file even though there is no `.csv` extension."
   ]
  },
  {
   "cell_type": "code",
   "execution_count": null,
   "id": "79360186",
   "metadata": {},
   "outputs": [],
   "source": []
  },
  {
   "cell_type": "markdown",
   "id": "ed00b979",
   "metadata": {},
   "source": [
    "**Check the head of the data.**"
   ]
  },
  {
   "cell_type": "code",
   "execution_count": null,
   "id": "5597215c",
   "metadata": {},
   "outputs": [
    {
     "data": {
      "text/html": [
       "<div>\n",
       "<style scoped>\n",
       "    .dataframe tbody tr th:only-of-type {\n",
       "        vertical-align: middle;\n",
       "    }\n",
       "\n",
       "    .dataframe tbody tr th {\n",
       "        vertical-align: top;\n",
       "    }\n",
       "\n",
       "    .dataframe thead th {\n",
       "        text-align: right;\n",
       "    }\n",
       "</style>\n",
       "<table border=\"1\" class=\"dataframe\">\n",
       "  <thead>\n",
       "    <tr style=\"text-align: right;\">\n",
       "      <th></th>\n",
       "      <th>Address</th>\n",
       "      <th>Lot</th>\n",
       "      <th>AM or PM</th>\n",
       "      <th>Browser Info</th>\n",
       "      <th>Company</th>\n",
       "      <th>Credit Card</th>\n",
       "      <th>CC Exp Date</th>\n",
       "      <th>CC Security Code</th>\n",
       "      <th>CC Provider</th>\n",
       "      <th>Email</th>\n",
       "      <th>Job</th>\n",
       "      <th>IP Address</th>\n",
       "      <th>Language</th>\n",
       "      <th>Purchase Price</th>\n",
       "    </tr>\n",
       "  </thead>\n",
       "  <tbody>\n",
       "    <tr>\n",
       "      <th>0</th>\n",
       "      <td>16629 Pace Camp Apt. 448\\nAlexisborough, NE 77...</td>\n",
       "      <td>46 in</td>\n",
       "      <td>PM</td>\n",
       "      <td>Opera/9.56.(X11; Linux x86_64; sl-SI) Presto/2...</td>\n",
       "      <td>Martinez-Herman</td>\n",
       "      <td>6011929061123406</td>\n",
       "      <td>02/20</td>\n",
       "      <td>900</td>\n",
       "      <td>JCB 16 digit</td>\n",
       "      <td>pdunlap@yahoo.com</td>\n",
       "      <td>Scientist, product/process development</td>\n",
       "      <td>149.146.147.205</td>\n",
       "      <td>el</td>\n",
       "      <td>98.14</td>\n",
       "    </tr>\n",
       "    <tr>\n",
       "      <th>1</th>\n",
       "      <td>9374 Jasmine Spurs Suite 508\\nSouth John, TN 8...</td>\n",
       "      <td>28 rn</td>\n",
       "      <td>PM</td>\n",
       "      <td>Opera/8.93.(Windows 98; Win 9x 4.90; en-US) Pr...</td>\n",
       "      <td>Fletcher, Richards and Whitaker</td>\n",
       "      <td>3337758169645356</td>\n",
       "      <td>11/18</td>\n",
       "      <td>561</td>\n",
       "      <td>Mastercard</td>\n",
       "      <td>anthony41@reed.com</td>\n",
       "      <td>Drilling engineer</td>\n",
       "      <td>15.160.41.51</td>\n",
       "      <td>fr</td>\n",
       "      <td>70.73</td>\n",
       "    </tr>\n",
       "    <tr>\n",
       "      <th>2</th>\n",
       "      <td>Unit 0065 Box 5052\\nDPO AP 27450</td>\n",
       "      <td>94 vE</td>\n",
       "      <td>PM</td>\n",
       "      <td>Mozilla/5.0 (compatible; MSIE 9.0; Windows NT ...</td>\n",
       "      <td>Simpson, Williams and Pham</td>\n",
       "      <td>675957666125</td>\n",
       "      <td>08/19</td>\n",
       "      <td>699</td>\n",
       "      <td>JCB 16 digit</td>\n",
       "      <td>amymiller@morales-harrison.com</td>\n",
       "      <td>Customer service manager</td>\n",
       "      <td>132.207.160.22</td>\n",
       "      <td>de</td>\n",
       "      <td>0.95</td>\n",
       "    </tr>\n",
       "    <tr>\n",
       "      <th>3</th>\n",
       "      <td>7780 Julia Fords\\nNew Stacy, WA 45798</td>\n",
       "      <td>36 vm</td>\n",
       "      <td>PM</td>\n",
       "      <td>Mozilla/5.0 (Macintosh; Intel Mac OS X 10_8_0 ...</td>\n",
       "      <td>Williams, Marshall and Buchanan</td>\n",
       "      <td>6011578504430710</td>\n",
       "      <td>02/24</td>\n",
       "      <td>384</td>\n",
       "      <td>Discover</td>\n",
       "      <td>brent16@olson-robinson.info</td>\n",
       "      <td>Drilling engineer</td>\n",
       "      <td>30.250.74.19</td>\n",
       "      <td>es</td>\n",
       "      <td>78.04</td>\n",
       "    </tr>\n",
       "    <tr>\n",
       "      <th>4</th>\n",
       "      <td>23012 Munoz Drive Suite 337\\nNew Cynthia, TX 5...</td>\n",
       "      <td>20 IE</td>\n",
       "      <td>AM</td>\n",
       "      <td>Opera/9.58.(X11; Linux x86_64; it-IT) Presto/2...</td>\n",
       "      <td>Brown, Watson and Andrews</td>\n",
       "      <td>6011456623207998</td>\n",
       "      <td>10/25</td>\n",
       "      <td>678</td>\n",
       "      <td>Diners Club / Carte Blanche</td>\n",
       "      <td>christopherwright@gmail.com</td>\n",
       "      <td>Fine artist</td>\n",
       "      <td>24.140.33.94</td>\n",
       "      <td>es</td>\n",
       "      <td>77.82</td>\n",
       "    </tr>\n",
       "  </tbody>\n",
       "</table>\n",
       "</div>"
      ],
      "text/plain": [
       "                                             Address    Lot AM or PM  \\\n",
       "0  16629 Pace Camp Apt. 448\\nAlexisborough, NE 77...  46 in       PM   \n",
       "1  9374 Jasmine Spurs Suite 508\\nSouth John, TN 8...  28 rn       PM   \n",
       "2                   Unit 0065 Box 5052\\nDPO AP 27450  94 vE       PM   \n",
       "3              7780 Julia Fords\\nNew Stacy, WA 45798  36 vm       PM   \n",
       "4  23012 Munoz Drive Suite 337\\nNew Cynthia, TX 5...  20 IE       AM   \n",
       "\n",
       "                                        Browser Info  \\\n",
       "0  Opera/9.56.(X11; Linux x86_64; sl-SI) Presto/2...   \n",
       "1  Opera/8.93.(Windows 98; Win 9x 4.90; en-US) Pr...   \n",
       "2  Mozilla/5.0 (compatible; MSIE 9.0; Windows NT ...   \n",
       "3  Mozilla/5.0 (Macintosh; Intel Mac OS X 10_8_0 ...   \n",
       "4  Opera/9.58.(X11; Linux x86_64; it-IT) Presto/2...   \n",
       "\n",
       "                           Company       Credit Card CC Exp Date  \\\n",
       "0                  Martinez-Herman  6011929061123406       02/20   \n",
       "1  Fletcher, Richards and Whitaker  3337758169645356       11/18   \n",
       "2       Simpson, Williams and Pham      675957666125       08/19   \n",
       "3  Williams, Marshall and Buchanan  6011578504430710       02/24   \n",
       "4        Brown, Watson and Andrews  6011456623207998       10/25   \n",
       "\n",
       "   CC Security Code                  CC Provider  \\\n",
       "0               900                 JCB 16 digit   \n",
       "1               561                   Mastercard   \n",
       "2               699                 JCB 16 digit   \n",
       "3               384                     Discover   \n",
       "4               678  Diners Club / Carte Blanche   \n",
       "\n",
       "                            Email                                     Job  \\\n",
       "0               pdunlap@yahoo.com  Scientist, product/process development   \n",
       "1              anthony41@reed.com                       Drilling engineer   \n",
       "2  amymiller@morales-harrison.com                Customer service manager   \n",
       "3     brent16@olson-robinson.info                       Drilling engineer   \n",
       "4     christopherwright@gmail.com                             Fine artist   \n",
       "\n",
       "        IP Address Language  Purchase Price  \n",
       "0  149.146.147.205       el           98.14  \n",
       "1     15.160.41.51       fr           70.73  \n",
       "2   132.207.160.22       de            0.95  \n",
       "3     30.250.74.19       es           78.04  \n",
       "4     24.140.33.94       es           77.82  "
      ]
     },
     "execution_count": 3,
     "metadata": {},
     "output_type": "execute_result"
    }
   ],
   "source": []
  },
  {
   "cell_type": "markdown",
   "id": "d0fb876f",
   "metadata": {},
   "source": [
    "**See Details about the data.**"
   ]
  },
  {
   "cell_type": "code",
   "execution_count": null,
   "id": "62ad6c45",
   "metadata": {},
   "outputs": [
    {
     "name": "stdout",
     "output_type": "stream",
     "text": [
      "<class 'pandas.core.frame.DataFrame'>\n",
      "RangeIndex: 10000 entries, 0 to 9999\n",
      "Data columns (total 14 columns):\n",
      " #   Column            Non-Null Count  Dtype  \n",
      "---  ------            --------------  -----  \n",
      " 0   Address           10000 non-null  object \n",
      " 1   Lot               10000 non-null  object \n",
      " 2   AM or PM          10000 non-null  object \n",
      " 3   Browser Info      10000 non-null  object \n",
      " 4   Company           10000 non-null  object \n",
      " 5   Credit Card       10000 non-null  int64  \n",
      " 6   CC Exp Date       10000 non-null  object \n",
      " 7   CC Security Code  10000 non-null  int64  \n",
      " 8   CC Provider       10000 non-null  object \n",
      " 9   Email             10000 non-null  object \n",
      " 10  Job               10000 non-null  object \n",
      " 11  IP Address        10000 non-null  object \n",
      " 12  Language          10000 non-null  object \n",
      " 13  Purchase Price    10000 non-null  float64\n",
      "dtypes: float64(1), int64(2), object(11)\n",
      "memory usage: 1.1+ MB\n"
     ]
    }
   ],
   "source": []
  },
  {
   "cell_type": "markdown",
   "id": "62b592ce",
   "metadata": {},
   "source": [
    "**Find the average Purchase Price?**"
   ]
  },
  {
   "cell_type": "code",
   "execution_count": null,
   "id": "383db88e",
   "metadata": {},
   "outputs": [
    {
     "data": {
      "text/plain": [
       "np.float64(50.347302)"
      ]
     },
     "execution_count": 7,
     "metadata": {},
     "output_type": "execute_result"
    }
   ],
   "source": []
  },
  {
   "cell_type": "markdown",
   "id": "ccde4589",
   "metadata": {},
   "source": [
    "**Minimum & Maximum Purchase Prices?**"
   ]
  },
  {
   "cell_type": "code",
   "execution_count": null,
   "id": "98ca0e70",
   "metadata": {},
   "outputs": [
    {
     "data": {
      "text/plain": [
       "99.99"
      ]
     },
     "execution_count": 8,
     "metadata": {},
     "output_type": "execute_result"
    }
   ],
   "source": []
  },
  {
   "cell_type": "code",
   "execution_count": null,
   "id": "15f9797d",
   "metadata": {},
   "outputs": [
    {
     "data": {
      "text/plain": [
       "0.0"
      ]
     },
     "execution_count": 9,
     "metadata": {},
     "output_type": "execute_result"
    }
   ],
   "source": []
  },
  {
   "cell_type": "markdown",
   "id": "eae34558",
   "metadata": {},
   "source": [
    "**How many speaks French('fr')**"
   ]
  },
  {
   "cell_type": "code",
   "execution_count": null,
   "id": "ef12ec60",
   "metadata": {},
   "outputs": [
    {
     "data": {
      "text/plain": [
       "Address             1097\n",
       "Lot                 1097\n",
       "AM or PM            1097\n",
       "Browser Info        1097\n",
       "Company             1097\n",
       "Credit Card         1097\n",
       "CC Exp Date         1097\n",
       "CC Security Code    1097\n",
       "CC Provider         1097\n",
       "Email               1097\n",
       "Job                 1097\n",
       "IP Address          1097\n",
       "Language            1097\n",
       "Purchase Price      1097\n",
       "dtype: int64"
      ]
     },
     "execution_count": 11,
     "metadata": {},
     "output_type": "execute_result"
    }
   ],
   "source": []
  },
  {
   "cell_type": "markdown",
   "id": "8a542ddb",
   "metadata": {},
   "source": [
    "**Find how many unique job titles are there?**"
   ]
  },
  {
   "cell_type": "code",
   "execution_count": null,
   "id": "2732e30b",
   "metadata": {},
   "outputs": [
    {
     "data": {
      "text/plain": [
       "array(['Scientist, product/process development', 'Drilling engineer',\n",
       "       'Customer service manager', 'Fine artist', 'Fish farm manager',\n",
       "       'Dancer', 'Event organiser', 'Financial manager',\n",
       "       'Forensic scientist', 'Development worker, community',\n",
       "       'Diagnostic radiographer', 'Surveyor, quantity',\n",
       "       'Accountant, chartered public finance', 'Acupuncturist',\n",
       "       'Retail manager', 'Therapist, art', 'Designer, jewellery',\n",
       "       'Photographer', 'Designer, interior/spatial',\n",
       "       'Public relations officer', 'Presenter, broadcasting',\n",
       "       'Field seismologist', 'Musician',\n",
       "       'Training and development officer', \"Barrister's clerk\",\n",
       "       'Careers adviser', 'Scientist, research (life sciences)',\n",
       "       'Recycling officer', 'Fisheries officer', 'Sales executive',\n",
       "       'Civil Service fast streamer', 'Theatre stage manager',\n",
       "       'Therapist, music', 'Lecturer, further education',\n",
       "       'Animal technologist', 'Psychologist, occupational',\n",
       "       'Music therapist', 'Minerals surveyor',\n",
       "       'Tourist information centre manager', 'Tax inspector',\n",
       "       'Buyer, industrial', 'Purchasing manager', 'Heritage manager',\n",
       "       'Games developer', 'Facilities manager', 'Chemist, analytical',\n",
       "       'Horticulturist, amenity', 'Mechanical engineer',\n",
       "       'Clinical research associate', 'Technical author',\n",
       "       'Radio broadcast assistant', 'Engineer, broadcasting (operations)',\n",
       "       'Clothing/textile technologist', 'Holiday representative',\n",
       "       'Housing manager/officer', 'Teacher, special educational needs',\n",
       "       'Engineer, agricultural', 'Buyer, retail',\n",
       "       'Doctor, general practice', 'Hotel manager',\n",
       "       'Engineer, civil (consulting)', 'General practice doctor',\n",
       "       'Jewellery designer', 'Therapist, speech and language',\n",
       "       'Operational researcher', 'Graphic designer',\n",
       "       'Editorial assistant', 'Financial adviser', 'Paramedic',\n",
       "       'Secretary, company', 'Paediatric nurse',\n",
       "       'Data processing manager', 'Print production planner',\n",
       "       'Engineer, materials', 'Economist', 'Designer, furniture',\n",
       "       'Human resources officer', 'Administrator',\n",
       "       'Teacher, secondary school', 'Video editor',\n",
       "       'Chartered certified accountant',\n",
       "       'Teacher, English as a foreign language', 'Airline pilot',\n",
       "       'Engineer, land', 'Legal secretary', 'Administrator, arts',\n",
       "       'Dealer', 'Town planner', 'Travel agency manager',\n",
       "       'Engineer, water', 'Lecturer, higher education',\n",
       "       'Higher education careers adviser', 'Intelligence analyst',\n",
       "       'Technical sales engineer', 'Dietitian',\n",
       "       'International aid/development worker',\n",
       "       'Learning disability nurse', 'Geneticist, molecular',\n",
       "       'Optometrist', 'Building surveyor', 'Sports therapist',\n",
       "       'Geophysical data processor', 'Multimedia programmer',\n",
       "       'Research scientist (maths)', 'Social worker', 'Camera operator',\n",
       "       'Interpreter', 'Furniture designer', 'Commercial horticulturist',\n",
       "       'Surgeon', 'Psychotherapist, dance movement',\n",
       "       'Information systems manager', 'Music tutor',\n",
       "       'Merchandiser, retail', 'Insurance risk surveyor',\n",
       "       'Armed forces operational officer', 'Homeopath',\n",
       "       'Animal nutritionist', 'Tourism officer', 'Cabin crew',\n",
       "       'Psychiatric nurse', 'Magazine features editor',\n",
       "       'Chartered management accountant', 'Market researcher',\n",
       "       'Mudlogger', 'Textile designer', 'Restaurant manager, fast food',\n",
       "       'Medical laboratory scientific officer',\n",
       "       'Chartered public finance accountant', 'Financial trader',\n",
       "       'Scientist, marine', 'Environmental manager',\n",
       "       'Community education officer', 'Solicitor',\n",
       "       'Psychologist, clinical', 'Occupational therapist',\n",
       "       'Retail merchandiser', 'Mental health nurse', 'Ophthalmologist',\n",
       "       'Insurance underwriter', 'Engineer, aeronautical',\n",
       "       'Chartered accountant', 'Environmental health practitioner',\n",
       "       'Research scientist (life sciences)', 'Wellsite geologist',\n",
       "       'Product designer', 'Armed forces technical officer',\n",
       "       'Television/film/video producer', 'Water quality scientist',\n",
       "       'Furniture conservator/restorer', 'Radio producer',\n",
       "       'Programmer, multimedia', 'Scientist, biomedical',\n",
       "       'Psychologist, sport and exercise', 'Merchant navy officer',\n",
       "       'Designer, television/film set', 'Engineering geologist',\n",
       "       'Health and safety inspector', 'Naval architect', 'Chiropodist',\n",
       "       'Engineer, chemical', 'Scientist, research (medical)',\n",
       "       'Personal assistant', 'Retail banker',\n",
       "       'Advertising account planner', 'Art therapist',\n",
       "       'Forest/woodland manager', 'Research scientist (medical)',\n",
       "       'Scientific laboratory technician', 'Licensed conveyancer',\n",
       "       'Engineer, building services', 'Energy engineer', 'Teacher, music',\n",
       "       'Oncologist', 'Brewing technologist', 'Community arts worker',\n",
       "       'Therapist, drama', 'Water engineer', 'Software engineer',\n",
       "       'Geochemist', 'Designer, industrial/product',\n",
       "       'Nature conservation officer',\n",
       "       'Production designer, theatre/television/film',\n",
       "       'Commercial art gallery manager', 'Exhibition designer',\n",
       "       'Education officer, environmental',\n",
       "       'Runner, broadcasting/film/video', 'Pharmacist, hospital',\n",
       "       'Doctor, hospital', 'Teacher, adult education', 'Sub',\n",
       "       'Podiatrist', 'Air broker', 'Engineer, civil (contracting)',\n",
       "       'Lexicographer', 'Speech and language therapist',\n",
       "       'Catering manager', 'Colour technologist', 'Surveyor, building',\n",
       "       'Agricultural consultant', 'Horticultural therapist',\n",
       "       'Pension scheme manager', 'Theatre manager', 'Producer, radio',\n",
       "       'Scientist, forensic', 'Surveyor, insurance',\n",
       "       'Hospital pharmacist', 'Surveyor, rural practice',\n",
       "       'Industrial/product designer', 'Corporate treasurer',\n",
       "       'Structural engineer', 'Research officer, trade union',\n",
       "       'Pensions consultant', 'Secretary/administrator', 'Firefighter',\n",
       "       'Database administrator', 'Health promotion specialist',\n",
       "       'Operations geologist', 'Regulatory affairs officer',\n",
       "       'Production assistant, radio', 'Press sub',\n",
       "       'Education administrator', 'Biomedical scientist', 'Tour manager',\n",
       "       'Midwife', 'Television floor manager', 'Mining engineer',\n",
       "       'Interior and spatial designer', 'Engineer, energy',\n",
       "       'Publishing rights manager', 'Manufacturing systems engineer',\n",
       "       'Designer, exhibition/display',\n",
       "       'Control and instrumentation engineer', 'Ergonomist',\n",
       "       'Scientist, research (maths)', 'Psychologist, forensic',\n",
       "       'Clinical scientist, histocompatibility and immunogenetics',\n",
       "       'Accommodation manager', 'Administrator, sports',\n",
       "       'Sports development officer', 'Educational psychologist',\n",
       "       'Social research officer, government', 'Quarry manager',\n",
       "       'Medical sales representative', 'Consulting civil engineer',\n",
       "       'Trade union research officer', 'Financial planner',\n",
       "       'Futures trader', 'Medical illustrator', 'Engineer, structural',\n",
       "       'Transport planner', 'Special educational needs teacher',\n",
       "       'Chiropractor', 'Therapist, sports',\n",
       "       'Scientist, research (physical sciences)', 'Site engineer',\n",
       "       'Psychologist, counselling', 'Bonds trader', 'Banker',\n",
       "       'Proofreader', 'Social researcher', 'Analytical chemist',\n",
       "       'Dramatherapist', 'Editor, commissioning', 'Sports administrator',\n",
       "       'Sport and exercise psychologist', 'Garment/textile technologist',\n",
       "       'Engineer, maintenance (IT)', 'Surveyor, building control',\n",
       "       'Media planner', 'Statistician', 'Food technologist',\n",
       "       'Chartered loss adjuster', 'Petroleum engineer',\n",
       "       'Engineer, maintenance', 'Television camera operator',\n",
       "       'Geoscientist', 'Printmaker', 'Artist', 'Hospital doctor',\n",
       "       'Systems analyst', 'Radiographer, therapeutic',\n",
       "       'Freight forwarder', 'Call centre manager', 'Theatre director',\n",
       "       'Occupational psychologist', 'Communications engineer',\n",
       "       'Land/geomatics surveyor', 'Advertising account executive',\n",
       "       'Civil engineer, consulting', 'Medical secretary',\n",
       "       'IT technical support officer', 'Advice worker',\n",
       "       'Visual merchandiser', 'Nurse, mental health',\n",
       "       'Further education lecturer', 'Investment banker, corporate',\n",
       "       'Bookseller', 'Engineer, production', 'Health visitor',\n",
       "       'Archivist', 'Recruitment consultant',\n",
       "       'Conservator, museum/gallery', 'Translator', 'Youth worker',\n",
       "       'Operational investment banker',\n",
       "       'Radiation protection practitioner',\n",
       "       'Research officer, political party', 'Make',\n",
       "       'Horticulturist, commercial', 'Surveyor, hydrographic',\n",
       "       'Engineer, communications', 'Surveyor, minerals', 'Hydrologist',\n",
       "       'Race relations officer', 'Quantity surveyor',\n",
       "       'Geologist, wellsite', 'Museum/gallery conservator',\n",
       "       'Community pharmacist', 'Adult guidance worker',\n",
       "       'Building control surveyor', 'Museum/gallery exhibitions officer',\n",
       "       'Ambulance person', 'Probation officer', 'Orthoptist',\n",
       "       'Charity officer', 'Risk analyst', 'Best boy',\n",
       "       'Arts administrator',\n",
       "       'Lighting technician, broadcasting/film/video',\n",
       "       'Engineer, drilling', 'Engineer, control and instrumentation',\n",
       "       'Medical physicist', 'Dispensing optician',\n",
       "       'Management consultant', 'Commercial/residential surveyor',\n",
       "       'English as a foreign language teacher', 'Engineer, site',\n",
       "       'Automotive engineer', 'Air traffic controller', 'Lawyer',\n",
       "       'Contracting civil engineer', 'Psychotherapist, child',\n",
       "       'Maintenance engineer', 'Science writer',\n",
       "       'Administrator, education', 'Administrator, Civil Service',\n",
       "       'Estate manager/land agent', 'Company secretary',\n",
       "       'Therapist, horticultural', 'Broadcast engineer',\n",
       "       'Sound technician, broadcasting/film/video',\n",
       "       'Private music teacher', 'Engineer, manufacturing',\n",
       "       'Emergency planning/management officer', 'Risk manager',\n",
       "       'IT consultant', 'Geographical information systems officer',\n",
       "       'Equities trader', 'Immigration officer',\n",
       "       'Therapeutic radiographer', 'Curator', 'Child psychotherapist',\n",
       "       'Advertising art director', 'Forensic psychologist',\n",
       "       'Hydrographic surveyor', 'Immunologist', 'Sports coach',\n",
       "       'Haematologist', 'Waste management officer',\n",
       "       'Conservator, furniture', 'Research officer, government',\n",
       "       'Agricultural engineer', 'IT sales professional',\n",
       "       'Armed forces logistics/support/administrative officer',\n",
       "       'Field trials officer', 'Psychotherapist', 'Air cabin crew',\n",
       "       'Psychiatrist', 'Illustrator', 'Marine scientist',\n",
       "       'Multimedia specialist', 'Cytogeneticist',\n",
       "       'Occupational hygienist', 'Charity fundraiser',\n",
       "       'Planning and development surveyor', 'Counselling psychologist',\n",
       "       'Physicist, medical', 'TEFL teacher',\n",
       "       'Research scientist (physical sciences)', 'Fashion designer',\n",
       "       'Engineer, petroleum', 'Tree surgeon',\n",
       "       'Corporate investment banker', 'Public house manager',\n",
       "       'Designer, textile', 'Public librarian',\n",
       "       'Arts development officer', 'Actor', 'Hydrogeologist',\n",
       "       'Production assistant, television', 'Embryologist, clinical',\n",
       "       'Press photographer', 'Marketing executive',\n",
       "       'Television production assistant', 'Early years teacher',\n",
       "       'Landscape architect', 'Librarian, academic', 'Web designer',\n",
       "       'Health service manager', 'Clinical psychologist',\n",
       "       'Exercise physiologist', 'Electrical engineer',\n",
       "       'Psychologist, prison and probation services',\n",
       "       'Journalist, magazine', 'Dance movement psychotherapist',\n",
       "       'Animator', 'Legal executive', 'Plant breeder/geneticist',\n",
       "       'Manufacturing engineer', 'Microbiologist', 'Biochemist, clinical',\n",
       "       'Broadcast presenter', 'Ranger/warden',\n",
       "       'Programme researcher, broadcasting/film/video', 'Dentist',\n",
       "       'Aid worker', 'Publishing copy', 'Environmental education officer',\n",
       "       'Librarian, public', 'Phytotherapist', 'Nurse, adult',\n",
       "       'Programmer, systems', 'Scientist, physiological',\n",
       "       'Secondary school teacher', 'Media buyer', 'Trade mark attorney',\n",
       "       'Editor, film/video', 'Careers information officer',\n",
       "       'Retail buyer', 'Ship broker', 'Lobbyist', 'Location manager',\n",
       "       'Surveyor, mining', 'Systems developer', 'Optician, dispensing',\n",
       "       'Chemical engineer', 'Oceanographer', 'Patent attorney',\n",
       "       'Passenger transport manager', 'Glass blower/designer',\n",
       "       'Psychologist, educational', 'Education officer, museum',\n",
       "       'Patent examiner', 'Logistics and distribution manager',\n",
       "       'Trading standards officer', 'Seismic interpreter',\n",
       "       'Local government officer', 'Clinical cytogeneticist',\n",
       "       'Biomedical engineer', 'Diplomatic Services operational officer',\n",
       "       'Land', 'Surveyor, planning and development', 'Farm manager',\n",
       "       'Claims inspector/assessor', 'Warden/ranger',\n",
       "       'Civil engineer, contracting', 'Clinical molecular geneticist',\n",
       "       'Surveyor, land/geomatics', 'Therapist, nutritional',\n",
       "       'Historic buildings inspector/conservation officer',\n",
       "       'English as a second language teacher', 'Materials engineer',\n",
       "       'Insurance broker', 'Ecologist', 'Production manager',\n",
       "       'Veterinary surgeon', 'Pilot, airline', \"Nurse, children's\",\n",
       "       'Astronomer', 'Architect', 'Conservation officer, nature',\n",
       "       'Personnel officer', 'Network engineer', 'Investment analyst',\n",
       "       'Writer', 'Designer, fashion/clothing', 'Theme park manager',\n",
       "       'Engineer, electrical', 'Art gallery manager', 'Office manager',\n",
       "       'Pharmacologist', 'Meteorologist', 'Estate agent',\n",
       "       \"Politician's assistant\", 'Environmental consultant', 'Osteopath',\n",
       "       'Amenity horticulturist', 'Physiological scientist',\n",
       "       'Public relations account executive',\n",
       "       'Senior tax professional/tax inspector', 'Arboriculturist',\n",
       "       'Radiographer, diagnostic', 'Engineer, automotive',\n",
       "       'Editor, magazine features', 'Sales professional, IT',\n",
       "       'Commissioning editor', 'Ceramics designer',\n",
       "       'Scientist, clinical (histocompatibility and immunogenetics)',\n",
       "       'Geologist, engineering', 'Designer, multimedia',\n",
       "       'Engineer, manufacturing systems', 'Clinical embryologist',\n",
       "       'Medical technical officer', 'Teacher, primary school',\n",
       "       'Set designer', 'Producer, television/film/video',\n",
       "       'Education officer, community',\n",
       "       'Conservation officer, historic buildings',\n",
       "       'Insurance account manager', 'Financial controller',\n",
       "       'Film/video editor', 'Museum/gallery curator',\n",
       "       'Accounting technician', 'Stage manager', 'Physiotherapist',\n",
       "       'Sales promotion account executive', 'Horticultural consultant',\n",
       "       'Journalist, broadcasting', 'Health and safety adviser',\n",
       "       'Building services engineer',\n",
       "       'Product/process development scientist', 'Metallurgist',\n",
       "       'Audiological scientist', 'Designer, blown glass/stained glass',\n",
       "       'Tax adviser', 'Industrial buyer',\n",
       "       'Government social research officer',\n",
       "       'Outdoor activities/education manager', 'Solicitor, Scotland',\n",
       "       'Conference centre manager', 'Health physicist',\n",
       "       'Pharmacist, community', 'Applications developer',\n",
       "       'Public affairs consultant', 'Prison officer',\n",
       "       'Production engineer', 'Actuary', 'Museum education officer',\n",
       "       'Fitness centre manager', 'Records manager',\n",
       "       'Journalist, newspaper', 'Computer games developer',\n",
       "       'Toxicologist', 'Counsellor', 'Therapist, occupational',\n",
       "       'Accountant, chartered certified', 'Insurance claims handler',\n",
       "       'Programmer, applications', 'Accountant, chartered management',\n",
       "       'Broadcast journalist', 'Energy manager', 'Barrister',\n",
       "       'Scientist, audiological', 'Designer, graphic', 'Cartographer',\n",
       "       'Community development worker', 'Engineer, mining',\n",
       "       'Special effects artist', 'Gaffer', 'Civil Service administrator',\n",
       "       'Armed forces training and education officer', 'Quality manager',\n",
       "       'Engineer, electronics', 'Development worker, international aid',\n",
       "       'Restaurant manager', 'Architectural technologist',\n",
       "       'Academic librarian', 'Fast food restaurant manager',\n",
       "       'Rural practice surveyor', 'Designer, ceramics/pottery',\n",
       "       'Police officer', 'Soil scientist', 'Technical brewer',\n",
       "       'Administrator, local government', 'Copywriter, advertising',\n",
       "       'Volunteer coordinator', 'Magazine journalist',\n",
       "       'Information officer', 'Copy', 'Advertising copywriter',\n",
       "       'Engineer, biomedical', 'Nurse, learning disability',\n",
       "       'Aeronautical engineer', 'Archaeologist', 'IT trainer',\n",
       "       'Clinical biochemist',\n",
       "       'Administrator, charities/voluntary organisations', 'Pathologist',\n",
       "       'Geophysicist/field seismologist',\n",
       "       'Investment banker, operational', 'Teacher, early years/pre',\n",
       "       'Electronics engineer', 'Exhibitions officer, museum/gallery',\n",
       "       'Nutritional therapist', 'Teaching laboratory technician',\n",
       "       'Herbalist', 'Leisure centre manager', 'Higher education lecturer',\n",
       "       'Newspaper journalist', 'Accountant, chartered',\n",
       "       'Loss adjuster, chartered', 'Surveyor, commercial/residential',\n",
       "       'Warehouse manager', 'Scientist, water quality',\n",
       "       'Primary school teacher',\n",
       "       'Chartered legal executive (England and Wales)',\n",
       "       'Telecommunications researcher', 'Equality and diversity officer',\n",
       "       'Learning mentor', 'Financial risk analyst',\n",
       "       'Engineer, technical sales', 'Adult nurse'], dtype=object)"
      ]
     },
     "execution_count": 12,
     "metadata": {},
     "output_type": "execute_result"
    }
   ],
   "source": []
  },
  {
   "cell_type": "markdown",
   "id": "bb1dc907",
   "metadata": {},
   "source": [
    "Uff! there a lot of it.\n",
    "\n",
    "**Now find the top 10 most common jobs?**\n",
    "\n",
    "> Hint: Check out the `value_counts()` method of pandas."
   ]
  },
  {
   "cell_type": "code",
   "execution_count": null,
   "id": "c1616033",
   "metadata": {},
   "outputs": [
    {
     "data": {
      "text/plain": [
       "Job\n",
       "Interior and spatial designer        31\n",
       "Lawyer                               30\n",
       "Social researcher                    28\n",
       "Research officer, political party    27\n",
       "Designer, jewellery                  27\n",
       "Purchasing manager                   27\n",
       "Dietitian                            26\n",
       "Charity fundraiser                   26\n",
       "Special educational needs teacher    26\n",
       "Designer, fashion/clothing           26\n",
       "Name: count, dtype: int64"
      ]
     },
     "execution_count": 14,
     "metadata": {},
     "output_type": "execute_result"
    }
   ],
   "source": []
  },
  {
   "cell_type": "markdown",
   "id": "ca2dca1e",
   "metadata": {},
   "source": [
    "**Find the adress of the person who purchased something from the lot '93 Ex' in the PM**"
   ]
  },
  {
   "cell_type": "code",
   "execution_count": null,
   "id": "44d28835",
   "metadata": {},
   "outputs": [
    {
     "data": {
      "text/plain": [
       "9994    6276 Rojas Hollow\\nLake Louis, WY 56410-7837\n",
       "Name: Address, dtype: object"
      ]
     },
     "execution_count": 17,
     "metadata": {},
     "output_type": "execute_result"
    }
   ],
   "source": []
  },
  {
   "cell_type": "markdown",
   "id": "95d6d535",
   "metadata": {},
   "source": [
    "**What is the credit card number of the person who made the highest purchase?**"
   ]
  },
  {
   "cell_type": "code",
   "execution_count": null,
   "id": "07102bb8",
   "metadata": {},
   "outputs": [
    {
     "data": {
      "text/plain": [
       "2092     4292741269160\n",
       "7807    30109394842259\n",
       "Name: Credit Card, dtype: int64"
      ]
     },
     "execution_count": 18,
     "metadata": {},
     "output_type": "execute_result"
    }
   ],
   "source": []
  },
  {
   "cell_type": "markdown",
   "id": "bb6cdd43",
   "metadata": {},
   "source": [
    "**Find how many `Dietitian`s made a purchase over 50?**"
   ]
  },
  {
   "cell_type": "code",
   "execution_count": null,
   "id": "187b95e5",
   "metadata": {},
   "outputs": [
    {
     "data": {
      "text/plain": [
       "Address             20\n",
       "Lot                 20\n",
       "AM or PM            20\n",
       "Browser Info        20\n",
       "Company             20\n",
       "Credit Card         20\n",
       "CC Exp Date         20\n",
       "CC Security Code    20\n",
       "CC Provider         20\n",
       "Email               20\n",
       "Job                 20\n",
       "IP Address          20\n",
       "Language            20\n",
       "Purchase Price      20\n",
       "dtype: int64"
      ]
     },
     "execution_count": 19,
     "metadata": {},
     "output_type": "execute_result"
    }
   ],
   "source": []
  },
  {
   "cell_type": "markdown",
   "id": "7a0b1465",
   "metadata": {},
   "source": [
    "**List out the top 5 most popular email providers/hosts**\n",
    "\n",
    "This is going to be a `hard one`.\n"
   ]
  },
  {
   "cell_type": "code",
   "execution_count": null,
   "id": "a8c899a1",
   "metadata": {},
   "outputs": [
    {
     "data": {
      "text/plain": [
       "Email\n",
       "hotmail.com     1638\n",
       "yahoo.com       1616\n",
       "gmail.com       1605\n",
       "smith.com         42\n",
       "williams.com      37\n",
       "Name: count, dtype: int64"
      ]
     },
     "execution_count": 25,
     "metadata": {},
     "output_type": "execute_result"
    }
   ],
   "source": []
  },
  {
   "cell_type": "markdown",
   "id": "78aebc80",
   "metadata": {},
   "source": [
    "And that's it!"
   ]
  }
 ],
 "metadata": {
  "kernelspec": {
   "display_name": "ml_env",
   "language": "python",
   "name": "python3"
  },
  "language_info": {
   "codemirror_mode": {
    "name": "ipython",
    "version": 3
   },
   "file_extension": ".py",
   "mimetype": "text/x-python",
   "name": "python",
   "nbconvert_exporter": "python",
   "pygments_lexer": "ipython3",
   "version": "3.11.11"
  }
 },
 "nbformat": 4,
 "nbformat_minor": 5
}
