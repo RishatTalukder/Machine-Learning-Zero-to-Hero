{
 "cells": [
  {
   "cell_type": "markdown",
   "id": "2b97d407",
   "metadata": {},
   "source": [
    "# Pandas \n",
    "\n",
    "Time to learn about the most important `data analysis/data processing` tool in the world.\n",
    "\n",
    "- [LinkedIn](https://www.linkedin.com/in/pro-programmer/)\n",
    "- [YouTube](http://www.youtube.com/@itvaya)\n",
    "- [gtihub](https://github.com/RishatTalukder/Machine-Learning-Zero-to-Hero)\n",
    "- [Gmail](talukderrishat2@gmail.com)\n",
    "- [discord](https://discord.gg/ZB495XggcF)\n",
    "\n",
    "# Installation \n",
    "\n",
    "If you have `conda` installed, Just run the following command in your terminal:\n",
    "\n",
    "```bash\n",
    "conda install pandas\n",
    "```\n",
    "\n",
    "Or if you dont't have `conda` installed, just run `pip install pandas` in your terminal.\n",
    "\n",
    "`Pandas` is a `python` library for `data analysis`. Some say it's python's version of `excel`. Well they are not wrong but I would say it's more powerful and easy to use than `excel` and  has a lot of features that is way easier to use than `excel`.\n",
    "\n",
    "For getting the grasp of `pandas` you need to know `two` crucial concepts:\n",
    "\n",
    "1. `Series`\n",
    "2. `DataFrame`\n",
    "\n",
    "And also `pandas` is built on top of `numpy`. So, you need general understanding of `numpy` to understand `pandas` better.\n",
    "\n",
    "> In my [github repo](https://github.com/RishatTalukder/Machine-Learning-Zero-to-Hero) I have section dedicated to `numpy` if you want to learn more about it.\n",
    "\n",
    "So, now let's talk about `pandas` series.\n",
    "\n",
    "# Series\n",
    "\n",
    "A `Series` is a `one-dimensional` array-like object. It is similar to `numpy` array. \n",
    "\n",
    "I'll make 2 variables:"
   ]
  },
  {
   "cell_type": "code",
   "execution_count": 1,
   "id": "64fef281",
   "metadata": {},
   "outputs": [],
   "source": [
    "import numpy as np\n",
    "\n",
    "data = np.array([5,2,4,2])\n",
    "labels = ['a','b','c','d']"
   ]
  },
  {
   "cell_type": "markdown",
   "id": "09af2b0d",
   "metadata": {},
   "source": [
    "I made a simple `numpy` array called `data` and another list variable called `labels`.\n",
    "\n",
    "Now, I use the `data` variable to create a `pandas series`."
   ]
  },
  {
   "cell_type": "code",
   "execution_count": 2,
   "id": "2b633882",
   "metadata": {},
   "outputs": [
    {
     "data": {
      "text/plain": [
       "0    5\n",
       "1    2\n",
       "2    4\n",
       "3    2\n",
       "dtype: int64"
      ]
     },
     "execution_count": 2,
     "metadata": {},
     "output_type": "execute_result"
    }
   ],
   "source": [
    "import pandas as pd\n",
    "\n",
    "series = pd.Series(data)\n",
    "series"
   ]
  },
  {
   "cell_type": "markdown",
   "id": "edba5eeb",
   "metadata": {},
   "source": [
    "And would you look at that!\n",
    "\n",
    "I used the `pandas.Series` to create a `Series` from the `data` array and it looks like a table with `indexes`. Each index corresponds to a value of the array.\n",
    "\n",
    "This is what a `Series` is.\n",
    "\n",
    "Now, what we can do is use these `indexes` to get the a value from the `Series`."
   ]
  },
  {
   "cell_type": "code",
   "execution_count": 3,
   "id": "a20afe25",
   "metadata": {},
   "outputs": [
    {
     "data": {
      "text/plain": [
       "np.int64(5)"
      ]
     },
     "execution_count": 3,
     "metadata": {},
     "output_type": "execute_result"
    }
   ],
   "source": [
    "series[0]"
   ]
  },
  {
   "cell_type": "markdown",
   "id": "9691dec4",
   "metadata": {},
   "source": [
    "See? So, this a series is a pandas representation of a `numpy` array. Right? \n",
    "\n",
    "Looks like that.\n",
    "\n",
    "But, no event though it looks like that, it's more than that.\n",
    "\n",
    "In a normal pandas array, the indexes are unchangeable and always start from `0`. But in a series we can set custom indexes. \n",
    "\n",
    "That's why I tool another python list called `labels` and now what I can do is set the indices of the series to the values of `labels`."
   ]
  },
  {
   "cell_type": "code",
   "execution_count": 4,
   "id": "24994877",
   "metadata": {},
   "outputs": [
    {
     "data": {
      "text/plain": [
       "a    5\n",
       "b    2\n",
       "c    4\n",
       "d    2\n",
       "dtype: int64"
      ]
     },
     "execution_count": 4,
     "metadata": {},
     "output_type": "execute_result"
    }
   ],
   "source": [
    "series2 = pd.Series(data, index=labels)\n",
    "series2"
   ]
  },
  {
   "cell_type": "markdown",
   "id": "d2487234",
   "metadata": {},
   "source": [
    "And now we have a pandas series with custom index. Hmm.... why does this sound familiar? Did we do something like this in python?\n",
    "\n",
    "Yes, we do have a list is python where we can do custom indexing. And that is a `dictionary` or `hashmap` in python. So, we can say that instead of being pandas version of a `numpy` array, it is more like a `pandas` verison of a `python` `dictionary`.\n",
    "\n",
    "> A `dictionary` is a `hashmap` in `python`. A hashmap is a data structure that maps `keys` to `values`. Key are like custom index and values are the corresponding values to the keys.\n",
    "\n",
    "We can also set the index of a `pandas` series that doesn't have a custom index. Like the `series` variable in the previous code block."
   ]
  },
  {
   "cell_type": "code",
   "execution_count": 5,
   "id": "f8b1e07a",
   "metadata": {},
   "outputs": [
    {
     "data": {
      "text/plain": [
       "a    5\n",
       "b    2\n",
       "c    4\n",
       "d    2\n",
       "dtype: int64"
      ]
     },
     "execution_count": 5,
     "metadata": {},
     "output_type": "execute_result"
    }
   ],
   "source": [
    "series.index = labels #setting the index\n",
    "series"
   ]
  },
  {
   "cell_type": "markdown",
   "id": "4aa17a35",
   "metadata": {},
   "source": [
    "> pandas series gives us a attributes like `index` and we can assign values to it. And in the code block above, I assigned the labels variable as the index of the `series`.\n",
    "\n",
    "There is another way we can make a pandas `series`."
   ]
  },
  {
   "cell_type": "code",
   "execution_count": 6,
   "id": "d415a501",
   "metadata": {},
   "outputs": [
    {
     "data": {
      "text/plain": [
       "a    1\n",
       "b    2\n",
       "c    3\n",
       "dtype: int64"
      ]
     },
     "execution_count": 6,
     "metadata": {},
     "output_type": "execute_result"
    }
   ],
   "source": [
    "data = {'a': 1, 'b': 2, 'c': 3}\n",
    "\n",
    "series3 = pd.Series(data)\n",
    "\n",
    "series3"
   ]
  },
  {
   "cell_type": "markdown",
   "id": "16d906e0",
   "metadata": {},
   "source": [
    "That wasn't a shocker, was it? We can make a `pandas` series by directly passing a python `dictionary` to `pandas.Series` function. The `keys` are the `index` and the `values` are the `values`.\n",
    "\n",
    "In the long run we will not be using `serieses` that much for data manipulation. But series is a building block for the most important thing in `pandas` which is `dataframes`.\n",
    "\n",
    "So, It is impoertant we understand `series` to have a better grasp of `pandas`.\n",
    "\n",
    "# Dataframes\n",
    "\n",
    "# basics\n",
    "\n",
    "Simly, `DataFrames` are `tables` of data. \n",
    "\n",
    "I think showing you would be more effective."
   ]
  },
  {
   "cell_type": "code",
   "execution_count": 7,
   "id": "6bc2f148",
   "metadata": {},
   "outputs": [
    {
     "data": {
      "text/plain": [
       "array([[ 1.62434536, -0.61175641, -0.52817175, -1.07296862,  0.86540763],\n",
       "       [-2.3015387 ,  1.74481176, -0.7612069 ,  0.3190391 , -0.24937038],\n",
       "       [ 1.46210794, -2.06014071, -0.3224172 , -0.38405435,  1.13376944],\n",
       "       [-1.09989127, -0.17242821, -0.87785842,  0.04221375,  0.58281521],\n",
       "       [-1.10061918,  1.14472371,  0.90159072,  0.50249434,  0.90085595],\n",
       "       [-0.68372786, -0.12289023, -0.93576943, -0.26788808,  0.53035547]])"
      ]
     },
     "execution_count": 7,
     "metadata": {},
     "output_type": "execute_result"
    }
   ],
   "source": [
    "np.random.seed(1)\n",
    "\n",
    "data = np.random.randn(6,5)\n",
    "data"
   ]
  },
  {
   "cell_type": "markdown",
   "id": "fdcf9632",
   "metadata": {},
   "source": [
    "> Seed() is a mathod to freeze the random number generator in a particular random state so that the same random numbers are generated again and again.\n",
    "\n",
    "I made a `2D` array called `data` with 6 rows and 5 columns.\n",
    "\n",
    "Now, we can make a `pandas` dataframe from the `data` array.\n",
    "\n",
    "`DataFrame()` method works almost exactly like `Series()` method. But the only change is that it has a extra argument. A table has rows and columns. So, to represent the rows and columns We have to pass them as arguments to the `DataFrame()` method."
   ]
  },
  {
   "cell_type": "code",
   "execution_count": 8,
   "id": "856c9d24",
   "metadata": {},
   "outputs": [
    {
     "data": {
      "text/html": [
       "<div>\n",
       "<style scoped>\n",
       "    .dataframe tbody tr th:only-of-type {\n",
       "        vertical-align: middle;\n",
       "    }\n",
       "\n",
       "    .dataframe tbody tr th {\n",
       "        vertical-align: top;\n",
       "    }\n",
       "\n",
       "    .dataframe thead th {\n",
       "        text-align: right;\n",
       "    }\n",
       "</style>\n",
       "<table border=\"1\" class=\"dataframe\">\n",
       "  <thead>\n",
       "    <tr style=\"text-align: right;\">\n",
       "      <th></th>\n",
       "      <th>col1</th>\n",
       "      <th>col2</th>\n",
       "      <th>col3</th>\n",
       "      <th>col4</th>\n",
       "      <th>col5</th>\n",
       "    </tr>\n",
       "  </thead>\n",
       "  <tbody>\n",
       "    <tr>\n",
       "      <th>row1</th>\n",
       "      <td>1.624345</td>\n",
       "      <td>-0.611756</td>\n",
       "      <td>-0.528172</td>\n",
       "      <td>-1.072969</td>\n",
       "      <td>0.865408</td>\n",
       "    </tr>\n",
       "    <tr>\n",
       "      <th>row2</th>\n",
       "      <td>-2.301539</td>\n",
       "      <td>1.744812</td>\n",
       "      <td>-0.761207</td>\n",
       "      <td>0.319039</td>\n",
       "      <td>-0.249370</td>\n",
       "    </tr>\n",
       "    <tr>\n",
       "      <th>row3</th>\n",
       "      <td>1.462108</td>\n",
       "      <td>-2.060141</td>\n",
       "      <td>-0.322417</td>\n",
       "      <td>-0.384054</td>\n",
       "      <td>1.133769</td>\n",
       "    </tr>\n",
       "    <tr>\n",
       "      <th>row4</th>\n",
       "      <td>-1.099891</td>\n",
       "      <td>-0.172428</td>\n",
       "      <td>-0.877858</td>\n",
       "      <td>0.042214</td>\n",
       "      <td>0.582815</td>\n",
       "    </tr>\n",
       "    <tr>\n",
       "      <th>row5</th>\n",
       "      <td>-1.100619</td>\n",
       "      <td>1.144724</td>\n",
       "      <td>0.901591</td>\n",
       "      <td>0.502494</td>\n",
       "      <td>0.900856</td>\n",
       "    </tr>\n",
       "    <tr>\n",
       "      <th>row6</th>\n",
       "      <td>-0.683728</td>\n",
       "      <td>-0.122890</td>\n",
       "      <td>-0.935769</td>\n",
       "      <td>-0.267888</td>\n",
       "      <td>0.530355</td>\n",
       "    </tr>\n",
       "  </tbody>\n",
       "</table>\n",
       "</div>"
      ],
      "text/plain": [
       "          col1      col2      col3      col4      col5\n",
       "row1  1.624345 -0.611756 -0.528172 -1.072969  0.865408\n",
       "row2 -2.301539  1.744812 -0.761207  0.319039 -0.249370\n",
       "row3  1.462108 -2.060141 -0.322417 -0.384054  1.133769\n",
       "row4 -1.099891 -0.172428 -0.877858  0.042214  0.582815\n",
       "row5 -1.100619  1.144724  0.901591  0.502494  0.900856\n",
       "row6 -0.683728 -0.122890 -0.935769 -0.267888  0.530355"
      ]
     },
     "execution_count": 8,
     "metadata": {},
     "output_type": "execute_result"
    }
   ],
   "source": [
    "df = pd.DataFrame(\n",
    "    data=data,\n",
    "    index=['row1', 'row2', 'row3', 'row4', 'row5', 'row6'],\n",
    "    columns=['col1', 'col2', 'col3', 'col4', 'col5']\n",
    ")\n",
    "df"
   ]
  },
  {
   "cell_type": "markdown",
   "id": "521ff463",
   "metadata": {},
   "source": [
    "In one command we have a `pandas` dataframe. With the specified `index` and `columns`.\n",
    "\n",
    "And we can select any column if we want."
   ]
  },
  {
   "cell_type": "code",
   "execution_count": 9,
   "id": "dc453b72",
   "metadata": {},
   "outputs": [
    {
     "data": {
      "text/plain": [
       "row1    1.624345\n",
       "row2   -2.301539\n",
       "row3    1.462108\n",
       "row4   -1.099891\n",
       "row5   -1.100619\n",
       "row6   -0.683728\n",
       "Name: col1, dtype: float64"
      ]
     },
     "execution_count": 9,
     "metadata": {},
     "output_type": "execute_result"
    }
   ],
   "source": [
    "df['col1']"
   ]
  },
  {
   "cell_type": "code",
   "execution_count": 10,
   "id": "b5c178a1",
   "metadata": {},
   "outputs": [
    {
     "data": {
      "text/plain": [
       "row1   -0.611756\n",
       "row2    1.744812\n",
       "row3   -2.060141\n",
       "row4   -0.172428\n",
       "row5    1.144724\n",
       "row6   -0.122890\n",
       "Name: col2, dtype: float64"
      ]
     },
     "execution_count": 10,
     "metadata": {},
     "output_type": "execute_result"
    }
   ],
   "source": [
    "df['col2']"
   ]
  },
  {
   "cell_type": "markdown",
   "id": "9439bbe5",
   "metadata": {},
   "source": [
    "Have we see this kinda output before?\n",
    "\n",
    "If we check out the type of a single column, we might get a surprise."
   ]
  },
  {
   "cell_type": "code",
   "execution_count": 11,
   "id": "0628a14f",
   "metadata": {},
   "outputs": [
    {
     "data": {
      "text/plain": [
       "pandas.core.series.Series"
      ]
     },
     "execution_count": 11,
     "metadata": {},
     "output_type": "execute_result"
    }
   ],
   "source": [
    "type(df['col1'])"
   ]
  },
  {
   "cell_type": "markdown",
   "id": "6cc7c08e",
   "metadata": {},
   "source": [
    "Owh!\n",
    "\n",
    "That's surprising.\n",
    "\n",
    "It's a `pandas` series.\n",
    "\n",
    "Does that mean every single column in a `pandas` dataframe is a `pandas` series?\n",
    "\n",
    "`YES!`\n",
    "\n",
    "Pandas `dataframe` is a collection of multiple `pandas` series.\n",
    "\n",
    "If we see type of the whole `dataframe`."
   ]
  },
  {
   "cell_type": "code",
   "execution_count": 12,
   "id": "b8f14af2",
   "metadata": {},
   "outputs": [
    {
     "data": {
      "text/plain": [
       "pandas.core.frame.DataFrame"
      ]
     },
     "execution_count": 12,
     "metadata": {},
     "output_type": "execute_result"
    }
   ],
   "source": [
    "type(df)"
   ]
  },
  {
   "cell_type": "markdown",
   "id": "1a7d8c77",
   "metadata": {},
   "source": [
    "We can clearly see that it is a `pandas` dataframe. But individual columns are `pandas` series.\n",
    "\n",
    "And that means the indexes are `series` indexes that are common to all the columns.\n",
    "\n",
    "It's an important detail that will come in handy later on.\n",
    "\n",
    "Now, what about selecting multiple columns?\n",
    "\n",
    "We can do that by passing a list inside the `square brackets` to the `pandas` dataframe.\n"
   ]
  },
  {
   "cell_type": "code",
   "execution_count": 13,
   "id": "f443312d",
   "metadata": {},
   "outputs": [
    {
     "data": {
      "text/html": [
       "<div>\n",
       "<style scoped>\n",
       "    .dataframe tbody tr th:only-of-type {\n",
       "        vertical-align: middle;\n",
       "    }\n",
       "\n",
       "    .dataframe tbody tr th {\n",
       "        vertical-align: top;\n",
       "    }\n",
       "\n",
       "    .dataframe thead th {\n",
       "        text-align: right;\n",
       "    }\n",
       "</style>\n",
       "<table border=\"1\" class=\"dataframe\">\n",
       "  <thead>\n",
       "    <tr style=\"text-align: right;\">\n",
       "      <th></th>\n",
       "      <th>col2</th>\n",
       "      <th>col3</th>\n",
       "      <th>col3</th>\n",
       "    </tr>\n",
       "  </thead>\n",
       "  <tbody>\n",
       "    <tr>\n",
       "      <th>row1</th>\n",
       "      <td>-0.611756</td>\n",
       "      <td>-0.528172</td>\n",
       "      <td>-0.528172</td>\n",
       "    </tr>\n",
       "    <tr>\n",
       "      <th>row2</th>\n",
       "      <td>1.744812</td>\n",
       "      <td>-0.761207</td>\n",
       "      <td>-0.761207</td>\n",
       "    </tr>\n",
       "    <tr>\n",
       "      <th>row3</th>\n",
       "      <td>-2.060141</td>\n",
       "      <td>-0.322417</td>\n",
       "      <td>-0.322417</td>\n",
       "    </tr>\n",
       "    <tr>\n",
       "      <th>row4</th>\n",
       "      <td>-0.172428</td>\n",
       "      <td>-0.877858</td>\n",
       "      <td>-0.877858</td>\n",
       "    </tr>\n",
       "    <tr>\n",
       "      <th>row5</th>\n",
       "      <td>1.144724</td>\n",
       "      <td>0.901591</td>\n",
       "      <td>0.901591</td>\n",
       "    </tr>\n",
       "    <tr>\n",
       "      <th>row6</th>\n",
       "      <td>-0.122890</td>\n",
       "      <td>-0.935769</td>\n",
       "      <td>-0.935769</td>\n",
       "    </tr>\n",
       "  </tbody>\n",
       "</table>\n",
       "</div>"
      ],
      "text/plain": [
       "          col2      col3      col3\n",
       "row1 -0.611756 -0.528172 -0.528172\n",
       "row2  1.744812 -0.761207 -0.761207\n",
       "row3 -2.060141 -0.322417 -0.322417\n",
       "row4 -0.172428 -0.877858 -0.877858\n",
       "row5  1.144724  0.901591  0.901591\n",
       "row6 -0.122890 -0.935769 -0.935769"
      ]
     },
     "execution_count": 13,
     "metadata": {},
     "output_type": "execute_result"
    }
   ],
   "source": [
    "df[['col2', 'col3', 'col3']]"
   ]
  },
  {
   "cell_type": "markdown",
   "id": "26a8dfd9",
   "metadata": {},
   "source": [
    "It'll give us the data with the columns we need.\n",
    "\n",
    "And we can also make new columns if we want."
   ]
  },
  {
   "cell_type": "code",
   "execution_count": 14,
   "id": "5abe4620",
   "metadata": {},
   "outputs": [
    {
     "data": {
      "text/plain": [
       "array([-0.69166075, -0.39675353, -0.6871727 ])"
      ]
     },
     "execution_count": 14,
     "metadata": {},
     "output_type": "execute_result"
    }
   ],
   "source": [
    "new_column_data = np.random.randn(3)\n",
    "new_column_data"
   ]
  },
  {
   "cell_type": "markdown",
   "id": "fbe923ae",
   "metadata": {},
   "source": [
    "I generated a `numpy` array called `new_column_data` with 3 elements. \n",
    "\n",
    "Now we can add these as new column by:"
   ]
  },
  {
   "cell_type": "code",
   "execution_count": 15,
   "id": "9cee58b1",
   "metadata": {},
   "outputs": [
    {
     "ename": "ValueError",
     "evalue": "Length of values (3) does not match length of index (6)",
     "output_type": "error",
     "traceback": [
      "\u001b[31m---------------------------------------------------------------------------\u001b[39m",
      "\u001b[31mValueError\u001b[39m                                Traceback (most recent call last)",
      "\u001b[36mCell\u001b[39m\u001b[36m \u001b[39m\u001b[32mIn[15]\u001b[39m\u001b[32m, line 1\u001b[39m\n\u001b[32m----> \u001b[39m\u001b[32m1\u001b[39m df[\u001b[33m'\u001b[39m\u001b[33mnew\u001b[39m\u001b[33m'\u001b[39m] = new_column_data\n\u001b[32m      2\u001b[39m df\n",
      "\u001b[36mFile \u001b[39m\u001b[32m~/miniconda3/envs/ml_env/lib/python3.11/site-packages/pandas/core/frame.py:4322\u001b[39m, in \u001b[36mDataFrame.__setitem__\u001b[39m\u001b[34m(self, key, value)\u001b[39m\n\u001b[32m   4319\u001b[39m     \u001b[38;5;28mself\u001b[39m._setitem_array([key], value)\n\u001b[32m   4320\u001b[39m \u001b[38;5;28;01melse\u001b[39;00m:\n\u001b[32m   4321\u001b[39m     \u001b[38;5;66;03m# set column\u001b[39;00m\n\u001b[32m-> \u001b[39m\u001b[32m4322\u001b[39m     \u001b[38;5;28mself\u001b[39m._set_item(key, value)\n",
      "\u001b[36mFile \u001b[39m\u001b[32m~/miniconda3/envs/ml_env/lib/python3.11/site-packages/pandas/core/frame.py:4535\u001b[39m, in \u001b[36mDataFrame._set_item\u001b[39m\u001b[34m(self, key, value)\u001b[39m\n\u001b[32m   4525\u001b[39m \u001b[38;5;28;01mdef\u001b[39;00m\u001b[38;5;250m \u001b[39m\u001b[34m_set_item\u001b[39m(\u001b[38;5;28mself\u001b[39m, key, value) -> \u001b[38;5;28;01mNone\u001b[39;00m:\n\u001b[32m   4526\u001b[39m \u001b[38;5;250m    \u001b[39m\u001b[33;03m\"\"\"\u001b[39;00m\n\u001b[32m   4527\u001b[39m \u001b[33;03m    Add series to DataFrame in specified column.\u001b[39;00m\n\u001b[32m   4528\u001b[39m \n\u001b[32m   (...)\u001b[39m\u001b[32m   4533\u001b[39m \u001b[33;03m    ensure homogeneity.\u001b[39;00m\n\u001b[32m   4534\u001b[39m \u001b[33;03m    \"\"\"\u001b[39;00m\n\u001b[32m-> \u001b[39m\u001b[32m4535\u001b[39m     value, refs = \u001b[38;5;28mself\u001b[39m._sanitize_column(value)\n\u001b[32m   4537\u001b[39m     \u001b[38;5;28;01mif\u001b[39;00m (\n\u001b[32m   4538\u001b[39m         key \u001b[38;5;129;01min\u001b[39;00m \u001b[38;5;28mself\u001b[39m.columns\n\u001b[32m   4539\u001b[39m         \u001b[38;5;129;01mand\u001b[39;00m value.ndim == \u001b[32m1\u001b[39m\n\u001b[32m   4540\u001b[39m         \u001b[38;5;129;01mand\u001b[39;00m \u001b[38;5;129;01mnot\u001b[39;00m \u001b[38;5;28misinstance\u001b[39m(value.dtype, ExtensionDtype)\n\u001b[32m   4541\u001b[39m     ):\n\u001b[32m   4542\u001b[39m         \u001b[38;5;66;03m# broadcast across multiple columns if necessary\u001b[39;00m\n\u001b[32m   4543\u001b[39m         \u001b[38;5;28;01mif\u001b[39;00m \u001b[38;5;129;01mnot\u001b[39;00m \u001b[38;5;28mself\u001b[39m.columns.is_unique \u001b[38;5;129;01mor\u001b[39;00m \u001b[38;5;28misinstance\u001b[39m(\u001b[38;5;28mself\u001b[39m.columns, MultiIndex):\n",
      "\u001b[36mFile \u001b[39m\u001b[32m~/miniconda3/envs/ml_env/lib/python3.11/site-packages/pandas/core/frame.py:5288\u001b[39m, in \u001b[36mDataFrame._sanitize_column\u001b[39m\u001b[34m(self, value)\u001b[39m\n\u001b[32m   5285\u001b[39m     \u001b[38;5;28;01mreturn\u001b[39;00m _reindex_for_setitem(value, \u001b[38;5;28mself\u001b[39m.index)\n\u001b[32m   5287\u001b[39m \u001b[38;5;28;01mif\u001b[39;00m is_list_like(value):\n\u001b[32m-> \u001b[39m\u001b[32m5288\u001b[39m     com.require_length_match(value, \u001b[38;5;28mself\u001b[39m.index)\n\u001b[32m   5289\u001b[39m arr = sanitize_array(value, \u001b[38;5;28mself\u001b[39m.index, copy=\u001b[38;5;28;01mTrue\u001b[39;00m, allow_2d=\u001b[38;5;28;01mTrue\u001b[39;00m)\n\u001b[32m   5290\u001b[39m \u001b[38;5;28;01mif\u001b[39;00m (\n\u001b[32m   5291\u001b[39m     \u001b[38;5;28misinstance\u001b[39m(value, Index)\n\u001b[32m   5292\u001b[39m     \u001b[38;5;129;01mand\u001b[39;00m value.dtype == \u001b[33m\"\u001b[39m\u001b[33mobject\u001b[39m\u001b[33m\"\u001b[39m\n\u001b[32m   (...)\u001b[39m\u001b[32m   5295\u001b[39m     \u001b[38;5;66;03m# TODO: Remove kludge in sanitize_array for string mode when enforcing\u001b[39;00m\n\u001b[32m   5296\u001b[39m     \u001b[38;5;66;03m# this deprecation\u001b[39;00m\n",
      "\u001b[36mFile \u001b[39m\u001b[32m~/miniconda3/envs/ml_env/lib/python3.11/site-packages/pandas/core/common.py:573\u001b[39m, in \u001b[36mrequire_length_match\u001b[39m\u001b[34m(data, index)\u001b[39m\n\u001b[32m    569\u001b[39m \u001b[38;5;250m\u001b[39m\u001b[33;03m\"\"\"\u001b[39;00m\n\u001b[32m    570\u001b[39m \u001b[33;03mCheck the length of data matches the length of the index.\u001b[39;00m\n\u001b[32m    571\u001b[39m \u001b[33;03m\"\"\"\u001b[39;00m\n\u001b[32m    572\u001b[39m \u001b[38;5;28;01mif\u001b[39;00m \u001b[38;5;28mlen\u001b[39m(data) != \u001b[38;5;28mlen\u001b[39m(index):\n\u001b[32m--> \u001b[39m\u001b[32m573\u001b[39m     \u001b[38;5;28;01mraise\u001b[39;00m \u001b[38;5;167;01mValueError\u001b[39;00m(\n\u001b[32m    574\u001b[39m         \u001b[33m\"\u001b[39m\u001b[33mLength of values \u001b[39m\u001b[33m\"\u001b[39m\n\u001b[32m    575\u001b[39m         \u001b[33mf\u001b[39m\u001b[33m\"\u001b[39m\u001b[33m(\u001b[39m\u001b[38;5;132;01m{\u001b[39;00m\u001b[38;5;28mlen\u001b[39m(data)\u001b[38;5;132;01m}\u001b[39;00m\u001b[33m) \u001b[39m\u001b[33m\"\u001b[39m\n\u001b[32m    576\u001b[39m         \u001b[33m\"\u001b[39m\u001b[33mdoes not match length of index \u001b[39m\u001b[33m\"\u001b[39m\n\u001b[32m    577\u001b[39m         \u001b[33mf\u001b[39m\u001b[33m\"\u001b[39m\u001b[33m(\u001b[39m\u001b[38;5;132;01m{\u001b[39;00m\u001b[38;5;28mlen\u001b[39m(index)\u001b[38;5;132;01m}\u001b[39;00m\u001b[33m)\u001b[39m\u001b[33m\"\u001b[39m\n\u001b[32m    578\u001b[39m     )\n",
      "\u001b[31mValueError\u001b[39m: Length of values (3) does not match length of index (6)"
     ]
    }
   ],
   "source": [
    "df['new'] = new_column_data\n",
    "df"
   ]
  },
  {
   "cell_type": "markdown",
   "id": "66383c12",
   "metadata": {},
   "source": [
    "ANNNND we have a big big error.\n",
    "\n",
    "This error is saying that the new column does not have enough rows.\n",
    "\n",
    "> If you want to make a new column you have to make sure it has the same amount of rows as the dataframe.\n",
    "\n",
    "As I made a column with only 3 random values, where the dataframe has `6` rows, we get this error.\n",
    "\n",
    "So, we make a `column` with the same number of rows as the `dataframe` and then we add it to the `dataframe`."
   ]
  },
  {
   "cell_type": "code",
   "execution_count": 16,
   "id": "0c356253",
   "metadata": {},
   "outputs": [
    {
     "data": {
      "text/html": [
       "<div>\n",
       "<style scoped>\n",
       "    .dataframe tbody tr th:only-of-type {\n",
       "        vertical-align: middle;\n",
       "    }\n",
       "\n",
       "    .dataframe tbody tr th {\n",
       "        vertical-align: top;\n",
       "    }\n",
       "\n",
       "    .dataframe thead th {\n",
       "        text-align: right;\n",
       "    }\n",
       "</style>\n",
       "<table border=\"1\" class=\"dataframe\">\n",
       "  <thead>\n",
       "    <tr style=\"text-align: right;\">\n",
       "      <th></th>\n",
       "      <th>col1</th>\n",
       "      <th>col2</th>\n",
       "      <th>col3</th>\n",
       "      <th>col4</th>\n",
       "      <th>col5</th>\n",
       "      <th>new</th>\n",
       "    </tr>\n",
       "  </thead>\n",
       "  <tbody>\n",
       "    <tr>\n",
       "      <th>row1</th>\n",
       "      <td>1.624345</td>\n",
       "      <td>-0.611756</td>\n",
       "      <td>-0.528172</td>\n",
       "      <td>-1.072969</td>\n",
       "      <td>0.865408</td>\n",
       "      <td>-0.845206</td>\n",
       "    </tr>\n",
       "    <tr>\n",
       "      <th>row2</th>\n",
       "      <td>-2.301539</td>\n",
       "      <td>1.744812</td>\n",
       "      <td>-0.761207</td>\n",
       "      <td>0.319039</td>\n",
       "      <td>-0.249370</td>\n",
       "      <td>-0.671246</td>\n",
       "    </tr>\n",
       "    <tr>\n",
       "      <th>row3</th>\n",
       "      <td>1.462108</td>\n",
       "      <td>-2.060141</td>\n",
       "      <td>-0.322417</td>\n",
       "      <td>-0.384054</td>\n",
       "      <td>1.133769</td>\n",
       "      <td>-0.012665</td>\n",
       "    </tr>\n",
       "    <tr>\n",
       "      <th>row4</th>\n",
       "      <td>-1.099891</td>\n",
       "      <td>-0.172428</td>\n",
       "      <td>-0.877858</td>\n",
       "      <td>0.042214</td>\n",
       "      <td>0.582815</td>\n",
       "      <td>-1.117310</td>\n",
       "    </tr>\n",
       "    <tr>\n",
       "      <th>row5</th>\n",
       "      <td>-1.100619</td>\n",
       "      <td>1.144724</td>\n",
       "      <td>0.901591</td>\n",
       "      <td>0.502494</td>\n",
       "      <td>0.900856</td>\n",
       "      <td>0.234416</td>\n",
       "    </tr>\n",
       "    <tr>\n",
       "      <th>row6</th>\n",
       "      <td>-0.683728</td>\n",
       "      <td>-0.122890</td>\n",
       "      <td>-0.935769</td>\n",
       "      <td>-0.267888</td>\n",
       "      <td>0.530355</td>\n",
       "      <td>1.659802</td>\n",
       "    </tr>\n",
       "  </tbody>\n",
       "</table>\n",
       "</div>"
      ],
      "text/plain": [
       "          col1      col2      col3      col4      col5       new\n",
       "row1  1.624345 -0.611756 -0.528172 -1.072969  0.865408 -0.845206\n",
       "row2 -2.301539  1.744812 -0.761207  0.319039 -0.249370 -0.671246\n",
       "row3  1.462108 -2.060141 -0.322417 -0.384054  1.133769 -0.012665\n",
       "row4 -1.099891 -0.172428 -0.877858  0.042214  0.582815 -1.117310\n",
       "row5 -1.100619  1.144724  0.901591  0.502494  0.900856  0.234416\n",
       "row6 -0.683728 -0.122890 -0.935769 -0.267888  0.530355  1.659802"
      ]
     },
     "execution_count": 16,
     "metadata": {},
     "output_type": "execute_result"
    }
   ],
   "source": [
    "new_column_data = np.random.randn(6)\n",
    "df['new'] = new_column_data\n",
    "df"
   ]
  },
  {
   "cell_type": "markdown",
   "id": "8dcfe3a0",
   "metadata": {},
   "source": [
    "And it is done.\n",
    "\n",
    "We have a new column called `new` in the `dataframe`.\n",
    "\n",
    "Now, to `remove` a column we can simply do:"
   ]
  },
  {
   "cell_type": "code",
   "execution_count": 17,
   "id": "d680ecb9",
   "metadata": {},
   "outputs": [
    {
     "data": {
      "text/html": [
       "<div>\n",
       "<style scoped>\n",
       "    .dataframe tbody tr th:only-of-type {\n",
       "        vertical-align: middle;\n",
       "    }\n",
       "\n",
       "    .dataframe tbody tr th {\n",
       "        vertical-align: top;\n",
       "    }\n",
       "\n",
       "    .dataframe thead th {\n",
       "        text-align: right;\n",
       "    }\n",
       "</style>\n",
       "<table border=\"1\" class=\"dataframe\">\n",
       "  <thead>\n",
       "    <tr style=\"text-align: right;\">\n",
       "      <th></th>\n",
       "      <th>col1</th>\n",
       "      <th>col2</th>\n",
       "      <th>col3</th>\n",
       "      <th>col4</th>\n",
       "      <th>col5</th>\n",
       "    </tr>\n",
       "  </thead>\n",
       "  <tbody>\n",
       "    <tr>\n",
       "      <th>row1</th>\n",
       "      <td>1.624345</td>\n",
       "      <td>-0.611756</td>\n",
       "      <td>-0.528172</td>\n",
       "      <td>-1.072969</td>\n",
       "      <td>0.865408</td>\n",
       "    </tr>\n",
       "    <tr>\n",
       "      <th>row2</th>\n",
       "      <td>-2.301539</td>\n",
       "      <td>1.744812</td>\n",
       "      <td>-0.761207</td>\n",
       "      <td>0.319039</td>\n",
       "      <td>-0.249370</td>\n",
       "    </tr>\n",
       "    <tr>\n",
       "      <th>row3</th>\n",
       "      <td>1.462108</td>\n",
       "      <td>-2.060141</td>\n",
       "      <td>-0.322417</td>\n",
       "      <td>-0.384054</td>\n",
       "      <td>1.133769</td>\n",
       "    </tr>\n",
       "    <tr>\n",
       "      <th>row4</th>\n",
       "      <td>-1.099891</td>\n",
       "      <td>-0.172428</td>\n",
       "      <td>-0.877858</td>\n",
       "      <td>0.042214</td>\n",
       "      <td>0.582815</td>\n",
       "    </tr>\n",
       "    <tr>\n",
       "      <th>row5</th>\n",
       "      <td>-1.100619</td>\n",
       "      <td>1.144724</td>\n",
       "      <td>0.901591</td>\n",
       "      <td>0.502494</td>\n",
       "      <td>0.900856</td>\n",
       "    </tr>\n",
       "    <tr>\n",
       "      <th>row6</th>\n",
       "      <td>-0.683728</td>\n",
       "      <td>-0.122890</td>\n",
       "      <td>-0.935769</td>\n",
       "      <td>-0.267888</td>\n",
       "      <td>0.530355</td>\n",
       "    </tr>\n",
       "  </tbody>\n",
       "</table>\n",
       "</div>"
      ],
      "text/plain": [
       "          col1      col2      col3      col4      col5\n",
       "row1  1.624345 -0.611756 -0.528172 -1.072969  0.865408\n",
       "row2 -2.301539  1.744812 -0.761207  0.319039 -0.249370\n",
       "row3  1.462108 -2.060141 -0.322417 -0.384054  1.133769\n",
       "row4 -1.099891 -0.172428 -0.877858  0.042214  0.582815\n",
       "row5 -1.100619  1.144724  0.901591  0.502494  0.900856\n",
       "row6 -0.683728 -0.122890 -0.935769 -0.267888  0.530355"
      ]
     },
     "execution_count": 17,
     "metadata": {},
     "output_type": "execute_result"
    }
   ],
   "source": [
    "df.drop(columns='new')"
   ]
  },
  {
   "cell_type": "markdown",
   "id": "04e84643",
   "metadata": {},
   "source": [
    "And done!\n",
    "\n",
    "`The new column is gone! or is it?!`"
   ]
  },
  {
   "cell_type": "code",
   "execution_count": 18,
   "id": "cd5a65a5",
   "metadata": {},
   "outputs": [
    {
     "data": {
      "text/html": [
       "<div>\n",
       "<style scoped>\n",
       "    .dataframe tbody tr th:only-of-type {\n",
       "        vertical-align: middle;\n",
       "    }\n",
       "\n",
       "    .dataframe tbody tr th {\n",
       "        vertical-align: top;\n",
       "    }\n",
       "\n",
       "    .dataframe thead th {\n",
       "        text-align: right;\n",
       "    }\n",
       "</style>\n",
       "<table border=\"1\" class=\"dataframe\">\n",
       "  <thead>\n",
       "    <tr style=\"text-align: right;\">\n",
       "      <th></th>\n",
       "      <th>col1</th>\n",
       "      <th>col2</th>\n",
       "      <th>col3</th>\n",
       "      <th>col4</th>\n",
       "      <th>col5</th>\n",
       "      <th>new</th>\n",
       "    </tr>\n",
       "  </thead>\n",
       "  <tbody>\n",
       "    <tr>\n",
       "      <th>row1</th>\n",
       "      <td>1.624345</td>\n",
       "      <td>-0.611756</td>\n",
       "      <td>-0.528172</td>\n",
       "      <td>-1.072969</td>\n",
       "      <td>0.865408</td>\n",
       "      <td>-0.845206</td>\n",
       "    </tr>\n",
       "    <tr>\n",
       "      <th>row2</th>\n",
       "      <td>-2.301539</td>\n",
       "      <td>1.744812</td>\n",
       "      <td>-0.761207</td>\n",
       "      <td>0.319039</td>\n",
       "      <td>-0.249370</td>\n",
       "      <td>-0.671246</td>\n",
       "    </tr>\n",
       "    <tr>\n",
       "      <th>row3</th>\n",
       "      <td>1.462108</td>\n",
       "      <td>-2.060141</td>\n",
       "      <td>-0.322417</td>\n",
       "      <td>-0.384054</td>\n",
       "      <td>1.133769</td>\n",
       "      <td>-0.012665</td>\n",
       "    </tr>\n",
       "    <tr>\n",
       "      <th>row4</th>\n",
       "      <td>-1.099891</td>\n",
       "      <td>-0.172428</td>\n",
       "      <td>-0.877858</td>\n",
       "      <td>0.042214</td>\n",
       "      <td>0.582815</td>\n",
       "      <td>-1.117310</td>\n",
       "    </tr>\n",
       "    <tr>\n",
       "      <th>row5</th>\n",
       "      <td>-1.100619</td>\n",
       "      <td>1.144724</td>\n",
       "      <td>0.901591</td>\n",
       "      <td>0.502494</td>\n",
       "      <td>0.900856</td>\n",
       "      <td>0.234416</td>\n",
       "    </tr>\n",
       "    <tr>\n",
       "      <th>row6</th>\n",
       "      <td>-0.683728</td>\n",
       "      <td>-0.122890</td>\n",
       "      <td>-0.935769</td>\n",
       "      <td>-0.267888</td>\n",
       "      <td>0.530355</td>\n",
       "      <td>1.659802</td>\n",
       "    </tr>\n",
       "  </tbody>\n",
       "</table>\n",
       "</div>"
      ],
      "text/plain": [
       "          col1      col2      col3      col4      col5       new\n",
       "row1  1.624345 -0.611756 -0.528172 -1.072969  0.865408 -0.845206\n",
       "row2 -2.301539  1.744812 -0.761207  0.319039 -0.249370 -0.671246\n",
       "row3  1.462108 -2.060141 -0.322417 -0.384054  1.133769 -0.012665\n",
       "row4 -1.099891 -0.172428 -0.877858  0.042214  0.582815 -1.117310\n",
       "row5 -1.100619  1.144724  0.901591  0.502494  0.900856  0.234416\n",
       "row6 -0.683728 -0.122890 -0.935769 -0.267888  0.530355  1.659802"
      ]
     },
     "execution_count": 18,
     "metadata": {},
     "output_type": "execute_result"
    }
   ],
   "source": [
    "df"
   ]
  },
  {
   "cell_type": "markdown",
   "id": "c071a463",
   "metadata": {},
   "source": [
    "Huh!\n",
    "\n",
    "Why is the column still there even though we `removed` it? in the previous command?\n",
    "\n",
    "> The `drop()` method returns a new `pandas` dataframe that does not have the column we removed. But it doesn't permanently remove the column.\n",
    "\n",
    "And that's why to permanently remove a column we can pass an extra argument called `inplace=True` to the `drop()` method. \n",
    "\n",
    "This tells the `drop()` method to permanently remove the column."
   ]
  },
  {
   "cell_type": "code",
   "execution_count": 19,
   "id": "456642bc",
   "metadata": {},
   "outputs": [
    {
     "data": {
      "text/html": [
       "<div>\n",
       "<style scoped>\n",
       "    .dataframe tbody tr th:only-of-type {\n",
       "        vertical-align: middle;\n",
       "    }\n",
       "\n",
       "    .dataframe tbody tr th {\n",
       "        vertical-align: top;\n",
       "    }\n",
       "\n",
       "    .dataframe thead th {\n",
       "        text-align: right;\n",
       "    }\n",
       "</style>\n",
       "<table border=\"1\" class=\"dataframe\">\n",
       "  <thead>\n",
       "    <tr style=\"text-align: right;\">\n",
       "      <th></th>\n",
       "      <th>col1</th>\n",
       "      <th>col2</th>\n",
       "      <th>col3</th>\n",
       "      <th>col4</th>\n",
       "      <th>col5</th>\n",
       "    </tr>\n",
       "  </thead>\n",
       "  <tbody>\n",
       "    <tr>\n",
       "      <th>row1</th>\n",
       "      <td>1.624345</td>\n",
       "      <td>-0.611756</td>\n",
       "      <td>-0.528172</td>\n",
       "      <td>-1.072969</td>\n",
       "      <td>0.865408</td>\n",
       "    </tr>\n",
       "    <tr>\n",
       "      <th>row2</th>\n",
       "      <td>-2.301539</td>\n",
       "      <td>1.744812</td>\n",
       "      <td>-0.761207</td>\n",
       "      <td>0.319039</td>\n",
       "      <td>-0.249370</td>\n",
       "    </tr>\n",
       "    <tr>\n",
       "      <th>row3</th>\n",
       "      <td>1.462108</td>\n",
       "      <td>-2.060141</td>\n",
       "      <td>-0.322417</td>\n",
       "      <td>-0.384054</td>\n",
       "      <td>1.133769</td>\n",
       "    </tr>\n",
       "    <tr>\n",
       "      <th>row4</th>\n",
       "      <td>-1.099891</td>\n",
       "      <td>-0.172428</td>\n",
       "      <td>-0.877858</td>\n",
       "      <td>0.042214</td>\n",
       "      <td>0.582815</td>\n",
       "    </tr>\n",
       "    <tr>\n",
       "      <th>row5</th>\n",
       "      <td>-1.100619</td>\n",
       "      <td>1.144724</td>\n",
       "      <td>0.901591</td>\n",
       "      <td>0.502494</td>\n",
       "      <td>0.900856</td>\n",
       "    </tr>\n",
       "    <tr>\n",
       "      <th>row6</th>\n",
       "      <td>-0.683728</td>\n",
       "      <td>-0.122890</td>\n",
       "      <td>-0.935769</td>\n",
       "      <td>-0.267888</td>\n",
       "      <td>0.530355</td>\n",
       "    </tr>\n",
       "  </tbody>\n",
       "</table>\n",
       "</div>"
      ],
      "text/plain": [
       "          col1      col2      col3      col4      col5\n",
       "row1  1.624345 -0.611756 -0.528172 -1.072969  0.865408\n",
       "row2 -2.301539  1.744812 -0.761207  0.319039 -0.249370\n",
       "row3  1.462108 -2.060141 -0.322417 -0.384054  1.133769\n",
       "row4 -1.099891 -0.172428 -0.877858  0.042214  0.582815\n",
       "row5 -1.100619  1.144724  0.901591  0.502494  0.900856\n",
       "row6 -0.683728 -0.122890 -0.935769 -0.267888  0.530355"
      ]
     },
     "execution_count": 19,
     "metadata": {},
     "output_type": "execute_result"
    }
   ],
   "source": [
    "df.drop(\n",
    "    columns='new',\n",
    "    inplace=True\n",
    ")\n",
    "df"
   ]
  },
  {
   "cell_type": "markdown",
   "id": "e035539f",
   "metadata": {},
   "source": [
    "And the new column is `permanently` removed.\n",
    "\n",
    "Now, you might ask can we do the same for a row?\n",
    "\n",
    "Yes, we can.\n",
    "\n",
    "It's exactly the same way.\n",
    "\n",
    "But you need to know about `axis` argument.\n",
    "\n",
    "In pandas, the columns and rows are given a `axis` for better indexing and selection.\n",
    "\n",
    "> `axis 1` is for the columns and `axis 0` is for the rows.\n",
    "\n",
    "In the drop method the axis is set to `1` by default. So, if we just say `drop('row1', inplace=True)` it will should show an error and it used to show and error on the previous versions of pandas but now it doesn't.\n",
    "\n",
    "We can directly just pass the name of the `row` and it'll remove the row."
   ]
  },
  {
   "cell_type": "code",
   "execution_count": 20,
   "id": "9029263b",
   "metadata": {},
   "outputs": [
    {
     "data": {
      "text/html": [
       "<div>\n",
       "<style scoped>\n",
       "    .dataframe tbody tr th:only-of-type {\n",
       "        vertical-align: middle;\n",
       "    }\n",
       "\n",
       "    .dataframe tbody tr th {\n",
       "        vertical-align: top;\n",
       "    }\n",
       "\n",
       "    .dataframe thead th {\n",
       "        text-align: right;\n",
       "    }\n",
       "</style>\n",
       "<table border=\"1\" class=\"dataframe\">\n",
       "  <thead>\n",
       "    <tr style=\"text-align: right;\">\n",
       "      <th></th>\n",
       "      <th>col1</th>\n",
       "      <th>col2</th>\n",
       "      <th>col3</th>\n",
       "      <th>col4</th>\n",
       "      <th>col5</th>\n",
       "    </tr>\n",
       "  </thead>\n",
       "  <tbody>\n",
       "    <tr>\n",
       "      <th>row2</th>\n",
       "      <td>-2.301539</td>\n",
       "      <td>1.744812</td>\n",
       "      <td>-0.761207</td>\n",
       "      <td>0.319039</td>\n",
       "      <td>-0.249370</td>\n",
       "    </tr>\n",
       "    <tr>\n",
       "      <th>row3</th>\n",
       "      <td>1.462108</td>\n",
       "      <td>-2.060141</td>\n",
       "      <td>-0.322417</td>\n",
       "      <td>-0.384054</td>\n",
       "      <td>1.133769</td>\n",
       "    </tr>\n",
       "    <tr>\n",
       "      <th>row4</th>\n",
       "      <td>-1.099891</td>\n",
       "      <td>-0.172428</td>\n",
       "      <td>-0.877858</td>\n",
       "      <td>0.042214</td>\n",
       "      <td>0.582815</td>\n",
       "    </tr>\n",
       "    <tr>\n",
       "      <th>row5</th>\n",
       "      <td>-1.100619</td>\n",
       "      <td>1.144724</td>\n",
       "      <td>0.901591</td>\n",
       "      <td>0.502494</td>\n",
       "      <td>0.900856</td>\n",
       "    </tr>\n",
       "    <tr>\n",
       "      <th>row6</th>\n",
       "      <td>-0.683728</td>\n",
       "      <td>-0.122890</td>\n",
       "      <td>-0.935769</td>\n",
       "      <td>-0.267888</td>\n",
       "      <td>0.530355</td>\n",
       "    </tr>\n",
       "  </tbody>\n",
       "</table>\n",
       "</div>"
      ],
      "text/plain": [
       "          col1      col2      col3      col4      col5\n",
       "row2 -2.301539  1.744812 -0.761207  0.319039 -0.249370\n",
       "row3  1.462108 -2.060141 -0.322417 -0.384054  1.133769\n",
       "row4 -1.099891 -0.172428 -0.877858  0.042214  0.582815\n",
       "row5 -1.100619  1.144724  0.901591  0.502494  0.900856\n",
       "row6 -0.683728 -0.122890 -0.935769 -0.267888  0.530355"
      ]
     },
     "execution_count": 20,
     "metadata": {},
     "output_type": "execute_result"
    }
   ],
   "source": [
    "df.drop('row1')"
   ]
  },
  {
   "cell_type": "markdown",
   "id": "8efca448",
   "metadata": {},
   "source": [
    "Automatically finds if it's a row or a column."
   ]
  },
  {
   "cell_type": "markdown",
   "id": "cfbb68ec",
   "metadata": {},
   "source": [
    "But it is bets practice to use the `axis` argument."
   ]
  },
  {
   "cell_type": "code",
   "execution_count": 21,
   "id": "f505d3a5",
   "metadata": {},
   "outputs": [
    {
     "data": {
      "text/html": [
       "<div>\n",
       "<style scoped>\n",
       "    .dataframe tbody tr th:only-of-type {\n",
       "        vertical-align: middle;\n",
       "    }\n",
       "\n",
       "    .dataframe tbody tr th {\n",
       "        vertical-align: top;\n",
       "    }\n",
       "\n",
       "    .dataframe thead th {\n",
       "        text-align: right;\n",
       "    }\n",
       "</style>\n",
       "<table border=\"1\" class=\"dataframe\">\n",
       "  <thead>\n",
       "    <tr style=\"text-align: right;\">\n",
       "      <th></th>\n",
       "      <th>col1</th>\n",
       "      <th>col2</th>\n",
       "      <th>col3</th>\n",
       "      <th>col4</th>\n",
       "      <th>col5</th>\n",
       "    </tr>\n",
       "  </thead>\n",
       "  <tbody>\n",
       "    <tr>\n",
       "      <th>row2</th>\n",
       "      <td>-2.301539</td>\n",
       "      <td>1.744812</td>\n",
       "      <td>-0.761207</td>\n",
       "      <td>0.319039</td>\n",
       "      <td>-0.249370</td>\n",
       "    </tr>\n",
       "    <tr>\n",
       "      <th>row3</th>\n",
       "      <td>1.462108</td>\n",
       "      <td>-2.060141</td>\n",
       "      <td>-0.322417</td>\n",
       "      <td>-0.384054</td>\n",
       "      <td>1.133769</td>\n",
       "    </tr>\n",
       "    <tr>\n",
       "      <th>row4</th>\n",
       "      <td>-1.099891</td>\n",
       "      <td>-0.172428</td>\n",
       "      <td>-0.877858</td>\n",
       "      <td>0.042214</td>\n",
       "      <td>0.582815</td>\n",
       "    </tr>\n",
       "    <tr>\n",
       "      <th>row5</th>\n",
       "      <td>-1.100619</td>\n",
       "      <td>1.144724</td>\n",
       "      <td>0.901591</td>\n",
       "      <td>0.502494</td>\n",
       "      <td>0.900856</td>\n",
       "    </tr>\n",
       "    <tr>\n",
       "      <th>row6</th>\n",
       "      <td>-0.683728</td>\n",
       "      <td>-0.122890</td>\n",
       "      <td>-0.935769</td>\n",
       "      <td>-0.267888</td>\n",
       "      <td>0.530355</td>\n",
       "    </tr>\n",
       "  </tbody>\n",
       "</table>\n",
       "</div>"
      ],
      "text/plain": [
       "          col1      col2      col3      col4      col5\n",
       "row2 -2.301539  1.744812 -0.761207  0.319039 -0.249370\n",
       "row3  1.462108 -2.060141 -0.322417 -0.384054  1.133769\n",
       "row4 -1.099891 -0.172428 -0.877858  0.042214  0.582815\n",
       "row5 -1.100619  1.144724  0.901591  0.502494  0.900856\n",
       "row6 -0.683728 -0.122890 -0.935769 -0.267888  0.530355"
      ]
     },
     "execution_count": 21,
     "metadata": {},
     "output_type": "execute_result"
    }
   ],
   "source": [
    "df.drop(\n",
    "    'row1',\n",
    "    axis=0,\n",
    "    inplace=True\n",
    ")\n",
    "\n",
    "df"
   ]
  },
  {
   "cell_type": "markdown",
   "id": "37529da0",
   "metadata": {},
   "source": [
    "Now, I told you before that `pandas` is built upon `numpy` and `numpy` is the main driving force and pandas is just a tool to make our task easier for numpy arrays. \n",
    "\n",
    "So, all the `pandas` data structures are just `numpy` arrays with index markers and some methods to make our life easier.\n"
   ]
  },
  {
   "cell_type": "code",
   "execution_count": 22,
   "id": "4d245b01",
   "metadata": {},
   "outputs": [
    {
     "data": {
      "text/plain": [
       "(5, 5)"
      ]
     },
     "execution_count": 22,
     "metadata": {},
     "output_type": "execute_result"
    }
   ],
   "source": [
    "df.shape"
   ]
  },
  {
   "cell_type": "markdown",
   "id": "d6e59886",
   "metadata": {},
   "source": [
    "Now, as you can see our `dataframe` is still a `2d numpy` array with shape (5,5) because we removed a row.\n",
    "\n",
    "So, as it is a numpy 2d array we should be able to do indexing and selecting just like we do in numpy.\n",
    "\n",
    "And we can.\n",
    "\n",
    "Let's say I want all the values of `row 3`."
   ]
  },
  {
   "cell_type": "code",
   "execution_count": 25,
   "id": "e57d849d",
   "metadata": {},
   "outputs": [
    {
     "data": {
      "text/plain": [
       "col1    1.462108\n",
       "col2   -2.060141\n",
       "col3   -0.322417\n",
       "col4   -0.384054\n",
       "col5    1.133769\n",
       "Name: row3, dtype: float64"
      ]
     },
     "execution_count": 25,
     "metadata": {},
     "output_type": "execute_result"
    }
   ],
   "source": [
    "df.loc['row3']"
   ]
  },
  {
   "cell_type": "markdown",
   "id": "626a7a72",
   "metadata": {},
   "source": [
    "> We have to use the `loc or location` method to select a row individually.\n",
    "\n",
    "And after that we can do `indexing` just like we do in `numpy` arrays.\n",
    "\n",
    "In the above code block I selected the 3rd row and it looks awfully like a `pandas` series. Is it a pandas series?"
   ]
  },
  {
   "cell_type": "code",
   "execution_count": 26,
   "id": "cc51f7a5",
   "metadata": {},
   "outputs": [
    {
     "data": {
      "text/plain": [
       "pandas.core.series.Series"
      ]
     },
     "execution_count": 26,
     "metadata": {},
     "output_type": "execute_result"
    }
   ],
   "source": [
    "type(df.loc['row3'])"
   ]
  },
  {
   "cell_type": "markdown",
   "id": "a44a82ac",
   "metadata": {},
   "source": [
    "`YES!` it is.\n",
    "\n",
    "Every indivisual row and column in a `pandas` dataframe is a `pandas series`.\n",
    "\n",
    "Now, what about a `specific` value selection? Like I want to see the value of 3rd row and 4th column?\n",
    "\n",
    "Just ike we did in numpy arrays. We can get a value from a `pandas` dataframe."
   ]
  },
  {
   "cell_type": "code",
   "execution_count": 34,
   "id": "bcab6fce",
   "metadata": {},
   "outputs": [
    {
     "data": {
      "text/plain": [
       "np.float64(-0.38405435466841564)"
      ]
     },
     "execution_count": 34,
     "metadata": {},
     "output_type": "execute_result"
    }
   ],
   "source": [
    "df.loc['row3', 'col4']"
   ]
  },
  {
   "cell_type": "markdown",
   "id": "50bd743c",
   "metadata": {},
   "source": [
    "And the fun part is we select multiple rows and column at the same time.\n",
    "\n",
    "Just like we can select multiple columns by passing a `list` to the `square brackets` to the `pandas` dataframe.\n",
    "\n",
    "We can do the same with the `loc` method."
   ]
  },
  {
   "cell_type": "code",
   "execution_count": 37,
   "id": "fcc3a241",
   "metadata": {},
   "outputs": [
    {
     "data": {
      "text/html": [
       "<div>\n",
       "<style scoped>\n",
       "    .dataframe tbody tr th:only-of-type {\n",
       "        vertical-align: middle;\n",
       "    }\n",
       "\n",
       "    .dataframe tbody tr th {\n",
       "        vertical-align: top;\n",
       "    }\n",
       "\n",
       "    .dataframe thead th {\n",
       "        text-align: right;\n",
       "    }\n",
       "</style>\n",
       "<table border=\"1\" class=\"dataframe\">\n",
       "  <thead>\n",
       "    <tr style=\"text-align: right;\">\n",
       "      <th></th>\n",
       "      <th>col4</th>\n",
       "      <th>col5</th>\n",
       "    </tr>\n",
       "  </thead>\n",
       "  <tbody>\n",
       "    <tr>\n",
       "      <th>row3</th>\n",
       "      <td>-0.384054</td>\n",
       "      <td>1.133769</td>\n",
       "    </tr>\n",
       "    <tr>\n",
       "      <th>row5</th>\n",
       "      <td>0.502494</td>\n",
       "      <td>0.900856</td>\n",
       "    </tr>\n",
       "  </tbody>\n",
       "</table>\n",
       "</div>"
      ],
      "text/plain": [
       "          col4      col5\n",
       "row3 -0.384054  1.133769\n",
       "row5  0.502494  0.900856"
      ]
     },
     "execution_count": 37,
     "metadata": {},
     "output_type": "execute_result"
    }
   ],
   "source": [
    "df.loc[['row3', 'row5'], ['col4', 'col5']]"
   ]
  },
  {
   "cell_type": "markdown",
   "id": "e61aa063",
   "metadata": {},
   "source": [
    "It'll give us a `dataframe` with 2 rows and 2 columns.\n",
    "\n",
    "And also another thing we need to discuss is that in pandas, it also gives a way to select a rows by index. Even though we set custom rows. We can use a special `method` for that.\n",
    "\n",
    "> The method is called `iloc` or `integer location` method."
   ]
  },
  {
   "cell_type": "code",
   "execution_count": 39,
   "id": "72072641",
   "metadata": {},
   "outputs": [
    {
     "data": {
      "text/plain": [
       "col1   -1.100619\n",
       "col2    1.144724\n",
       "col3    0.901591\n",
       "col4    0.502494\n",
       "col5    0.900856\n",
       "Name: row5, dtype: float64"
      ]
     },
     "execution_count": 39,
     "metadata": {},
     "output_type": "execute_result"
    }
   ],
   "source": [
    "df.iloc[3]"
   ]
  },
  {
   "cell_type": "markdown",
   "id": "dc2d9a36",
   "metadata": {},
   "source": [
    "Returns the row with index 3, which is `row5`."
   ]
  },
  {
   "cell_type": "code",
   "execution_count": 42,
   "id": "4e793a1d",
   "metadata": {},
   "outputs": [
    {
     "data": {
      "text/plain": [
       "np.float64(0.9008559492644118)"
      ]
     },
     "execution_count": 42,
     "metadata": {},
     "output_type": "execute_result"
    }
   ],
   "source": [
    "df.iloc[3, 4]"
   ]
  },
  {
   "cell_type": "markdown",
   "id": "4eb6d7b4",
   "metadata": {},
   "source": [
    "This returns the value of the row with index 3 and column with index 4. So, index 3 is `row5` and index 4 is `col5`."
   ]
  },
  {
   "cell_type": "code",
   "execution_count": 43,
   "id": "23dd6403",
   "metadata": {},
   "outputs": [
    {
     "data": {
      "text/plain": [
       "np.float64(0.9008559492644118)"
      ]
     },
     "execution_count": 43,
     "metadata": {},
     "output_type": "execute_result"
    }
   ],
   "source": [
    "df.loc['row5', 'col5']"
   ]
  },
  {
   "cell_type": "markdown",
   "id": "f379ff11",
   "metadata": {},
   "source": [
    "As you can see exactly the same thing.\n",
    "\n",
    "There are a lot of different ways to select/index in `pandas`. But in the end it is a `2d numpy` array with custom index `markers`.\n",
    "\n",
    "And to be honest we will not be using pandas like this. Most of the time we will be using pandas for data `manipulation`. Which is why you need to learn about `conditional selection` in `pandas`.\n",
    "\n",
    "## Conditional Selection"
   ]
  }
 ],
 "metadata": {
  "kernelspec": {
   "display_name": "ml_env",
   "language": "python",
   "name": "python3"
  },
  "language_info": {
   "codemirror_mode": {
    "name": "ipython",
    "version": 3
   },
   "file_extension": ".py",
   "mimetype": "text/x-python",
   "name": "python",
   "nbconvert_exporter": "python",
   "pygments_lexer": "ipython3",
   "version": "3.11.11"
  }
 },
 "nbformat": 4,
 "nbformat_minor": 5
}
