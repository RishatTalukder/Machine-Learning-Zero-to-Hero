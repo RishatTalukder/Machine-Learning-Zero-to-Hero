{
 "cells": [
  {
   "cell_type": "markdown",
   "id": "2b97d407",
   "metadata": {},
   "source": [
    "# Pandas \n",
    "\n",
    "Time to learn about the most important `data analysis/data processing` tool in the world.\n",
    "\n",
    "- [LinkedIn](https://www.linkedin.com/in/pro-programmer/)\n",
    "- [YouTube](http://www.youtube.com/@itvaya)\n",
    "- [gtihub](https://github.com/RishatTalukder/Machine-Learning-Zero-to-Hero)\n",
    "- [Gmail](talukderrishat2@gmail.com)\n",
    "- [discord](https://discord.gg/ZB495XggcF)\n",
    "\n",
    "# Installation \n",
    "\n",
    "If you have `conda` installed, Just run the following command in your terminal:\n",
    "\n",
    "```bash\n",
    "conda install pandas\n",
    "```\n",
    "\n",
    "Or if you dont't have `conda` installed, just run `pip install pandas` in your terminal.\n",
    "\n",
    "`Pandas` is a `python` library for `data analysis`. Some say it's python's version of `excel`. Well they are not wrong but I would say it's more powerful and easy to use than `excel` and  has a lot of features that is way easier to use than `excel`.\n",
    "\n",
    "For getting the grasp of `pandas` you need to know `two` crucial concepts:\n",
    "\n",
    "1. `Series`\n",
    "2. `DataFrame`\n",
    "\n",
    "And also `pandas` is built on top of `numpy`. So, you need general understanding of `numpy` to understand `pandas` better.\n",
    "\n",
    "> In my [github repo](https://github.com/RishatTalukder/Machine-Learning-Zero-to-Hero) I have section dedicated to `numpy` if you want to learn more about it.\n",
    "\n",
    "So, now let's talk about `pandas` series.\n",
    "\n",
    "# Series\n",
    "\n",
    "A `Series` is a `one-dimensional` array-like object. It is similar to `numpy` array. \n",
    "\n",
    "I'll make 2 variables:"
   ]
  },
  {
   "cell_type": "code",
   "execution_count": 1,
   "id": "64fef281",
   "metadata": {},
   "outputs": [],
   "source": [
    "import numpy as np\n",
    "\n",
    "data = np.array([5,2,4,2])\n",
    "labels = ['a','b','c','d']"
   ]
  },
  {
   "cell_type": "markdown",
   "id": "09af2b0d",
   "metadata": {},
   "source": [
    "I made a simple `numpy` array called `data` and another list variable called `labels`.\n",
    "\n",
    "Now, I use the `data` variable to create a `pandas series`."
   ]
  },
  {
   "cell_type": "code",
   "execution_count": 2,
   "id": "2b633882",
   "metadata": {},
   "outputs": [
    {
     "data": {
      "text/plain": [
       "0    5\n",
       "1    2\n",
       "2    4\n",
       "3    2\n",
       "dtype: int64"
      ]
     },
     "execution_count": 2,
     "metadata": {},
     "output_type": "execute_result"
    }
   ],
   "source": [
    "import pandas as pd\n",
    "\n",
    "series = pd.Series(data)\n",
    "series"
   ]
  },
  {
   "cell_type": "markdown",
   "id": "edba5eeb",
   "metadata": {},
   "source": [
    "And would you look at that!\n",
    "\n",
    "I used the `pandas.Series` to create a `Series` from the `data` array and it looks like a table with `indexes`. Each index corresponds to a value of the array.\n",
    "\n",
    "This is what a `Series` is.\n",
    "\n",
    "Now, what we can do is use these `indexes` to get the a value from the `Series`."
   ]
  },
  {
   "cell_type": "code",
   "execution_count": 3,
   "id": "a20afe25",
   "metadata": {},
   "outputs": [
    {
     "data": {
      "text/plain": [
       "np.int64(5)"
      ]
     },
     "execution_count": 3,
     "metadata": {},
     "output_type": "execute_result"
    }
   ],
   "source": [
    "series[0]"
   ]
  },
  {
   "cell_type": "markdown",
   "id": "9691dec4",
   "metadata": {},
   "source": [
    "See? So, this a series is a pandas representation of a `numpy` array. Right? \n",
    "\n",
    "Looks like that.\n",
    "\n",
    "But, no event though it looks like that, it's more than that.\n",
    "\n",
    "In a normal pandas array, the indexes are unchangeable and always start from `0`. But in a series we can set custom indexes. \n",
    "\n",
    "That's why I tool another python list called `labels` and now what I can do is set the indices of the series to the values of `labels`."
   ]
  },
  {
   "cell_type": "code",
   "execution_count": 4,
   "id": "24994877",
   "metadata": {},
   "outputs": [
    {
     "data": {
      "text/plain": [
       "a    5\n",
       "b    2\n",
       "c    4\n",
       "d    2\n",
       "dtype: int64"
      ]
     },
     "execution_count": 4,
     "metadata": {},
     "output_type": "execute_result"
    }
   ],
   "source": [
    "series2 = pd.Series(data, index=labels)\n",
    "series2"
   ]
  },
  {
   "cell_type": "markdown",
   "id": "d2487234",
   "metadata": {},
   "source": [
    "And now we have a pandas series with custom index. Hmm.... why does this sound familiar? Did we do something like this in python?\n",
    "\n",
    "Yes, we do have a list is python where we can do custom indexing. And that is a `dictionary` or `hashmap` in python. So, we can say that instead of being pandas version of a `numpy` array, it is more like a `pandas` verison of a `python` `dictionary`.\n",
    "\n",
    "> A `dictionary` is a `hashmap` in `python`. A hashmap is a data structure that maps `keys` to `values`. Key are like custom index and values are the corresponding values to the keys.\n",
    "\n",
    "We can also set the index of a `pandas` series that doesn't have a custom index. Like the `series` variable in the previous code block."
   ]
  },
  {
   "cell_type": "code",
   "execution_count": null,
   "id": "f8b1e07a",
   "metadata": {},
   "outputs": [
    {
     "data": {
      "text/plain": [
       "a    5\n",
       "b    2\n",
       "c    4\n",
       "d    2\n",
       "dtype: int64"
      ]
     },
     "execution_count": 7,
     "metadata": {},
     "output_type": "execute_result"
    }
   ],
   "source": [
    "series.index = labels #setting the index\n",
    "series"
   ]
  },
  {
   "cell_type": "markdown",
   "id": "4aa17a35",
   "metadata": {},
   "source": [
    "> pandas series gives us a attributes like `index` and we can assign values to it. And in the code block above, I assigned the labels variable as the index of the `series`.\n",
    "\n",
    "There is another way we can make a pandas `series`."
   ]
  },
  {
   "cell_type": "code",
   "execution_count": 8,
   "id": "d415a501",
   "metadata": {},
   "outputs": [
    {
     "data": {
      "text/plain": [
       "a    1\n",
       "b    2\n",
       "c    3\n",
       "dtype: int64"
      ]
     },
     "execution_count": 8,
     "metadata": {},
     "output_type": "execute_result"
    }
   ],
   "source": [
    "data = {'a': 1, 'b': 2, 'c': 3}\n",
    "\n",
    "series3 = pd.Series(data)\n",
    "\n",
    "series3"
   ]
  },
  {
   "cell_type": "markdown",
   "id": "16d906e0",
   "metadata": {},
   "source": [
    "That wasn't a shocker, was it? We can make a `pandas` series by directly passing a python `dictionary` to `pandas.Series` function. The `keys` are the `index` and the `values` are the `values`.\n",
    "\n",
    "In the long run we will not be using `serieses` that much for data manipulation. But series is a building block for the most important thing in `pandas` which is `dataframes`.\n",
    "\n",
    "So, It is impoertant we understand `series` to have a better grasp of `pandas`.\n",
    "\n",
    "# Dataframes"
   ]
  }
 ],
 "metadata": {
  "kernelspec": {
   "display_name": "ml_env",
   "language": "python",
   "name": "python3"
  },
  "language_info": {
   "codemirror_mode": {
    "name": "ipython",
    "version": 3
   },
   "file_extension": ".py",
   "mimetype": "text/x-python",
   "name": "python",
   "nbconvert_exporter": "python",
   "pygments_lexer": "ipython3",
   "version": "3.11.11"
  }
 },
 "nbformat": 4,
 "nbformat_minor": 5
}
