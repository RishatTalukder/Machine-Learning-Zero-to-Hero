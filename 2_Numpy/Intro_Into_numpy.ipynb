{
 "cells": [
  {
   "cell_type": "markdown",
   "id": "6b7da1e0",
   "metadata": {},
   "source": [
    "**Table of contents**<a id='toc0_'></a>    \n",
    "- [Introduction to `Numpy`](#toc1_)    \n",
    "- [Installation](#toc2_)    \n",
    "- [Intro](#toc3_)    \n",
    "- [Numpy Methods](#toc4_)    \n",
    "  - [Numpy Arange](#toc4_1_)    \n",
    "- [Some Quick Numpy Array generators](#toc5_)    \n",
    "- [Random](#toc6_)    \n",
    "  - [Some Useful Functions](#toc6_1_)    \n",
    "- [Indexing](#toc7_)    \n",
    "- [Matrix Indexing](#toc8_)    \n",
    "- [Conditional Selection](#toc9_)    \n",
    "- [Numpy Operations](#toc10_)    \n",
    "  - [Universal Functions](#toc10_1_)    \n",
    "- [Last Words](#toc11_)    \n",
    "\n",
    "<!-- vscode-jupyter-toc-config\n",
    "\tnumbering=false\n",
    "\tanchor=true\n",
    "\tflat=false\n",
    "\tminLevel=1\n",
    "\tmaxLevel=6\n",
    "\t/vscode-jupyter-toc-config -->\n",
    "<!-- THIS CELL WILL BE REPLACED ON TOC UPDATE. DO NOT WRITE YOUR TEXT IN THIS CELL -->"
   ]
  },
  {
   "cell_type": "markdown",
   "id": "ee32deef",
   "metadata": {},
   "source": [
    "\n",
    "\n",
    "# <a id='toc1_'></a>[Introduction to `Numpy`](#toc0_)\n",
    "\n",
    "Bois! We are going Deep DEep DEEp DEEEEEP inside `ML`. And we will face some roadblocks. First one is `numpy`.\n",
    "\n",
    "This is a entry point and the first `boss` fight of this series. Because almost everything after this point is written in `numpy` or uses `numpy` functions. So, understanding and having a good knowledge of `numpy` is very important. So, without further ado, let's defeat `numpy`.\n",
    "\n",
    "- [LinkedIn](https://www.linkedin.com/in/pro-programmer/)\n",
    "- [YouTube](http://www.youtube.com/@itvaya)\n",
    "- [gtihub](https://github.com/RishatTalukder/Machine-Learning-Zero-to-Hero)\n",
    "- [Gmail](talukderrishat2@gmail.com)\n",
    "- [discord](https://discord.gg/ZB495XggcF)\n",
    "\n",
    "# <a id='toc2_'></a>[Installation](#toc0_)\n",
    "\n",
    "You need `conda` installed in you system. If you don't have it, you can install it from [here](https://www.anaconda.com/products/distribution).\n",
    "\n",
    "If you have `conda` installed, Just run the following command in your terminal:\n",
    "\n",
    "```bash\n",
    "conda install numpy\n",
    "```\n",
    "\n",
    "And \n",
    "\n",
    "If you don't have `conda` installed, you can still intall `numpy` on base `python` by running the following command:\n",
    "\n",
    "```bash\n",
    "pip install numpy\n",
    "```\n",
    "\n",
    "> I heavily recommend you to use `conda` for installing `numpy` because it will install all the dependencies of `numpy` and you will have less errors as our python package ecosystem grows.\n",
    "\n",
    "# <a id='toc3_'></a>[Intro](#toc0_)\n",
    "\n",
    "`Numpy` is faster `python`.\n",
    "\n",
    "That's it end the article here. If you know `python` you already know 80% of `numpy`. \n",
    "\n",
    "Numpy specializes in `numerical computing`, specifically `arrays`.\n",
    "\n",
    "> If you take python and optimise it so hard that it becomes faster than C++, you can call it `numpy`.\n",
    "\n",
    "We can do everything we can do in `python` with `numpy` but it's waaaay faster than `python`.\n",
    "\n",
    "But the main use case of `numpy` is `array/vector/matrix` operations. And that's what we will be doing in this article.\n",
    "\n",
    "Let's take an array."
   ]
  },
  {
   "cell_type": "code",
   "execution_count": 99,
   "id": "599d6709",
   "metadata": {},
   "outputs": [
    {
     "data": {
      "text/plain": [
       "[1, 2, 3, 4, 5]"
      ]
     },
     "execution_count": 99,
     "metadata": {},
     "output_type": "execute_result"
    }
   ],
   "source": [
    "arr = [1,2,3,4,5]\n",
    "arr"
   ]
  },
  {
   "cell_type": "markdown",
   "id": "d18db536",
   "metadata": {},
   "source": [
    "Here you can see a very simple python list. Which is pretty powerful on its own. But with numpy it becomes a superpower.\n",
    "\n",
    "We can transform any array into a numpy array by using the `array()` function from numpy. We have to import `numpy` first because it's a external library."
   ]
  },
  {
   "cell_type": "code",
   "execution_count": 100,
   "id": "0c8b217e",
   "metadata": {},
   "outputs": [
    {
     "data": {
      "text/plain": [
       "array([1, 2, 3, 4, 5])"
      ]
     },
     "execution_count": 100,
     "metadata": {},
     "output_type": "execute_result"
    }
   ],
   "source": [
    "import numpy as np\n",
    "\n",
    "narr = np.array([1,2,3,4,5])\n",
    "narr"
   ]
  },
  {
   "cell_type": "markdown",
   "id": "00de9981",
   "metadata": {},
   "source": [
    "> In python you can rename a library when imported by using the `as` keyword. For example, if you import `numpy` as `np` you can use it as `np.array()` instead of `numpy.array()`.\n",
    "\n",
    "Here you can see that by using the `np.array()` we are transforming our simple python list into a numpy array.\n",
    "\n",
    "We can do the same thing with a 2D list as well."
   ]
  },
  {
   "cell_type": "code",
   "execution_count": 101,
   "id": "3855f267",
   "metadata": {},
   "outputs": [
    {
     "data": {
      "text/plain": [
       "array([[1, 2, 3],\n",
       "       [4, 5, 6],\n",
       "       [7, 8, 9]])"
      ]
     },
     "execution_count": 101,
     "metadata": {},
     "output_type": "execute_result"
    }
   ],
   "source": [
    "arr_2D = [[1, 2, 3], [4, 5, 6], [7, 8, 9]]\n",
    "narr_2D = np.array(arr_2D)\n",
    "narr_2D"
   ]
  },
  {
   "cell_type": "markdown",
   "id": "f9582f89",
   "metadata": {},
   "source": [
    "A numpy array gives us a lot of methods and attributes to work with the data. \n",
    "\n",
    "> A vector is a one-dimensional array which is a traditional array of numbers.\n",
    "> A matrix is a two-dimensional array.\n",
    "\n",
    "# <a id='toc4_'></a>[Numpy Methods](#toc0_)\n",
    "\n",
    "There are a lot of methods that we can use to make and work with numpy arrays. \n",
    "\n",
    "First we can talk about the `arange` method. \n",
    "\n",
    "## <a id='toc4_1_'></a>[Numpy Arange](#toc0_)\n",
    "\n",
    "This is equivalent to the python `range` function. Works exactly the same way.\n",
    "\n",
    "In the range function, we can specify the start, stop, and step values.\n",
    "\n",
    "And it generates a sequence of numbers from start to stop by step.\n",
    "\n",
    "This is exactly what the `arange` method does. It also takes the start, stop, and step values and generates a sequence of numbers from start to stop by step."
   ]
  },
  {
   "cell_type": "code",
   "execution_count": 102,
   "id": "b99980a4",
   "metadata": {},
   "outputs": [
    {
     "data": {
      "text/plain": [
       "array([0, 1, 2, 3, 4, 5, 6, 7, 8, 9])"
      ]
     },
     "execution_count": 102,
     "metadata": {},
     "output_type": "execute_result"
    }
   ],
   "source": [
    "np.arange(10)"
   ]
  },
  {
   "cell_type": "markdown",
   "id": "485e4d3d",
   "metadata": {},
   "source": [
    "> Just like for the range function, the start value in inclusive and the end value is exclusive. It's the same for `arange`.\n",
    "> By default the starting index is set to 0 and the steps are 1."
   ]
  },
  {
   "cell_type": "code",
   "execution_count": 103,
   "id": "3700d25f",
   "metadata": {},
   "outputs": [
    {
     "data": {
      "text/plain": [
       "array([35, 37, 39, 41, 43])"
      ]
     },
     "execution_count": 103,
     "metadata": {},
     "output_type": "execute_result"
    }
   ],
   "source": [
    "np.arange(35, 45, 2)"
   ]
  },
  {
   "cell_type": "markdown",
   "id": "6980e31a",
   "metadata": {},
   "source": [
    "# <a id='toc5_'></a>[Some Quick Numpy Array generators](#toc0_)\n",
    "\n",
    "If you want a array of all zeros, you can use the `zeros` function:"
   ]
  },
  {
   "cell_type": "code",
   "execution_count": 104,
   "id": "44c0aec1",
   "metadata": {},
   "outputs": [
    {
     "data": {
      "text/plain": [
       "array([0., 0., 0., 0., 0.])"
      ]
     },
     "execution_count": 104,
     "metadata": {},
     "output_type": "execute_result"
    }
   ],
   "source": [
    "np.zeros(5)"
   ]
  },
  {
   "cell_type": "markdown",
   "id": "20001f63",
   "metadata": {},
   "source": [
    "This will generate a numpy array of 5 zeros. We can also make a `matrix(2D)` array by specifying the number of `rows and columns` in a `tuple`."
   ]
  },
  {
   "cell_type": "code",
   "execution_count": 105,
   "id": "8c23ff9d",
   "metadata": {},
   "outputs": [
    {
     "data": {
      "text/plain": [
       "array([[0., 0., 0., 0.],\n",
       "       [0., 0., 0., 0.],\n",
       "       [0., 0., 0., 0.]])"
      ]
     },
     "execution_count": 105,
     "metadata": {},
     "output_type": "execute_result"
    }
   ],
   "source": [
    "np.zeros((3,4))"
   ]
  },
  {
   "cell_type": "markdown",
   "id": "c39d02bc",
   "metadata": {},
   "source": [
    "And it'll generate a `3x4` matrix. The cool part is we can make 3D or more than 4D array of all zeros with this."
   ]
  },
  {
   "cell_type": "code",
   "execution_count": 106,
   "id": "1c0ea087",
   "metadata": {},
   "outputs": [
    {
     "data": {
      "text/plain": [
       "array([[[0., 0., 0., 0., 0.],\n",
       "        [0., 0., 0., 0., 0.],\n",
       "        [0., 0., 0., 0., 0.],\n",
       "        [0., 0., 0., 0., 0.]],\n",
       "\n",
       "       [[0., 0., 0., 0., 0.],\n",
       "        [0., 0., 0., 0., 0.],\n",
       "        [0., 0., 0., 0., 0.],\n",
       "        [0., 0., 0., 0., 0.]],\n",
       "\n",
       "       [[0., 0., 0., 0., 0.],\n",
       "        [0., 0., 0., 0., 0.],\n",
       "        [0., 0., 0., 0., 0.],\n",
       "        [0., 0., 0., 0., 0.]]])"
      ]
     },
     "execution_count": 106,
     "metadata": {},
     "output_type": "execute_result"
    }
   ],
   "source": [
    "np.zeros((3,4,5))"
   ]
  },
  {
   "cell_type": "code",
   "execution_count": 107,
   "id": "a674ec71",
   "metadata": {},
   "outputs": [
    {
     "data": {
      "text/plain": [
       "array([[[[0., 0.],\n",
       "         [0., 0.],\n",
       "         [0., 0.],\n",
       "         [0., 0.]],\n",
       "\n",
       "        [[0., 0.],\n",
       "         [0., 0.],\n",
       "         [0., 0.],\n",
       "         [0., 0.]],\n",
       "\n",
       "        [[0., 0.],\n",
       "         [0., 0.],\n",
       "         [0., 0.],\n",
       "         [0., 0.]]],\n",
       "\n",
       "\n",
       "       [[[0., 0.],\n",
       "         [0., 0.],\n",
       "         [0., 0.],\n",
       "         [0., 0.]],\n",
       "\n",
       "        [[0., 0.],\n",
       "         [0., 0.],\n",
       "         [0., 0.],\n",
       "         [0., 0.]],\n",
       "\n",
       "        [[0., 0.],\n",
       "         [0., 0.],\n",
       "         [0., 0.],\n",
       "         [0., 0.]]]])"
      ]
     },
     "execution_count": 107,
     "metadata": {},
     "output_type": "execute_result"
    }
   ],
   "source": [
    "np.zeros((2,3,4,2))"
   ]
  },
  {
   "cell_type": "markdown",
   "id": "067267be",
   "metadata": {},
   "source": [
    "Numpy has another function that can generate arrays filled with only `one's`. This function is called `ones`. "
   ]
  },
  {
   "cell_type": "code",
   "execution_count": 108,
   "id": "ecd2e8be",
   "metadata": {},
   "outputs": [
    {
     "name": "stdout",
     "output_type": "stream",
     "text": [
      "Array of 4 ones\n",
      "[1. 1. 1. 1.]\n",
      "2D array of all ones\n",
      "[[1. 1.]\n",
      " [1. 1.]]\n",
      "3D array of all ones\n",
      "[[[1. 1.]\n",
      "  [1. 1.]]\n",
      "\n",
      " [[1. 1.]\n",
      "  [1. 1.]]]\n"
     ]
    }
   ],
   "source": [
    "print('Array of 4 ones')\n",
    "a = np.ones(4)\n",
    "print(a)\n",
    "\n",
    "print('2D array of all ones')\n",
    "b = np.ones((2,2))\n",
    "print(b)\n",
    "\n",
    "print('3D array of all ones')\n",
    "c = np.ones((2,2,2))\n",
    "print(c)"
   ]
  },
  {
   "cell_type": "markdown",
   "id": "11b83a98",
   "metadata": {},
   "source": [
    "This method works exactly same the `zeros` method, but it generates array of any dimentions with all elements as `Ones`.\n",
    "\n",
    "Now, another very useful method I want to talk about is `linspace` method. This method is used to generate array with evenly spaced elements.\n",
    "\n",
    "Let me break it down with an example."
   ]
  },
  {
   "cell_type": "code",
   "execution_count": 109,
   "id": "a2e74381",
   "metadata": {},
   "outputs": [
    {
     "data": {
      "text/plain": [
       "array([ 1.  ,  3.25,  5.5 ,  7.75, 10.  ])"
      ]
     },
     "execution_count": 109,
     "metadata": {},
     "output_type": "execute_result"
    }
   ],
   "source": [
    "np.linspace(1, 10, 5)"
   ]
  },
  {
   "cell_type": "markdown",
   "id": "9ac39be9",
   "metadata": {},
   "source": [
    "`linspace` function takes 3 arguments:\n",
    "- `start`: The starting value of the range\n",
    "- `stop`: The ending value of the range\n",
    "- `num`: The number of values in the range\n",
    "\n",
    "This might look like the `arange` function, but it's not the same. Linspace generates a range of numbers with `evenly spaced values` between `start` and `stop` with `num` number of values.\n",
    "\n",
    "Let's say I want 5 numbers between 0 and 5. `Linspace` will return a list of 5 numbers between 0 and 5 with all the numbers evenly spaced."
   ]
  },
  {
   "cell_type": "code",
   "execution_count": 110,
   "id": "ea9a0270",
   "metadata": {},
   "outputs": [
    {
     "data": {
      "text/plain": [
       "array([1., 2., 3., 4., 5.])"
      ]
     },
     "execution_count": 110,
     "metadata": {},
     "output_type": "execute_result"
    }
   ],
   "source": [
    "np.linspace(1,5,5)"
   ]
  },
  {
   "cell_type": "markdown",
   "id": "b9e1c13c",
   "metadata": {},
   "source": [
    "As you can see we have an array `[1,2,3,4,5]`. You can put any number as arguments and it will generate the array.\n",
    "\n",
    "> Let's say we want to create an array of 30 numbers from 45 to 100. All the numbers should be equally spaced."
   ]
  },
  {
   "cell_type": "code",
   "execution_count": 111,
   "id": "40a293a0",
   "metadata": {},
   "outputs": [
    {
     "data": {
      "text/plain": [
       "array([ 45.        ,  46.89655172,  48.79310345,  50.68965517,\n",
       "        52.5862069 ,  54.48275862,  56.37931034,  58.27586207,\n",
       "        60.17241379,  62.06896552,  63.96551724,  65.86206897,\n",
       "        67.75862069,  69.65517241,  71.55172414,  73.44827586,\n",
       "        75.34482759,  77.24137931,  79.13793103,  81.03448276,\n",
       "        82.93103448,  84.82758621,  86.72413793,  88.62068966,\n",
       "        90.51724138,  92.4137931 ,  94.31034483,  96.20689655,\n",
       "        98.10344828, 100.        ])"
      ]
     },
     "execution_count": 111,
     "metadata": {},
     "output_type": "execute_result"
    }
   ],
   "source": [
    "np.linspace(start=45, stop=100, num=30)"
   ]
  },
  {
   "cell_type": "markdown",
   "id": "c5370752",
   "metadata": {},
   "source": [
    "I hope, you understood the `linspace` function. \n",
    "\n",
    "Now, before going to other things, , one thing in this linspace section, got my mind. It the `dots` after each number in this example."
   ]
  },
  {
   "cell_type": "code",
   "execution_count": 112,
   "id": "47130db3",
   "metadata": {},
   "outputs": [
    {
     "data": {
      "text/plain": [
       "array([1., 2., 3., 4., 5.])"
      ]
     },
     "execution_count": 112,
     "metadata": {},
     "output_type": "execute_result"
    }
   ],
   "source": [
    "np.linspace(1,5,5)"
   ]
  },
  {
   "cell_type": "markdown",
   "id": "193e851a",
   "metadata": {},
   "source": [
    "We are generating 5 numbers from a uniform distribution between 1 to 5 and we can see that the numbers are `1,2,3,4,5` but still there is the dot after each number(`1.`,`2.`,`3.`,`4.`,`5.`). Why is that?\n",
    "\n",
    "We should check the type of the return value of `numpy.linspace(1,5,5)`."
   ]
  },
  {
   "cell_type": "code",
   "execution_count": 113,
   "id": "8216f20c",
   "metadata": {},
   "outputs": [
    {
     "data": {
      "text/plain": [
       "dtype('float64')"
      ]
     },
     "execution_count": 113,
     "metadata": {},
     "output_type": "execute_result"
    }
   ],
   "source": [
    "arr = np.linspace(1,5,5)\n",
    "arr.dtype"
   ]
  },
  {
   "cell_type": "markdown",
   "id": "b5f4adca",
   "metadata": {},
   "source": [
    "> We can use the `arr.dtype` attribute from any numpy array variable to get the data type of the array.\n",
    "\n",
    "As you can see even though we have a numpy array of all whole numbers, the data type is still `float64`.\n",
    "\n",
    "So, by default, `linspace` function returns a `float64` array.\n",
    "\n",
    "Now let's talk about `indentity` matrix.\n",
    "\n",
    "If you don't know what an identity matrix is, it's a square matrix with ones on the main diagonal and zeros elsewhere.\n",
    "\n",
    "> It is also used to represent `1` in matrix.\n",
    "\n",
    "Simply, `1` can be written as\n",
    "\n",
    "$$\n",
    "\\begin{bmatrix}\n",
    "1 & 0 & 0 & \\cdots & 0 \\\\\n",
    "0 & 1 & 0 & \\cdots & 0 \\\\\n",
    "0 & 0 & 1 & \\cdots & 0 \\\\\n",
    "\\vdots & \\vdots & \\vdots & \\ddots & \\vdots \\\\\n",
    "0 & 0 & 0 & \\cdots & 1\n",
    "\\end{bmatrix}\n",
    "$$\n",
    "\n",
    "It can be a square matrix of any size. `1x1`, `2x2`, `3x3`, `n x n` etc.\n",
    "\n",
    "All of this is just a matrix representation of `1`.\n",
    "\n",
    "And in numpy, we can get an identity matrix of any size by using `np.eye` function."
   ]
  },
  {
   "cell_type": "code",
   "execution_count": 114,
   "id": "92933b21",
   "metadata": {},
   "outputs": [
    {
     "data": {
      "text/plain": [
       "array([[1., 0., 0.],\n",
       "       [0., 1., 0.],\n",
       "       [0., 0., 1.]])"
      ]
     },
     "execution_count": 114,
     "metadata": {},
     "output_type": "execute_result"
    }
   ],
   "source": [
    "np.eye(3)"
   ]
  },
  {
   "cell_type": "markdown",
   "id": "49ccade6",
   "metadata": {},
   "source": [
    "> When you multiply a matrix by a Identity matrix, you get the same matrix back.\n",
    "\n",
    "# <a id='toc6_'></a>[Random](#toc0_)\n",
    "\n",
    "One of the most useful modules in `numpy` is `random`. It provides a number of functions to generate random numbers it different distributions.\n",
    "\n",
    "> We will visualize what different distributions look like in the visualizations library articles.\n",
    "\n",
    "This `random` module is not far off from the `random` module in Python's standard library. The main difference is that `numpy` has a number of functions to generate random numbers in different distributions.\n",
    "\n",
    "So, what about we generate a array of random numbers?"
   ]
  },
  {
   "cell_type": "code",
   "execution_count": 115,
   "id": "ae25b201",
   "metadata": {},
   "outputs": [
    {
     "data": {
      "text/plain": [
       "0.104472293407741"
      ]
     },
     "execution_count": 115,
     "metadata": {},
     "output_type": "execute_result"
    }
   ],
   "source": [
    "np.random.rand()"
   ]
  },
  {
   "cell_type": "markdown",
   "id": "31f6d3c8",
   "metadata": {},
   "source": [
    "> `rand()` mathod will return a random number between 0 and 1.\n",
    "\n",
    "We can get an array of random numbers between 0 and 1 by using the `rand()` method too."
   ]
  },
  {
   "cell_type": "code",
   "execution_count": 116,
   "id": "04ce6a16",
   "metadata": {},
   "outputs": [
    {
     "data": {
      "text/plain": [
       "array([0.43158752, 0.93239361, 0.44953181])"
      ]
     },
     "execution_count": 116,
     "metadata": {},
     "output_type": "execute_result"
    }
   ],
   "source": [
    "np.random.rand(3)"
   ]
  },
  {
   "cell_type": "markdown",
   "id": "c26c7f9c",
   "metadata": {},
   "source": [
    "If you want a 2D array, you can just pass the number of rows and columns."
   ]
  },
  {
   "cell_type": "code",
   "execution_count": 117,
   "id": "f6a34527",
   "metadata": {},
   "outputs": [
    {
     "data": {
      "text/plain": [
       "array([[0.24906832, 0.10305916, 0.00878262, 0.10214106],\n",
       "       [0.57093834, 0.87229698, 0.8436116 , 0.98163268],\n",
       "       [0.39778114, 0.13329881, 0.16237252, 0.34686357]])"
      ]
     },
     "execution_count": 117,
     "metadata": {},
     "output_type": "execute_result"
    }
   ],
   "source": [
    "np.random.rand(3,4)"
   ]
  },
  {
   "cell_type": "markdown",
   "id": "dde8a464",
   "metadata": {},
   "source": [
    "We can make as many dimentions we want. Just pass the size of the dimentions and this method will create the array with the given dimentions."
   ]
  },
  {
   "cell_type": "code",
   "execution_count": 118,
   "id": "e3f2f4b0",
   "metadata": {},
   "outputs": [
    {
     "data": {
      "text/plain": [
       "array([[[[0.09585684, 0.29087593, 0.24061427, 0.73769875],\n",
       "         [0.02423596, 0.43138607, 0.6835523 , 0.24803958]],\n",
       "\n",
       "        [[0.11992288, 0.63738875, 0.26562533, 0.05615219],\n",
       "         [0.361197  , 0.02373971, 0.42246836, 0.01021005]],\n",
       "\n",
       "        [[0.08753078, 0.34904328, 0.47139676, 0.21621414],\n",
       "         [0.57750292, 0.15275787, 0.3866508 , 0.13562721]]],\n",
       "\n",
       "\n",
       "       [[[0.55345656, 0.10652228, 0.80768043, 0.83750555],\n",
       "         [0.66459144, 0.56850705, 0.91782622, 0.70125719]],\n",
       "\n",
       "        [[0.79756121, 0.46633319, 0.38049552, 0.68322635],\n",
       "         [0.75353685, 0.09774307, 0.46149039, 0.66267493]],\n",
       "\n",
       "        [[0.1947155 , 0.7963879 , 0.22959122, 0.29666245],\n",
       "         [0.47503294, 0.36008213, 0.45462091, 0.68463677]]]])"
      ]
     },
     "execution_count": 118,
     "metadata": {},
     "output_type": "execute_result"
    }
   ],
   "source": [
    "np.random.rand(2,3,2,4)"
   ]
  },
  {
   "cell_type": "markdown",
   "id": "7c3a12e6",
   "metadata": {},
   "source": [
    "Now, the values generated from the `rand` function is from the `uniform` distribution. We can generate random numbers from `gaussian` distribution or `normal` distribution using the `randn` function."
   ]
  },
  {
   "cell_type": "code",
   "execution_count": 119,
   "id": "72f66a2a",
   "metadata": {},
   "outputs": [
    {
     "data": {
      "text/plain": [
       "array([[ 5.15903818e-02, -3.47550608e-01,  3.63186890e-01,\n",
       "         1.06059104e-01],\n",
       "       [ 1.41121504e+00,  5.28145615e-01,  8.51892804e-02,\n",
       "        -5.18088223e-01],\n",
       "       [ 3.61883780e-01,  1.09034214e+00,  3.33586450e-01,\n",
       "        -8.58124283e-04]])"
      ]
     },
     "execution_count": 119,
     "metadata": {},
     "output_type": "execute_result"
    }
   ],
   "source": [
    "np.random.randn(3,4)"
   ]
  },
  {
   "cell_type": "markdown",
   "id": "265a3734",
   "metadata": {},
   "source": [
    "This works as same as the `rand` function. But the number generated is from `normal distribution`. That's why you can see negetive numbers as well.\n",
    "\n",
    "These are all numbers between -1 and 1.\n",
    "\n",
    "But what if you need interger numbers? You can use `np.random.randint(low, high, size)`"
   ]
  },
  {
   "cell_type": "code",
   "execution_count": 120,
   "id": "de385f9f",
   "metadata": {},
   "outputs": [
    {
     "data": {
      "text/plain": [
       "array([48, 66,  6, 81, 20])"
      ]
     },
     "execution_count": 120,
     "metadata": {},
     "output_type": "execute_result"
    }
   ],
   "source": [
    "np.random.randint(1, 100, size=5)"
   ]
  },
  {
   "cell_type": "markdown",
   "id": "0699fd81",
   "metadata": {},
   "source": [
    "`randint` method will generate rnaodm integers between min and max values and if you want an array or a matrix or highers dimension you can set the size or dimension size as a tuple."
   ]
  },
  {
   "cell_type": "code",
   "execution_count": 121,
   "id": "0b17aafb",
   "metadata": {},
   "outputs": [
    {
     "data": {
      "text/plain": [
       "array([[[24, 40, 43, 47, 46, 49],\n",
       "        [24, 29, 41, 48, 32, 38],\n",
       "        [41, 25, 41, 48, 39, 49]],\n",
       "\n",
       "       [[36, 28, 26, 41, 34, 42],\n",
       "        [46, 33, 47, 24, 41, 46],\n",
       "        [45, 21, 40, 39, 20, 32]]])"
      ]
     },
     "execution_count": 121,
     "metadata": {},
     "output_type": "execute_result"
    }
   ],
   "source": [
    "np.random.randint(20,50, size=(2,3,6))"
   ]
  },
  {
   "cell_type": "markdown",
   "id": "b9445de2",
   "metadata": {},
   "source": [
    "Pretty easy right? 😃\n",
    "\n",
    "This module is very useful when you want a dummy data to work with. It's a very simple module that you can use to create a dummy dataset very fast.\n",
    "\n",
    "Now, I hope you got the gist of what numpy is and how it works. Now time for some useful functions that can help you undersand the `array` better.\n",
    "\n",
    "## <a id='toc6_1_'></a>[Some Useful Functions](#toc0_)\n",
    "\n",
    "With numpy, it is very easy to create a multidimensional array. But sometime seeing a multidimensional array can be a bit confusing and hard to wrap your head around. But it helps if we can know the shape of a array.\n",
    "\n",
    "So, let's experiment."
   ]
  },
  {
   "cell_type": "code",
   "execution_count": 122,
   "id": "577c9fc9",
   "metadata": {},
   "outputs": [
    {
     "data": {
      "text/plain": [
       "array([[23, 48, 23, 39, 17],\n",
       "       [27, 41, 27, 35, 47],\n",
       "       [48, 38,  3,  6, 29],\n",
       "       [41, 47, 43, 27, 45],\n",
       "       [24, 21, 37, 16, 19],\n",
       "       [44, 28,  4, 13, 14],\n",
       "       [12, 43, 49, 43,  7],\n",
       "       [44, 11, 41, 18, 15],\n",
       "       [39, 11,  6, 35, 10],\n",
       "       [27, 17, 37, 19,  5]])"
      ]
     },
     "execution_count": 122,
     "metadata": {},
     "output_type": "execute_result"
    }
   ],
   "source": [
    "rarr = np.random.randint(1,50,size=(10,5))\n",
    "rarr"
   ]
  },
  {
   "cell_type": "markdown",
   "id": "c13c8c96",
   "metadata": {},
   "source": [
    "Here I created a matrix of size `10x5`, for me it is pretty easy to understand, but if you are a only seeing this array for the first time you might get confused. So, what we can do is, see the shape of the array."
   ]
  },
  {
   "cell_type": "code",
   "execution_count": 123,
   "id": "934a69b5",
   "metadata": {},
   "outputs": [
    {
     "data": {
      "text/plain": [
       "(10, 5)"
      ]
     },
     "execution_count": 123,
     "metadata": {},
     "output_type": "execute_result"
    }
   ],
   "source": [
    "rarr.shape"
   ]
  },
  {
   "cell_type": "markdown",
   "id": "146999b0",
   "metadata": {},
   "source": [
    "`shape` is a numpy array attribute that returns the shape of the array. I created the `10x5` array and with simple command you can also see that it is a 2D matrix that has 10 rows and 5 columns.\n",
    "\n",
    "Now, what if you want to change the size of the rows or columns? You can do that by using the `reshape` method. Let's see how it works."
   ]
  },
  {
   "cell_type": "code",
   "execution_count": 124,
   "id": "b55d633f",
   "metadata": {},
   "outputs": [
    {
     "data": {
      "text/plain": [
       "array([[23, 48, 23, 39, 17, 27, 41, 27, 35, 47],\n",
       "       [48, 38,  3,  6, 29, 41, 47, 43, 27, 45],\n",
       "       [24, 21, 37, 16, 19, 44, 28,  4, 13, 14],\n",
       "       [12, 43, 49, 43,  7, 44, 11, 41, 18, 15],\n",
       "       [39, 11,  6, 35, 10, 27, 17, 37, 19,  5]])"
      ]
     },
     "execution_count": 124,
     "metadata": {},
     "output_type": "execute_result"
    }
   ],
   "source": [
    "rarr.reshape(5,10)"
   ]
  },
  {
   "cell_type": "markdown",
   "id": "67a5b907",
   "metadata": {},
   "source": [
    "Here you can see I interchange the rows and columns of a matrix. And it is seamlessly done by numpy.\n",
    "\n",
    "> reshape() method doesn't reshape the matrix, it just returns a new matrix with the same data but with a different shape. So, to permanently change the shape of a matrix, you can store the reshaped matrix in a new variable or in the same variable.\n",
    "\n",
    "Now, can we change the whole array into any shape?"
   ]
  },
  {
   "cell_type": "code",
   "execution_count": 125,
   "id": "d3ed2b5a",
   "metadata": {},
   "outputs": [
    {
     "ename": "ValueError",
     "evalue": "cannot reshape array of size 50 into shape (2,5)",
     "output_type": "error",
     "traceback": [
      "\u001b[31m---------------------------------------------------------------------------\u001b[39m",
      "\u001b[31mValueError\u001b[39m                                Traceback (most recent call last)",
      "\u001b[36mCell\u001b[39m\u001b[36m \u001b[39m\u001b[32mIn[125]\u001b[39m\u001b[32m, line 1\u001b[39m\n\u001b[32m----> \u001b[39m\u001b[32m1\u001b[39m rarr.reshape(\u001b[32m2\u001b[39m,\u001b[32m5\u001b[39m)\n",
      "\u001b[31mValueError\u001b[39m: cannot reshape array of size 50 into shape (2,5)"
     ]
    }
   ],
   "source": [
    "rarr.reshape(2,5)"
   ]
  },
  {
   "cell_type": "markdown",
   "id": "b01dac8d",
   "metadata": {},
   "source": [
    "And it's showing an error. This error is because we are trying to change the share of the array in a wrong shape. We need to change the shape of the array in a way that it doesn't doesn't change the elements of the array.\n",
    "\n",
    "The `rarr` array has a shape of `(10, 5)`. So, it has 50 elements. But, we want to change the shape of the array to `(2,5)`. Which means the matrix can have only 10 elements. Which is not possible. So, we should be careful when reshaping the array.\n",
    "\n",
    "> One clever way to reshape is to multiply the sizes of different dimensions and check if it's equal to the total number of elements in the array. \n",
    "\n",
    "So, that means the number of elements should not change so. If I want to reshape the array to `(5,2,5)` then it should work right?"
   ]
  },
  {
   "cell_type": "code",
   "execution_count": 126,
   "id": "9b98c827",
   "metadata": {},
   "outputs": [
    {
     "data": {
      "text/plain": [
       "array([[[23, 48, 23, 39, 17],\n",
       "        [27, 41, 27, 35, 47]],\n",
       "\n",
       "       [[48, 38,  3,  6, 29],\n",
       "        [41, 47, 43, 27, 45]],\n",
       "\n",
       "       [[24, 21, 37, 16, 19],\n",
       "        [44, 28,  4, 13, 14]],\n",
       "\n",
       "       [[12, 43, 49, 43,  7],\n",
       "        [44, 11, 41, 18, 15]],\n",
       "\n",
       "       [[39, 11,  6, 35, 10],\n",
       "        [27, 17, 37, 19,  5]]])"
      ]
     },
     "execution_count": 126,
     "metadata": {},
     "output_type": "execute_result"
    }
   ],
   "source": [
    "rarr.reshape(5,2,5)"
   ]
  },
  {
   "cell_type": "markdown",
   "id": "ed9c86f0",
   "metadata": {},
   "source": [
    "Yes! It works. Because in the end `5x2x5=50` and we are not changing the element size.\n",
    "\n",
    "With that out of the way, now let's think about some more thing we should be able to do.\n",
    "\n",
    "Ow! I got one.\n",
    "\n",
    "How do we find the maximum or the minimum value in a numpy array?"
   ]
  },
  {
   "cell_type": "code",
   "execution_count": 127,
   "id": "e321f538",
   "metadata": {},
   "outputs": [],
   "source": [
    "arr = np.random.randint(1,100,size=30)"
   ]
  },
  {
   "cell_type": "markdown",
   "id": "ae545d43",
   "metadata": {},
   "source": [
    "For finding the maximum value:"
   ]
  },
  {
   "cell_type": "code",
   "execution_count": 128,
   "id": "d5a3785a",
   "metadata": {},
   "outputs": [
    {
     "data": {
      "text/plain": [
       "np.int64(97)"
      ]
     },
     "execution_count": 128,
     "metadata": {},
     "output_type": "execute_result"
    }
   ],
   "source": [
    "arr.max()"
   ]
  },
  {
   "cell_type": "markdown",
   "id": "ef1b6bfb",
   "metadata": {},
   "source": [
    "For finding the minimum value:"
   ]
  },
  {
   "cell_type": "code",
   "execution_count": 129,
   "id": "d466078f",
   "metadata": {},
   "outputs": [
    {
     "data": {
      "text/plain": [
       "np.int64(7)"
      ]
     },
     "execution_count": 129,
     "metadata": {},
     "output_type": "execute_result"
    }
   ],
   "source": [
    "arr.min()"
   ]
  },
  {
   "cell_type": "markdown",
   "id": "b5b7d627",
   "metadata": {},
   "source": [
    "Noice! But what if I tell you to find the index of the maximum value or the minimum value of a list? `Python` doesn't provide a direct way to do that but `Numpy` does. \n",
    "\n",
    "To get the index of the maximum value of a numpy array:"
   ]
  },
  {
   "cell_type": "code",
   "execution_count": 130,
   "id": "a92a75e0",
   "metadata": {},
   "outputs": [
    {
     "data": {
      "text/plain": [
       "np.int64(5)"
      ]
     },
     "execution_count": 130,
     "metadata": {},
     "output_type": "execute_result"
    }
   ],
   "source": [
    "arr.argmax()"
   ]
  },
  {
   "cell_type": "markdown",
   "id": "20a2d76b",
   "metadata": {},
   "source": [
    "To find the index of the minimum value:"
   ]
  },
  {
   "cell_type": "code",
   "execution_count": 131,
   "id": "a89c0da5",
   "metadata": {},
   "outputs": [
    {
     "data": {
      "text/plain": [
       "np.int64(27)"
      ]
     },
     "execution_count": 131,
     "metadata": {},
     "output_type": "execute_result"
    }
   ],
   "source": [
    "arr.argmin()"
   ]
  },
  {
   "cell_type": "markdown",
   "id": "58b571c1",
   "metadata": {},
   "source": [
    "And I think that covers the elementary stuff. And we can now go on to the more complecated stuff.\n",
    "\n",
    "# <a id='toc7_'></a>[Indexing](#toc0_)\n",
    "\n",
    "One of the best things about numpy is that it allows you high level indexing. So you can do things like,\n",
    "- `Selecting`.\n",
    "- `Slicing`.\n",
    "- `n-D matrix slicing`.\n",
    "- `Conditional indexing`.\n",
    "\n",
    "And many more.\n",
    "\n",
    "Also, you can do indexing just like you would in python."
   ]
  },
  {
   "cell_type": "code",
   "execution_count": 132,
   "id": "1df68542",
   "metadata": {},
   "outputs": [
    {
     "data": {
      "text/plain": [
       "array([ 0,  1,  2,  3,  4,  5,  6,  7,  8,  9, 10])"
      ]
     },
     "execution_count": 132,
     "metadata": {},
     "output_type": "execute_result"
    }
   ],
   "source": [
    "arr = np.arange(11)\n",
    "arr"
   ]
  },
  {
   "cell_type": "code",
   "execution_count": 133,
   "id": "5068af3d",
   "metadata": {},
   "outputs": [
    {
     "data": {
      "text/plain": [
       "np.int64(5)"
      ]
     },
     "execution_count": 133,
     "metadata": {},
     "output_type": "execute_result"
    }
   ],
   "source": [
    "arr[5]"
   ]
  },
  {
   "cell_type": "markdown",
   "id": "89f3b79e",
   "metadata": {},
   "source": [
    "As you can see selecting any index is the same as we do in python lists. \n",
    "\n",
    "And indexing like [-1] is also present in numpy arrays. "
   ]
  },
  {
   "cell_type": "code",
   "execution_count": 134,
   "id": "a2cc7637",
   "metadata": {},
   "outputs": [
    {
     "data": {
      "text/plain": [
       "np.int64(10)"
      ]
     },
     "execution_count": 134,
     "metadata": {},
     "output_type": "execute_result"
    }
   ],
   "source": [
    "arr[-1]"
   ]
  },
  {
   "cell_type": "markdown",
   "id": "9792463c",
   "metadata": {},
   "source": [
    "It's all the same as the base python. But numpy excels in handling slicing. For a normal vector, it's the same as python. "
   ]
  },
  {
   "cell_type": "markdown",
   "id": "320d8a32",
   "metadata": {},
   "source": [
    "We can use colon `[:]` to select all the elements of an array.\n",
    "\n",
    "> `[start:end:step]`\n",
    "> Start is set to 0 by default.\n",
    "> End is set to the length of the array by default.\n",
    "> Step is set to 1 by default.\n",
    "\n",
    "So, Let's say I want values from index 0 to 4, I can do this:"
   ]
  },
  {
   "cell_type": "code",
   "execution_count": 135,
   "id": "18f306ab",
   "metadata": {},
   "outputs": [
    {
     "data": {
      "text/plain": [
       "array([0, 1, 2, 3, 4])"
      ]
     },
     "execution_count": 135,
     "metadata": {},
     "output_type": "execute_result"
    }
   ],
   "source": [
    "arr[0:5]"
   ]
  },
  {
   "cell_type": "markdown",
   "id": "6d09c051",
   "metadata": {},
   "source": [
    "The end value is exclusive, so `5th` index is excluded and we get a list of values from `0` to `4`.\n",
    "\n",
    "> Just remember to put (index you want + 1). If you want from `0` to `4` then you have to put `[0:5]` or if you want from `3` to `7` then you have to put `[3:8]`.\n",
    "\n",
    "As the default start index is set to `0` if you want a slice from beginning to any index you can keep the start index empty and just put the end index."
   ]
  },
  {
   "cell_type": "code",
   "execution_count": 136,
   "id": "8771f722",
   "metadata": {},
   "outputs": [
    {
     "data": {
      "text/plain": [
       "array([0, 1, 2])"
      ]
     },
     "execution_count": 136,
     "metadata": {},
     "output_type": "execute_result"
    }
   ],
   "source": [
    "arr[:3]"
   ]
  },
  {
   "cell_type": "markdown",
   "id": "258dd44a",
   "metadata": {},
   "source": [
    "It's the same as"
   ]
  },
  {
   "cell_type": "code",
   "execution_count": 137,
   "id": "b3656905",
   "metadata": {},
   "outputs": [
    {
     "data": {
      "text/plain": [
       "array([0, 1, 2])"
      ]
     },
     "execution_count": 137,
     "metadata": {},
     "output_type": "execute_result"
    }
   ],
   "source": [
    "arr[0:3:1] # start from 0, step by 1, stop at 3"
   ]
  },
  {
   "cell_type": "markdown",
   "id": "b359bc8b",
   "metadata": {},
   "source": [
    "If you want a slice from a specific index to the end of the array, you can keep the end index empty too. Because the end index is set to the length of the array by default."
   ]
  },
  {
   "cell_type": "code",
   "execution_count": 138,
   "id": "5df5cc0b",
   "metadata": {},
   "outputs": [
    {
     "data": {
      "text/plain": [
       "array([ 5,  6,  7,  8,  9, 10])"
      ]
     },
     "execution_count": 138,
     "metadata": {},
     "output_type": "execute_result"
    }
   ],
   "source": [
    "arr[5:]"
   ]
  },
  {
   "cell_type": "markdown",
   "id": "41fdd11b",
   "metadata": {},
   "source": [
    "You can also experiment with the step size too"
   ]
  },
  {
   "cell_type": "code",
   "execution_count": 139,
   "id": "93b24f7d",
   "metadata": {},
   "outputs": [
    {
     "data": {
      "text/plain": [
       "array([0, 1, 2, 3, 4, 5, 6, 7])"
      ]
     },
     "execution_count": 139,
     "metadata": {},
     "output_type": "execute_result"
    }
   ],
   "source": [
    "arr[:8] # first 8 elements"
   ]
  },
  {
   "cell_type": "code",
   "execution_count": 140,
   "id": "cd9a2acb",
   "metadata": {},
   "outputs": [
    {
     "data": {
      "text/plain": [
       "array([0, 2, 4, 6])"
      ]
     },
     "execution_count": 140,
     "metadata": {},
     "output_type": "execute_result"
    }
   ],
   "source": [
    "arr[:8:2] # start from index 0 and take every 2nd element to the 7th element"
   ]
  },
  {
   "cell_type": "markdown",
   "id": "359067eb",
   "metadata": {},
   "source": [
    "Looks good. But one thing that might just through you off, is when you want to store a slice in a different variable."
   ]
  },
  {
   "cell_type": "code",
   "execution_count": 141,
   "id": "e90785a1",
   "metadata": {},
   "outputs": [
    {
     "data": {
      "text/plain": [
       "array([1, 2, 3, 4, 5, 6])"
      ]
     },
     "execution_count": 141,
     "metadata": {},
     "output_type": "execute_result"
    }
   ],
   "source": [
    "arr_2 = arr[1:7]\n",
    "arr_2"
   ]
  },
  {
   "cell_type": "markdown",
   "id": "778bae5c",
   "metadata": {},
   "source": [
    "Easy and looks just like python right?\n",
    "\n",
    "Now, we can do indexing in this new sliced array."
   ]
  },
  {
   "cell_type": "code",
   "execution_count": 142,
   "id": "dd0af5b4",
   "metadata": {},
   "outputs": [
    {
     "data": {
      "text/plain": [
       "array([3, 4, 5, 6])"
      ]
     },
     "execution_count": 142,
     "metadata": {},
     "output_type": "execute_result"
    }
   ],
   "source": [
    "arr_2[2:]"
   ]
  },
  {
   "cell_type": "markdown",
   "id": "f0782e73",
   "metadata": {},
   "source": [
    "Looks great!\n",
    "\n",
    "Nothing out of the ordinary here. Let's try to change a value in the array."
   ]
  },
  {
   "cell_type": "code",
   "execution_count": 143,
   "id": "83a182c4",
   "metadata": {},
   "outputs": [
    {
     "data": {
      "text/plain": [
       "array([ 1,  2, 99,  4,  5,  6])"
      ]
     },
     "execution_count": 143,
     "metadata": {},
     "output_type": "execute_result"
    }
   ],
   "source": [
    "arr_2[2] = 99\n",
    "arr_2"
   ]
  },
  {
   "cell_type": "markdown",
   "id": "8c2ae04b",
   "metadata": {},
   "source": [
    "We can change values of a numpy array exactly we do in a python list.\n",
    "\n",
    "BUUUUUUT\n",
    "\n",
    "If I look at the main array, Some interesting will happen."
   ]
  },
  {
   "cell_type": "code",
   "execution_count": 144,
   "id": "0f3ea653",
   "metadata": {},
   "outputs": [
    {
     "data": {
      "text/plain": [
       "array([ 0,  1,  2, 99,  4,  5,  6,  7,  8,  9, 10])"
      ]
     },
     "execution_count": 144,
     "metadata": {},
     "output_type": "execute_result"
    }
   ],
   "source": [
    "arr"
   ]
  },
  {
   "cell_type": "markdown",
   "id": "02c7d668",
   "metadata": {},
   "source": [
    "WHAT! \n",
    "\n",
    "The Main array changed! Why?! HOW?!\n",
    "\n",
    "I changed the value of the sliced array but why would the main array change?\n",
    "\n",
    "This is because the numpy doesn't copy the array when slicing. It just broadcasts the sliced array to any other variable.\n",
    "\n",
    "So, when we `slice` the array, it is `not` taking any `new space` in the memory. It is just that the sliced that is `directly broadcasted`. And if we `store` that slice in a `new variable`, it'll look like and feel like a new array but still it is a `part` of the main array which we are just using as a new variable.\n",
    "\n",
    "So, if we `change` an array that is `sliced` from another numpy array, it will change the main array.\n",
    "\n",
    "Let's make a new array named `main_arr`:"
   ]
  },
  {
   "cell_type": "code",
   "execution_count": 145,
   "id": "105c63bb",
   "metadata": {},
   "outputs": [
    {
     "data": {
      "text/plain": [
       "array([ 0,  1,  2,  3,  4,  5,  6,  7,  8,  9, 10, 11, 12, 13, 14, 15, 16,\n",
       "       17, 18, 19])"
      ]
     },
     "execution_count": 145,
     "metadata": {},
     "output_type": "execute_result"
    }
   ],
   "source": [
    "main_arr = np.arange(20)\n",
    "main_arr"
   ]
  },
  {
   "cell_type": "markdown",
   "id": "001f7b60",
   "metadata": {},
   "source": [
    "Now get a slice of the array,"
   ]
  },
  {
   "cell_type": "code",
   "execution_count": 146,
   "id": "cb81373d",
   "metadata": {},
   "outputs": [
    {
     "data": {
      "text/plain": [
       "array([ 3,  4,  5,  6,  7,  8,  9, 10, 11, 12])"
      ]
     },
     "execution_count": 146,
     "metadata": {},
     "output_type": "execute_result"
    }
   ],
   "source": [
    "sliced_arr = main_arr[3:13]\n",
    "sliced_arr"
   ]
  },
  {
   "cell_type": "markdown",
   "id": "a4efca08",
   "metadata": {},
   "source": [
    "Change the whole slice to 12"
   ]
  },
  {
   "cell_type": "code",
   "execution_count": 147,
   "id": "d29e5122",
   "metadata": {},
   "outputs": [
    {
     "data": {
      "text/plain": [
       "array([12, 12, 12, 12, 12, 12, 12, 12, 12, 12])"
      ]
     },
     "execution_count": 147,
     "metadata": {},
     "output_type": "execute_result"
    }
   ],
   "source": [
    "sliced_arr[:] = 12 # changing the values of the whole array\n",
    "sliced_arr"
   ]
  },
  {
   "cell_type": "markdown",
   "id": "5f9206d3",
   "metadata": {},
   "source": [
    "Now, let's take a look at the main array"
   ]
  },
  {
   "cell_type": "code",
   "execution_count": 148,
   "id": "1847a7af",
   "metadata": {},
   "outputs": [
    {
     "data": {
      "text/plain": [
       "array([ 0,  1,  2, 12, 12, 12, 12, 12, 12, 12, 12, 12, 12, 13, 14, 15, 16,\n",
       "       17, 18, 19])"
      ]
     },
     "execution_count": 148,
     "metadata": {},
     "output_type": "execute_result"
    }
   ],
   "source": [
    "main_arr"
   ]
  },
  {
   "cell_type": "markdown",
   "id": "a3fcf3bf",
   "metadata": {},
   "source": [
    "And you can see the that the sliced part of the main array has also changed to 12.\n",
    "\n",
    "> That's why be careful when you are slicing an array. Because you might unintentionally change the original array.\n",
    "\n",
    "And if you want a copy of the slice, you can use the copy() method.\n",
    "\n",
    "This method will return a copy of the slice instead of braodcasting the slice from the original array."
   ]
  },
  {
   "cell_type": "code",
   "execution_count": 149,
   "id": "6953ab58",
   "metadata": {},
   "outputs": [
    {
     "name": "stdout",
     "output_type": "stream",
     "text": [
      "main array is [0 1 2 3 4 5 6 7 8 9]\n",
      "copied slice is [4 5 6 7 8]\n",
      "changed the array to [99 99 99 99 99]\n",
      "main array is [0 1 2 3 4 5 6 7 8 9]\n"
     ]
    }
   ],
   "source": [
    "main_arr = np.arange(10)\n",
    "print(f\"main array is {main_arr}\")\n",
    "\n",
    "copied_slice = main_arr[4:9].copy()\n",
    "print(f\"copied slice is {copied_slice}\")\n",
    "\n",
    "#changing the whole array to 99\n",
    "copied_slice[:] = 99\n",
    "print(f'changed the array to {copied_slice}')\n",
    "print(f'main array is {main_arr}')"
   ]
  },
  {
   "cell_type": "markdown",
   "id": "1c39a3e4",
   "metadata": {},
   "source": [
    "This way your original array will be unaffected.\n",
    "\n",
    "Now, for the fun part.\n",
    "\n",
    "# <a id='toc8_'></a>[Matrix Indexing](#toc0_)\n",
    "\n",
    "`Numpy` specializes in matrix handling. "
   ]
  },
  {
   "cell_type": "code",
   "execution_count": 150,
   "id": "d2f062ce",
   "metadata": {},
   "outputs": [
    {
     "data": {
      "text/plain": [
       "array([[   1,    2,    3,    4],\n",
       "       [  10,   20,   30,   40],\n",
       "       [ 100,  200,  300,  400],\n",
       "       [1000, 2000, 3000, 4000]])"
      ]
     },
     "execution_count": 150,
     "metadata": {},
     "output_type": "execute_result"
    }
   ],
   "source": [
    "matrix = np.array([[1, 2, 3, 4], [10, 20, 30, 40], [100, 200, 300, 400], [1000, 2000, 3000, 4000]])\n",
    "matrix"
   ]
  },
  {
   "cell_type": "markdown",
   "id": "3cc55ac0",
   "metadata": {},
   "source": [
    "In numpy, there's two ways you can index a matrix:\n",
    "\n",
    "**The python way(double square brackets)**"
   ]
  },
  {
   "cell_type": "code",
   "execution_count": 151,
   "id": "2a792a29",
   "metadata": {},
   "outputs": [
    {
     "data": {
      "text/plain": [
       "np.int64(2)"
      ]
     },
     "execution_count": 151,
     "metadata": {},
     "output_type": "execute_result"
    }
   ],
   "source": [
    "matrix[0][1]"
   ]
  },
  {
   "cell_type": "markdown",
   "id": "63027413",
   "metadata": {},
   "source": [
    "Or,\n",
    "\n",
    "**The Numpy way (single bracket with comma)**"
   ]
  },
  {
   "cell_type": "code",
   "execution_count": 152,
   "id": "0a4ac336",
   "metadata": {},
   "outputs": [
    {
     "data": {
      "text/plain": [
       "np.int64(2)"
      ]
     },
     "execution_count": 152,
     "metadata": {},
     "output_type": "execute_result"
    }
   ],
   "source": [
    "matrix[0,1]"
   ]
  },
  {
   "cell_type": "markdown",
   "id": "ff3b0fd4",
   "metadata": {},
   "source": [
    "There are both equivalent ways to get elements from a matrix. I would prefer to use the second way, because we are using `numpy` and we should stick to it's syntax to avoid confusions.\n",
    "\n",
    "Now, let's talk about matrix slicing. The Broadcasting from the original array is still valid. But we get some very useful features for matrix slicing in `numpy`.\n",
    "\n",
    "Normally if we have a 2D list in python. If we want a cirtain part of that list we have to do it logically.\n",
    "\n",
    "For example, let's say we have a list like this:"
   ]
  },
  {
   "cell_type": "code",
   "execution_count": 153,
   "id": "20408121",
   "metadata": {},
   "outputs": [
    {
     "data": {
      "text/plain": [
       "[[1, 2, 3], [4, 5, 6], [7, 8, 9]]"
      ]
     },
     "execution_count": 153,
     "metadata": {},
     "output_type": "execute_result"
    }
   ],
   "source": [
    "matrix_python = [[1, 2, 3], [4, 5, 6], [7, 8, 9]]\n",
    "matrix_python"
   ]
  },
  {
   "cell_type": "markdown",
   "id": "8a8cd127",
   "metadata": {},
   "source": [
    "I want the `[[5,6], [8,9]]` slice. \n",
    "\n",
    "To get that first we need to slice by rows."
   ]
  },
  {
   "cell_type": "code",
   "execution_count": 154,
   "id": "d5df49bf",
   "metadata": {},
   "outputs": [
    {
     "data": {
      "text/plain": [
       "[[4, 5, 6], [7, 8, 9]]"
      ]
     },
     "execution_count": 154,
     "metadata": {},
     "output_type": "execute_result"
    }
   ],
   "source": [
    "slice = matrix_python[1:]\n",
    "slice"
   ]
  },
  {
   "cell_type": "markdown",
   "id": "36ed9007",
   "metadata": {},
   "source": [
    "And now, the issue arrives that we cannot slice by columns in python. So, we need to use a for loop to get the rows in the slice and then get the slice of each row and add them to a new array.\n",
    "\n",
    "> I know I wrote some shiz you guys didn't understand, me too."
   ]
  },
  {
   "cell_type": "code",
   "execution_count": 155,
   "id": "282a11c3",
   "metadata": {},
   "outputs": [
    {
     "data": {
      "text/plain": [
       "[[5, 6], [8, 9]]"
      ]
     },
     "execution_count": 155,
     "metadata": {},
     "output_type": "execute_result"
    }
   ],
   "source": [
    "slice = [arr[1:] for arr in slice]\n",
    "slice"
   ]
  },
  {
   "cell_type": "markdown",
   "id": "03416003",
   "metadata": {},
   "source": [
    "And we have the slice we need. This way too much work. Numpy has a great way to do this.\n",
    "\n",
    "We have this matrix. "
   ]
  },
  {
   "cell_type": "code",
   "execution_count": 156,
   "id": "d784df72",
   "metadata": {},
   "outputs": [
    {
     "data": {
      "text/plain": [
       "array([[   1,    2,    3,    4],\n",
       "       [  10,   20,   30,   40],\n",
       "       [ 100,  200,  300,  400],\n",
       "       [1000, 2000, 3000, 4000]])"
      ]
     },
     "execution_count": 156,
     "metadata": {},
     "output_type": "execute_result"
    }
   ],
   "source": [
    "matrix"
   ]
  },
  {
   "cell_type": "markdown",
   "id": "f44c5c8f",
   "metadata": {},
   "source": [
    "And I want\n",
    "\n",
    "$$\n",
    "\\begin{bmatrix}\n",
    "    20 & 30 \\\\\n",
    "    200 & 300 \\\\\n",
    "\\end{bmatrix}\n",
    "$$\n",
    "\n",
    "We can do this simply slicing the array because numpy has column slicing too. "
   ]
  },
  {
   "cell_type": "code",
   "execution_count": 157,
   "id": "b6bb9c0b",
   "metadata": {},
   "outputs": [
    {
     "data": {
      "text/plain": [
       "array([[ 20,  30],\n",
       "       [200, 300]])"
      ]
     },
     "execution_count": 157,
     "metadata": {},
     "output_type": "execute_result"
    }
   ],
   "source": [
    "matrix_slice = matrix[1:3, 1:3]\n",
    "matrix_slice"
   ]
  },
  {
   "cell_type": "markdown",
   "id": "41a8170e",
   "metadata": {},
   "source": [
    "> We use the comma separated way to slice in numpy for matrices.\n",
    "\n",
    "If we only want to slice by row. \n",
    "\n",
    "We can do that normal way."
   ]
  },
  {
   "cell_type": "code",
   "execution_count": 158,
   "id": "2c14989a",
   "metadata": {},
   "outputs": [
    {
     "data": {
      "text/plain": [
       "array([[  10,   20,   30,   40],\n",
       "       [ 100,  200,  300,  400],\n",
       "       [1000, 2000, 3000, 4000]])"
      ]
     },
     "execution_count": 158,
     "metadata": {},
     "output_type": "execute_result"
    }
   ],
   "source": [
    "matrix[1:]"
   ]
  },
  {
   "cell_type": "markdown",
   "id": "44c988ad",
   "metadata": {},
   "source": [
    "The best part is if you want `slice by column`, you can use a `comma` to separate the `row` and `column` index."
   ]
  },
  {
   "cell_type": "code",
   "execution_count": 159,
   "id": "2efb4008",
   "metadata": {},
   "outputs": [
    {
     "data": {
      "text/plain": [
       "array([[   2,    3],\n",
       "       [  20,   30],\n",
       "       [ 200,  300],\n",
       "       [2000, 3000]])"
      ]
     },
     "execution_count": 159,
     "metadata": {},
     "output_type": "execute_result"
    }
   ],
   "source": [
    "matrix[:,1:3]"
   ]
  },
  {
   "cell_type": "markdown",
   "id": "b34a4904",
   "metadata": {},
   "source": [
    "Here I'm slicing only the column from 1 to 2.\n",
    "\n",
    "> The end value will be excluded.\n",
    "\n",
    "So, by `[:, 1:3]`, I saying give me all the rows but the columns from 1 to 2.\n",
    "\n",
    "> You cannot do direct column slicing like `df[, 1:3]`. It'll show an error.\n",
    "\n",
    "This can be a tough concept to get the hang of. So, I'll give you a task.\n",
    "\n",
    "> Make a random array of size 20. Reshape it into a 4x5 matrix. Then, trying indexing the that matrix and then slicing different parts of it.\n",
    "\n",
    "Try it yourself and remember the end value is excluded.\n",
    "\n",
    "> I was traumatized by this when I was learning.\n",
    "\n",
    "There's more type of selections you can do.\n",
    "\n",
    "# <a id='toc9_'></a>[Conditional Selection](#toc0_)\n",
    "\n",
    "Row and Column indexing is one those numpy concepts that is very important to understand but the use-cases are limited. \n",
    "\n",
    "`COnditional selection` on the other hand, is a very a very powerful concept and it's use is very frequent in data analysis.\n",
    "\n",
    "Because it let's you select the data based on conditions.\n",
    "\n",
    "Let's see an example."
   ]
  },
  {
   "cell_type": "code",
   "execution_count": 160,
   "id": "88124020",
   "metadata": {},
   "outputs": [
    {
     "data": {
      "text/plain": [
       "array([77, 61,  8, 67, 63, 18, 81, 20, 49, 99, 20, 61, 53, 50, 14, 10])"
      ]
     },
     "execution_count": 160,
     "metadata": {},
     "output_type": "execute_result"
    }
   ],
   "source": [
    "arr = np.random.randint(1,101, size=16)\n",
    "arr"
   ]
  },
  {
   "cell_type": "markdown",
   "id": "ccc14a6a",
   "metadata": {},
   "source": [
    "Here, I have a completely random array of numbers. And I don't know what's inside this array. Now, for some reason, I need to an array of all the numbers that are greater than 25. \n",
    "\n",
    "Now, if you are somewhat experienced in programming, you might be thinking that we can use a for loop to do this. But, numpy has it's own way.\n",
    "\n",
    "First let's see what happens if we directly compare the array with a number."
   ]
  },
  {
   "cell_type": "code",
   "execution_count": 161,
   "id": "443e9e02",
   "metadata": {},
   "outputs": [
    {
     "data": {
      "text/plain": [
       "array([ True,  True, False,  True,  True, False,  True, False,  True,\n",
       "        True, False,  True,  True,  True, False, False])"
      ]
     },
     "execution_count": 161,
     "metadata": {},
     "output_type": "execute_result"
    }
   ],
   "source": [
    "arr > 25"
   ]
  },
  {
   "cell_type": "markdown",
   "id": "6372b0c9",
   "metadata": {},
   "source": [
    "Owh! that's shocking instead of returning a single boolean value, when we compare with a numpy array it returns a `boolean array` of the `same` size.\n",
    "\n",
    "Now what are these boolean values? They represent if the corresponding element of the array meets the condition or not.\n",
    "\n",
    "As we can see, first value of that array is `True`, that means the first element should be `greater` than `25`.\n",
    "\n",
    "Let's have a look at the first element of the array."
   ]
  },
  {
   "cell_type": "code",
   "execution_count": 162,
   "id": "b2726ae9",
   "metadata": {},
   "outputs": [
    {
     "data": {
      "text/plain": [
       "np.int64(77)"
      ]
     },
     "execution_count": 162,
     "metadata": {},
     "output_type": "execute_result"
    }
   ],
   "source": [
    "arr[0]"
   ]
  },
  {
   "cell_type": "markdown",
   "id": "b058dd3d",
   "metadata": {},
   "source": [
    "And yes! It's `77` it is most definitely greater than `25`.\n",
    "\n",
    "Now, the fun part is we can use this boolean array to get a subset of all the values that are greater than `25`. "
   ]
  },
  {
   "cell_type": "code",
   "execution_count": 163,
   "id": "6ec4e10f",
   "metadata": {},
   "outputs": [
    {
     "data": {
      "text/plain": [
       "array([ True,  True, False,  True,  True, False,  True, False,  True,\n",
       "        True, False,  True,  True,  True, False, False])"
      ]
     },
     "execution_count": 163,
     "metadata": {},
     "output_type": "execute_result"
    }
   ],
   "source": [
    "boolean_arr = arr > 25\n",
    "boolean_arr"
   ]
  },
  {
   "cell_type": "code",
   "execution_count": 164,
   "id": "cf9fceb6",
   "metadata": {},
   "outputs": [
    {
     "data": {
      "text/plain": [
       "array([77, 61, 67, 63, 81, 49, 99, 61, 53, 50])"
      ]
     },
     "execution_count": 164,
     "metadata": {},
     "output_type": "execute_result"
    }
   ],
   "source": [
    "arr[boolean_arr]"
   ]
  },
  {
   "cell_type": "markdown",
   "id": "de35cb76",
   "metadata": {},
   "source": [
    "And look at that, we got a list of all the numbers that are greater than 25.\n",
    "\n",
    "This is called `conditional indexing/selection`.\n",
    "\n",
    "We can directly put the condition inside brackets to get the list of numbers that are greater than 25."
   ]
  },
  {
   "cell_type": "code",
   "execution_count": 165,
   "id": "7bde749f",
   "metadata": {},
   "outputs": [
    {
     "data": {
      "text/plain": [
       "array([77, 61, 67, 63, 81, 49, 99, 61, 53, 50])"
      ]
     },
     "execution_count": 165,
     "metadata": {},
     "output_type": "execute_result"
    }
   ],
   "source": [
    "arr[arr > 25]"
   ]
  },
  {
   "cell_type": "markdown",
   "id": "bbcd4866",
   "metadata": {},
   "source": [
    "> I know it's kinda weird to see the variable named inside the brackets, but it's just to tell which elements of the array are satisfying the condition.\n",
    "\n",
    "all the elements that has a corresponding value of `True` is then returned as a new numpy array.\n",
    "\n",
    "And when I say `new`, I mean completely new array.\n",
    "\n",
    "> Check if the array you are getting from conditional selection can change the original array by changing the value of a single element.\n",
    "\n",
    "We can use every conditional operators and it'll work the same. So, no need of any for loops and no need of a empty array to store the result.\n",
    "\n",
    "> Remember, the more you experiment with the numpy, the more you'll understand it better.\n",
    "\n",
    "# <a id='toc10_'></a>[Numpy Operations](#toc0_)\n",
    "\n",
    "The last topic we'll cover is the `numpy operations`. \n",
    "\n",
    "We know that we have operators in python that can be used to perform mathematical operations on numbers. But what about numpy?\n",
    "\n",
    "As numpy specializes in `arrays`, numpy array operations are different from the normal operations.\n",
    "\n",
    "Let's see an example."
   ]
  },
  {
   "cell_type": "code",
   "execution_count": 166,
   "id": "1d7fd968",
   "metadata": {},
   "outputs": [
    {
     "data": {
      "text/plain": [
       "array([ 0,  1,  2,  3,  4,  5,  6,  7,  8,  9, 10])"
      ]
     },
     "execution_count": 166,
     "metadata": {},
     "output_type": "execute_result"
    }
   ],
   "source": [
    "arr = np.arange(11)\n",
    "arr"
   ]
  },
  {
   "cell_type": "code",
   "execution_count": 167,
   "id": "dfe220f4",
   "metadata": {},
   "outputs": [
    {
     "data": {
      "text/plain": [
       "array([ 0,  2,  4,  6,  8, 10, 12, 14, 16, 18, 20])"
      ]
     },
     "execution_count": 167,
     "metadata": {},
     "output_type": "execute_result"
    }
   ],
   "source": [
    "arr + arr"
   ]
  },
  {
   "cell_type": "markdown",
   "id": "54772601",
   "metadata": {},
   "source": [
    "As you can we `arr+arr` is adding all the elements of the array.\n",
    "\n",
    "This is because of the `broadcasting` rule of numpy.\n",
    "\n",
    "When you are `adding` two numpy arrays, the arrays broadcast together and the result is an array of all the elements of the two arrays added together.\n",
    "\n",
    "We will have the same effect if we `subtract` or `multiply` or `divide` two numpy arrays.\n",
    "\n",
    "But one other interesting thing is that if we `add` a `scalar` to a numpy array, the scalar is added to all the elements of the array.\n",
    "\n",
    "> 0 dimensional values are called scalars. A single integer is a scalar. A single float is a scalar.\n",
    "\n"
   ]
  },
  {
   "cell_type": "code",
   "execution_count": 168,
   "id": "9c7d5103",
   "metadata": {},
   "outputs": [
    {
     "data": {
      "text/plain": [
       "array([100, 101, 102, 103, 104, 105, 106, 107, 108, 109, 110])"
      ]
     },
     "execution_count": 168,
     "metadata": {},
     "output_type": "execute_result"
    }
   ],
   "source": [
    "arr + 100"
   ]
  },
  {
   "cell_type": "markdown",
   "id": "fca6d622",
   "metadata": {},
   "source": [
    "And as you can see, the output is an numpy array with `100` added to each element of the array.\n",
    "\n",
    "> This exactly like conditional selection we talked about earlier.\n",
    "\n",
    "We can we can subtract a single integer and it'll be subtracted from all the elements of the array. This is also because of the `broadcasting` property of numpy."
   ]
  },
  {
   "cell_type": "code",
   "execution_count": 169,
   "id": "c93ab638",
   "metadata": {},
   "outputs": [
    {
     "data": {
      "text/plain": [
       "array([-1,  0,  1,  2,  3,  4,  5,  6,  7,  8,  9])"
      ]
     },
     "execution_count": 169,
     "metadata": {},
     "output_type": "execute_result"
    }
   ],
   "source": [
    "arr-1"
   ]
  },
  {
   "cell_type": "markdown",
   "id": "dad155ac",
   "metadata": {},
   "source": [
    "Multiplying by a scalar:"
   ]
  },
  {
   "cell_type": "code",
   "execution_count": 170,
   "id": "0fe4a3fc",
   "metadata": {},
   "outputs": [
    {
     "data": {
      "text/plain": [
       "array([ 0,  2,  4,  6,  8, 10, 12, 14, 16, 18, 20])"
      ]
     },
     "execution_count": 170,
     "metadata": {},
     "output_type": "execute_result"
    }
   ],
   "source": [
    "arr*2"
   ]
  },
  {
   "cell_type": "markdown",
   "id": "459884eb",
   "metadata": {},
   "source": [
    "Division:"
   ]
  },
  {
   "cell_type": "code",
   "execution_count": 171,
   "id": "8a7a4930",
   "metadata": {},
   "outputs": [
    {
     "data": {
      "text/plain": [
       "array([0. , 0.5, 1. , 1.5, 2. , 2.5, 3. , 3.5, 4. , 4.5, 5. ])"
      ]
     },
     "execution_count": 171,
     "metadata": {},
     "output_type": "execute_result"
    }
   ],
   "source": [
    "arr/2"
   ]
  },
  {
   "cell_type": "markdown",
   "id": "0efad7f5",
   "metadata": {},
   "source": [
    "Now, One extra thing I want to ask you about is that, what happens if we `divide` a number by `zero`?\n",
    "\n",
    "We should get an error right?"
   ]
  },
  {
   "cell_type": "code",
   "execution_count": 172,
   "id": "170626e2",
   "metadata": {},
   "outputs": [
    {
     "ename": "ZeroDivisionError",
     "evalue": "division by zero",
     "output_type": "error",
     "traceback": [
      "\u001b[31m---------------------------------------------------------------------------\u001b[39m",
      "\u001b[31mZeroDivisionError\u001b[39m                         Traceback (most recent call last)",
      "\u001b[36mCell\u001b[39m\u001b[36m \u001b[39m\u001b[32mIn[172]\u001b[39m\u001b[32m, line 1\u001b[39m\n\u001b[32m----> \u001b[39m\u001b[32m1\u001b[39m \u001b[32m25\u001b[39m/\u001b[32m0\u001b[39m\n",
      "\u001b[31mZeroDivisionError\u001b[39m: division by zero"
     ]
    }
   ],
   "source": [
    "25/0"
   ]
  },
  {
   "cell_type": "markdown",
   "id": "a4d95331",
   "metadata": {},
   "source": [
    "Normally, python shows the error but in numpy it's a little different."
   ]
  },
  {
   "cell_type": "code",
   "execution_count": 173,
   "id": "210022c6",
   "metadata": {},
   "outputs": [
    {
     "name": "stderr",
     "output_type": "stream",
     "text": [
      "/tmp/ipykernel_187240/4291252909.py:1: RuntimeWarning: divide by zero encountered in divide\n",
      "  arr/0\n",
      "/tmp/ipykernel_187240/4291252909.py:1: RuntimeWarning: invalid value encountered in divide\n",
      "  arr/0\n"
     ]
    },
    {
     "data": {
      "text/plain": [
       "array([nan, inf, inf, inf, inf, inf, inf, inf, inf, inf, inf])"
      ]
     },
     "execution_count": 173,
     "metadata": {},
     "output_type": "execute_result"
    }
   ],
   "source": [
    "arr/0"
   ]
  },
  {
   "cell_type": "markdown",
   "id": "472a5a79",
   "metadata": {},
   "source": [
    "It still returns an array but all the values are set to infinity.\n",
    "\n",
    "And give you a little warning. That's it. \n",
    "\n",
    "And if you look closely, as the first element of the array is `zero`, when we are dividing it zero, the value it returns is `Nan`. This is because zero divided by zero is undefined.\n",
    "\n",
    "> So, any number divided by zero is `infinity` in numpy.\n",
    "\n",
    "> Zero divided by zero is `Nan` in numpy."
   ]
  },
  {
   "cell_type": "markdown",
   "id": "f2170a42",
   "metadata": {},
   "source": [
    "Now, let's talk about universal functions.\n",
    "\n",
    "## <a id='toc10_1_'></a>[Universal Functions](#toc0_)\n",
    "\n",
    "`Universal functions` are functions that can be applied to any type of data in numpy. \n",
    "\n",
    "one example would be `np.max()` which can be used to find the maximum value in a numpy array."
   ]
  },
  {
   "cell_type": "code",
   "execution_count": 174,
   "id": "d7d45f04",
   "metadata": {},
   "outputs": [
    {
     "data": {
      "text/plain": [
       "np.int64(10)"
      ]
     },
     "execution_count": 174,
     "metadata": {},
     "output_type": "execute_result"
    }
   ],
   "source": [
    "np.max(arr)"
   ]
  },
  {
   "cell_type": "markdown",
   "id": "a6dd3961",
   "metadata": {},
   "source": [
    "A numpy array already has a `max()` method. \n",
    "\n",
    "> We talked about the `max()` method at the basics of numpy.\n",
    "\n"
   ]
  },
  {
   "cell_type": "code",
   "execution_count": 175,
   "id": "2ae378f6",
   "metadata": {},
   "outputs": [
    {
     "data": {
      "text/plain": [
       "np.int64(10)"
      ]
     },
     "execution_count": 175,
     "metadata": {},
     "output_type": "execute_result"
    }
   ],
   "source": [
    "arr.max()"
   ]
  },
  {
   "cell_type": "markdown",
   "id": "3614e1d3",
   "metadata": {},
   "source": [
    "Although these two do the same thing, but some arrays might not have a `max` mathod. If this happens we can use `numpy.max` instead.\n",
    "\n",
    "Here's some usefull `universal functions` that numpy provides."
   ]
  },
  {
   "cell_type": "code",
   "execution_count": 176,
   "id": "5f162d22",
   "metadata": {},
   "outputs": [
    {
     "name": "stdout",
     "output_type": "stream",
     "text": [
      "Maximum value in array is: \n"
     ]
    },
    {
     "data": {
      "text/plain": [
       "np.int64(10)"
      ]
     },
     "execution_count": 176,
     "metadata": {},
     "output_type": "execute_result"
    }
   ],
   "source": [
    "#Examples of universal functions in numpy\n",
    "print('Maximum value in array is: ')\n",
    "np.max(arr)#Maximum value in array"
   ]
  },
  {
   "cell_type": "code",
   "execution_count": 177,
   "id": "a2dd2587",
   "metadata": {},
   "outputs": [
    {
     "name": "stdout",
     "output_type": "stream",
     "text": [
      "Minimum value in array is: \n"
     ]
    },
    {
     "data": {
      "text/plain": [
       "np.int64(0)"
      ]
     },
     "execution_count": 177,
     "metadata": {},
     "output_type": "execute_result"
    }
   ],
   "source": [
    "print('Minimum value in array is: ')\n",
    "np.min(arr)#Minimum value in array"
   ]
  },
  {
   "cell_type": "code",
   "execution_count": 178,
   "id": "41a65650",
   "metadata": {},
   "outputs": [
    {
     "name": "stdout",
     "output_type": "stream",
     "text": [
      "Index of maximum value in array is: \n"
     ]
    },
    {
     "data": {
      "text/plain": [
       "np.int64(10)"
      ]
     },
     "execution_count": 178,
     "metadata": {},
     "output_type": "execute_result"
    }
   ],
   "source": [
    "print('Index of maximum value in array is: ')\n",
    "np.argmax(arr)#Index of maximum value in array"
   ]
  },
  {
   "cell_type": "code",
   "execution_count": 179,
   "id": "a6f1df66",
   "metadata": {},
   "outputs": [
    {
     "name": "stdout",
     "output_type": "stream",
     "text": [
      "Index of minimum value in array is: \n"
     ]
    },
    {
     "data": {
      "text/plain": [
       "np.int64(0)"
      ]
     },
     "execution_count": 179,
     "metadata": {},
     "output_type": "execute_result"
    }
   ],
   "source": [
    "print('Index of minimum value in array is: ')\n",
    "np.argmin(arr)#Index of minimum value in array"
   ]
  },
  {
   "cell_type": "code",
   "execution_count": 180,
   "id": "39712614",
   "metadata": {},
   "outputs": [
    {
     "name": "stdout",
     "output_type": "stream",
     "text": [
      "Shape of array is: \n"
     ]
    },
    {
     "data": {
      "text/plain": [
       "(11,)"
      ]
     },
     "execution_count": 180,
     "metadata": {},
     "output_type": "execute_result"
    }
   ],
   "source": [
    "print('Shape of array is: ')\n",
    "np.shape(arr)#Shape of array"
   ]
  },
  {
   "cell_type": "code",
   "execution_count": 181,
   "id": "a9c760dc",
   "metadata": {},
   "outputs": [
    {
     "name": "stdout",
     "output_type": "stream",
     "text": [
      "Sum of all elements in array is: \n"
     ]
    },
    {
     "data": {
      "text/plain": [
       "np.int64(55)"
      ]
     },
     "execution_count": 181,
     "metadata": {},
     "output_type": "execute_result"
    }
   ],
   "source": [
    "print('Sum of all elements in array is: ')\n",
    "np.sum(arr) #Sum of all elements in array"
   ]
  },
  {
   "cell_type": "code",
   "execution_count": 182,
   "id": "e9a2604a",
   "metadata": {},
   "outputs": [
    {
     "name": "stdout",
     "output_type": "stream",
     "text": [
      "Mean of all elements in array is: \n"
     ]
    },
    {
     "data": {
      "text/plain": [
       "np.float64(5.0)"
      ]
     },
     "execution_count": 182,
     "metadata": {},
     "output_type": "execute_result"
    }
   ],
   "source": [
    "print('Mean of all elements in array is: ')\n",
    "np.mean(arr)#Mean of all elements in array"
   ]
  },
  {
   "cell_type": "code",
   "execution_count": 183,
   "id": "b5b47e4f",
   "metadata": {},
   "outputs": [
    {
     "name": "stdout",
     "output_type": "stream",
     "text": [
      "Standard deviation of all elements in array is: \n"
     ]
    },
    {
     "data": {
      "text/plain": [
       "np.float64(3.1622776601683795)"
      ]
     },
     "execution_count": 183,
     "metadata": {},
     "output_type": "execute_result"
    }
   ],
   "source": [
    "print('Standard deviation of all elements in array is: ')\n",
    "np.std(arr)#Standard deviation of all elements in array"
   ]
  },
  {
   "cell_type": "code",
   "execution_count": 184,
   "id": "2d592be4",
   "metadata": {},
   "outputs": [
    {
     "name": "stdout",
     "output_type": "stream",
     "text": [
      "Exponential of all elements in array is: \n"
     ]
    },
    {
     "data": {
      "text/plain": [
       "array([1.00000000e+00, 2.71828183e+00, 7.38905610e+00, 2.00855369e+01,\n",
       "       5.45981500e+01, 1.48413159e+02, 4.03428793e+02, 1.09663316e+03,\n",
       "       2.98095799e+03, 8.10308393e+03, 2.20264658e+04])"
      ]
     },
     "execution_count": 184,
     "metadata": {},
     "output_type": "execute_result"
    }
   ],
   "source": [
    "print('Exponential of all elements in array is: ')\n",
    "np.exp(arr)#Exponential of all elements in array"
   ]
  },
  {
   "cell_type": "code",
   "execution_count": 185,
   "id": "b56ab0cc",
   "metadata": {},
   "outputs": [
    {
     "name": "stdout",
     "output_type": "stream",
     "text": [
      "Square of all elements in array is: \n"
     ]
    },
    {
     "data": {
      "text/plain": [
       "array([  0,   1,   4,   9,  16,  25,  36,  49,  64,  81, 100])"
      ]
     },
     "execution_count": 185,
     "metadata": {},
     "output_type": "execute_result"
    }
   ],
   "source": [
    "print('Square of all elements in array is: ')\n",
    "np.square(arr)#Square of all elements in array"
   ]
  },
  {
   "cell_type": "markdown",
   "id": "f47a9228",
   "metadata": {},
   "source": [
    "In the numpy [official universial functions](https://numpy.org/doc/stable/reference/ufuncs.html) documentation page, you can find a lot more functions on different mathematical operations.\n",
    "\n",
    "Universal functions are very useful in machine learning and data science. \n",
    "\n",
    "And that's it for this article. \n",
    "\n",
    "# <a id='toc11_'></a>[Last Words](#toc0_)\n",
    "\n",
    "`Numpy` is the most `important` library in the world of `Machine Learning` and `Data Science`. If you have a keen interest in `Machine Learning` and `Data Science`, then you must have a very good understanding of `Numpy` arrays and multidimensional arrays.\n",
    "\n",
    "Everything after this will be connected to `Numpy` one way or another.\n",
    "\n",
    "And I hope I've helped you in some way to understand `Numpy` concepts. And we will learn more about `Numpy` in the upcoming articles.\n",
    "\n",
    "I hope you liked this article and if you did, please leave a `like` and `share` this article with other `machine learning` enthusiasts. I have discord server where I talk about `weird tech` stuff. You can also join there to discuss `machine learning` and your weird ideas. (Link is given at the start of the article)\n",
    "\n",
    "Happy Coding!!"
   ]
  }
 ],
 "metadata": {
  "kernelspec": {
   "display_name": "Python 3 (ipykernel)",
   "language": "python",
   "name": "python3"
  },
  "language_info": {
   "codemirror_mode": {
    "name": "ipython",
    "version": 3
   },
   "file_extension": ".py",
   "mimetype": "text/x-python",
   "name": "python",
   "nbconvert_exporter": "python",
   "pygments_lexer": "ipython3",
   "version": "3.11.11"
  }
 },
 "nbformat": 4,
 "nbformat_minor": 5
}
