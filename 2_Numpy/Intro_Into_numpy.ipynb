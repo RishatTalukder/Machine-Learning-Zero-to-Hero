{
 "cells": [
  {
   "cell_type": "markdown",
   "id": "ee32deef",
   "metadata": {},
   "source": [
    "Bois! We are going Deep DEep DEEp DEEEEEP inside `ML`. And we will face some roadblocks. First one is `numpy`.\n",
    "\n",
    "This is a entry point and the first `boss` fight of this series. Because almost everything after this point is written in `numpy` or uses `numpy` functions. So, understanding and having a good knowledge of `numpy` is very important. So, without further ado, let's defeat `numpy`.\n",
    "\n",
    "- [LinkedIn](https://www.linkedin.com/in/pro-programmer/)\n",
    "- [YouTube](http://www.youtube.com/@itvaya)\n",
    "- [gtihub](https://github.com/RishatTalukder/Machine-Learning-Zero-to-Hero)\n",
    "- [Gmail](talukderrishat2@gmail.com)\n",
    "- [discord](https://discord.gg/ZB495XggcF)\n",
    "\n",
    "# Installation\n",
    "\n",
    "You need `conda` installed in you system. If you don't have it, you can install it from [here](https://www.anaconda.com/products/distribution).\n",
    "\n",
    "If you have `conda` installed, Just run the following command in your terminal:\n",
    "\n",
    "```bash\n",
    "conda install numpy\n",
    "```\n",
    "\n",
    "And \n",
    "\n",
    "If you don't have `conda` installed, you can still intall `numpy` on base `python` by running the following command:\n",
    "\n",
    "```bash\n",
    "pip install numpy\n",
    "```\n",
    "\n",
    "> I heavily recommend you to use `conda` for installing `numpy` because it will install all the dependencies of `numpy` and you will have less errors as our python package ecosystem grows.\n",
    "\n",
    "# Intro\n",
    "\n",
    "`Numpy` is faster `python`.\n",
    "\n",
    "That's it end the article here. If you know `python` you already know 80% of `numpy`. \n",
    "\n",
    "Numpy specializes in `numerical computing`, specifically `arrays`.\n",
    "\n",
    "> If you take python and optimise it so hard that it becomes faster than C++, you can call it `numpy`.\n",
    "\n",
    "We can do everything we can do in `python` with `numpy` but it's waaaay faster than `python`.\n",
    "\n",
    "But the main use case of `numpy` is `array/vector/matrix` operations. And that's what we will be doing in this article.\n",
    "\n",
    "Let's take an array."
   ]
  },
  {
   "cell_type": "code",
   "execution_count": 2,
   "id": "599d6709",
   "metadata": {},
   "outputs": [
    {
     "data": {
      "text/plain": [
       "[1, 2, 3, 4, 5]"
      ]
     },
     "execution_count": 2,
     "metadata": {},
     "output_type": "execute_result"
    }
   ],
   "source": [
    "arr = [1,2,3,4,5]\n",
    "arr"
   ]
  },
  {
   "cell_type": "markdown",
   "id": "d18db536",
   "metadata": {},
   "source": [
    "Here you can see a very simple python list. Which is pretty powerful on its own. But with numpy it becomes a superpower.\n",
    "\n",
    "We can transform any array into a numpy array by using the `array()` function from numpy. We have to import `numpy` first because it's a external library."
   ]
  },
  {
   "cell_type": "code",
   "execution_count": 3,
   "id": "0c8b217e",
   "metadata": {},
   "outputs": [
    {
     "data": {
      "text/plain": [
       "array([1, 2, 3, 4, 5])"
      ]
     },
     "execution_count": 3,
     "metadata": {},
     "output_type": "execute_result"
    }
   ],
   "source": [
    "import numpy as np\n",
    "\n",
    "narr = np.array([1,2,3,4,5])\n",
    "narr"
   ]
  },
  {
   "cell_type": "markdown",
   "id": "00de9981",
   "metadata": {},
   "source": [
    "> In python you can rename a library when imported by using the `as` keyword. For example, if you import `numpy` as `np` you can use it as `np.array()` instead of `numpy.array()`.\n",
    "\n",
    "Here you can see that by using the `np.array()` we are transforming our simple python list into a numpy array.\n",
    "\n",
    "We can do the same thing with a 2D list as well."
   ]
  },
  {
   "cell_type": "code",
   "execution_count": 4,
   "id": "3855f267",
   "metadata": {},
   "outputs": [
    {
     "data": {
      "text/plain": [
       "array([[1, 2, 3],\n",
       "       [4, 5, 6],\n",
       "       [7, 8, 9]])"
      ]
     },
     "execution_count": 4,
     "metadata": {},
     "output_type": "execute_result"
    }
   ],
   "source": [
    "arr_2D = [[1, 2, 3], [4, 5, 6], [7, 8, 9]]\n",
    "narr_2D = np.array(arr_2D)\n",
    "narr_2D"
   ]
  },
  {
   "cell_type": "markdown",
   "id": "f9582f89",
   "metadata": {},
   "source": [
    "A numpy array gives us a lot of methods and attributes to work with the data. \n",
    "\n",
    "> A vector is a one-dimensional array which is a traditional array of numbers.\n",
    "> A matrix is a two-dimensional array.\n",
    "\n",
    "# Numpy Methods\n",
    "\n",
    "There are a lot of methods that we can use to make and work with numpy arrays. \n",
    "\n",
    "First we can talk about the `arange` method. \n",
    "\n",
    "## Numpy Arange\n",
    "\n",
    "This is equivalent to the python `range` function. Works exactly the same way.\n",
    "\n",
    "In the range function, we can specify the start, stop, and step values.\n",
    "\n",
    "And it generates a sequence of numbers from start to stop by step.\n",
    "\n",
    "This is exactly what the `arange` method does. It also takes the start, stop, and step values and generates a sequence of numbers from start to stop by step."
   ]
  },
  {
   "cell_type": "code",
   "execution_count": 6,
   "id": "b99980a4",
   "metadata": {},
   "outputs": [
    {
     "data": {
      "text/plain": [
       "array([0, 1, 2, 3, 4, 5, 6, 7, 8, 9])"
      ]
     },
     "execution_count": 6,
     "metadata": {},
     "output_type": "execute_result"
    }
   ],
   "source": [
    "np.arange(10)"
   ]
  },
  {
   "cell_type": "markdown",
   "id": "485e4d3d",
   "metadata": {},
   "source": [
    "> Just like for the range function, the start value in inclusive and the end value is exclusive. It's the same for `arange`.\n",
    "> By default the starting index is set to 0 and the steps are 1."
   ]
  },
  {
   "cell_type": "code",
   "execution_count": 10,
   "id": "3700d25f",
   "metadata": {},
   "outputs": [
    {
     "data": {
      "text/plain": [
       "array([35, 37, 39, 41, 43])"
      ]
     },
     "execution_count": 10,
     "metadata": {},
     "output_type": "execute_result"
    }
   ],
   "source": [
    "np.arange(35, 45, 2)"
   ]
  },
  {
   "cell_type": "markdown",
   "id": "6980e31a",
   "metadata": {},
   "source": [
    "# Some Quick Numpy Array generators\n",
    "\n",
    "If you want a array of all zeros, you can use the `zeros` function:"
   ]
  },
  {
   "cell_type": "code",
   "execution_count": 12,
   "id": "44c0aec1",
   "metadata": {},
   "outputs": [
    {
     "data": {
      "text/plain": [
       "array([0., 0., 0., 0., 0.])"
      ]
     },
     "execution_count": 12,
     "metadata": {},
     "output_type": "execute_result"
    }
   ],
   "source": [
    "np.zeros(5)"
   ]
  },
  {
   "cell_type": "markdown",
   "id": "20001f63",
   "metadata": {},
   "source": [
    "This will generate a numpy array of 5 zeros. We can also make a `matrix(2D)` array by specifying the number of `rows and columns` in a `tuple`."
   ]
  },
  {
   "cell_type": "code",
   "execution_count": 14,
   "id": "8c23ff9d",
   "metadata": {},
   "outputs": [
    {
     "data": {
      "text/plain": [
       "array([[0., 0., 0., 0.],\n",
       "       [0., 0., 0., 0.],\n",
       "       [0., 0., 0., 0.]])"
      ]
     },
     "execution_count": 14,
     "metadata": {},
     "output_type": "execute_result"
    }
   ],
   "source": [
    "np.zeros((3,4))"
   ]
  },
  {
   "cell_type": "markdown",
   "id": "c39d02bc",
   "metadata": {},
   "source": [
    "And it'll generate a `3x4` matrix. The cool part is we can make 3D or more than 4D array of all zeros with this."
   ]
  },
  {
   "cell_type": "code",
   "execution_count": 15,
   "id": "1c0ea087",
   "metadata": {},
   "outputs": [
    {
     "data": {
      "text/plain": [
       "array([[[0., 0., 0., 0., 0.],\n",
       "        [0., 0., 0., 0., 0.],\n",
       "        [0., 0., 0., 0., 0.],\n",
       "        [0., 0., 0., 0., 0.]],\n",
       "\n",
       "       [[0., 0., 0., 0., 0.],\n",
       "        [0., 0., 0., 0., 0.],\n",
       "        [0., 0., 0., 0., 0.],\n",
       "        [0., 0., 0., 0., 0.]],\n",
       "\n",
       "       [[0., 0., 0., 0., 0.],\n",
       "        [0., 0., 0., 0., 0.],\n",
       "        [0., 0., 0., 0., 0.],\n",
       "        [0., 0., 0., 0., 0.]]])"
      ]
     },
     "execution_count": 15,
     "metadata": {},
     "output_type": "execute_result"
    }
   ],
   "source": [
    "np.zeros((3,4,5))"
   ]
  },
  {
   "cell_type": "code",
   "execution_count": 16,
   "id": "a674ec71",
   "metadata": {},
   "outputs": [
    {
     "data": {
      "text/plain": [
       "array([[[[0., 0.],\n",
       "         [0., 0.],\n",
       "         [0., 0.],\n",
       "         [0., 0.]],\n",
       "\n",
       "        [[0., 0.],\n",
       "         [0., 0.],\n",
       "         [0., 0.],\n",
       "         [0., 0.]],\n",
       "\n",
       "        [[0., 0.],\n",
       "         [0., 0.],\n",
       "         [0., 0.],\n",
       "         [0., 0.]]],\n",
       "\n",
       "\n",
       "       [[[0., 0.],\n",
       "         [0., 0.],\n",
       "         [0., 0.],\n",
       "         [0., 0.]],\n",
       "\n",
       "        [[0., 0.],\n",
       "         [0., 0.],\n",
       "         [0., 0.],\n",
       "         [0., 0.]],\n",
       "\n",
       "        [[0., 0.],\n",
       "         [0., 0.],\n",
       "         [0., 0.],\n",
       "         [0., 0.]]]])"
      ]
     },
     "execution_count": 16,
     "metadata": {},
     "output_type": "execute_result"
    }
   ],
   "source": [
    "np.zeros((2,3,4,2))"
   ]
  },
  {
   "cell_type": "markdown",
   "id": "067267be",
   "metadata": {},
   "source": [
    "Numpy has another function that can generate arrays filled with only `one's`. This function is called `ones`. "
   ]
  },
  {
   "cell_type": "code",
   "execution_count": 17,
   "id": "ecd2e8be",
   "metadata": {},
   "outputs": [
    {
     "name": "stdout",
     "output_type": "stream",
     "text": [
      "Array of 4 ones\n",
      "[1. 1. 1. 1.]\n",
      "2D array of all ones\n",
      "[[1. 1.]\n",
      " [1. 1.]]\n",
      "3D array of all ones\n",
      "[[[1. 1.]\n",
      "  [1. 1.]]\n",
      "\n",
      " [[1. 1.]\n",
      "  [1. 1.]]]\n"
     ]
    }
   ],
   "source": [
    "print('Array of 4 ones')\n",
    "a = np.ones(4)\n",
    "print(a)\n",
    "\n",
    "print('2D array of all ones')\n",
    "b = np.ones((2,2))\n",
    "print(b)\n",
    "\n",
    "print('3D array of all ones')\n",
    "c = np.ones((2,2,2))\n",
    "print(c)"
   ]
  },
  {
   "cell_type": "markdown",
   "id": "11b83a98",
   "metadata": {},
   "source": []
  }
 ],
 "metadata": {
  "kernelspec": {
   "display_name": "ml_env",
   "language": "python",
   "name": "python3"
  },
  "language_info": {
   "codemirror_mode": {
    "name": "ipython",
    "version": 3
   },
   "file_extension": ".py",
   "mimetype": "text/x-python",
   "name": "python",
   "nbconvert_exporter": "python",
   "pygments_lexer": "ipython3",
   "version": "3.11.11"
  }
 },
 "nbformat": 4,
 "nbformat_minor": 5
}
