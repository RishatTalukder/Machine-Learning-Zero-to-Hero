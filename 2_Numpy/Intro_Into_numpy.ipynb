{
 "cells": [
  {
   "cell_type": "markdown",
   "id": "ee32deef",
   "metadata": {},
   "source": [
    "Bois! We are going Deep DEep DEEp DEEEEEP inside `ML`. And we will face some roadblocks. First one is `numpy`.\n",
    "\n",
    "This is a entry point and the first `boss` fight of this series. Because almost everything after this point is written in `numpy` or uses `numpy` functions. So, understanding and having a good knowledge of `numpy` is very important. So, without further ado, let's defeat `numpy`.\n",
    "\n",
    "- [LinkedIn](https://www.linkedin.com/in/pro-programmer/)\n",
    "- [YouTube](http://www.youtube.com/@itvaya)\n",
    "- [gtihub](https://github.com/RishatTalukder/Machine-Learning-Zero-to-Hero)\n",
    "- [Gmail](talukderrishat2@gmail.com)\n",
    "- [discord](https://discord.gg/ZB495XggcF)\n",
    "\n",
    "# Installation\n",
    "\n",
    "You need `conda` installed in you system. If you don't have it, you can install it from [here](https://www.anaconda.com/products/distribution).\n",
    "\n",
    "If you have `conda` installed, Just run the following command in your terminal:\n",
    "\n",
    "```bash\n",
    "conda install numpy\n",
    "```\n",
    "\n",
    "And \n",
    "\n",
    "If you don't have `conda` installed, you can still intall `numpy` on base `python` by running the following command:\n",
    "\n",
    "```bash\n",
    "pip install numpy\n",
    "```\n",
    "\n",
    "> I heavily recommend you to use `conda` for installing `numpy` because it will install all the dependencies of `numpy` and you will have less errors as our python package ecosystem grows.\n",
    "\n",
    "# Intro\n",
    "\n",
    "`Numpy` is faster `python`.\n",
    "\n",
    "That's it end the article here. If you know `python` you already know 80% of `numpy`. \n",
    "\n",
    "Numpy specializes in `numerical computing`, specifically `arrays`.\n",
    "\n",
    "> If you take python and optimise it so hard that it becomes faster than C++, you can call it `numpy`.\n",
    "\n",
    "We can do everything we can do in `python` with `numpy` but it's waaaay faster than `python`.\n",
    "\n",
    "But the main use case of `numpy` is `array/vector/matrix` operations. And that's what we will be doing in this article.\n",
    "\n",
    "Let's take an array."
   ]
  },
  {
   "cell_type": "code",
   "execution_count": 2,
   "id": "599d6709",
   "metadata": {},
   "outputs": [
    {
     "data": {
      "text/plain": [
       "[1, 2, 3, 4, 5]"
      ]
     },
     "execution_count": 2,
     "metadata": {},
     "output_type": "execute_result"
    }
   ],
   "source": [
    "arr = [1,2,3,4,5]\n",
    "arr"
   ]
  },
  {
   "cell_type": "markdown",
   "id": "d18db536",
   "metadata": {},
   "source": [
    "Here you can see a very simple python list. Which is pretty powerful on its own. But with numpy it becomes a superpower.\n",
    "\n",
    "We can transform any array into a numpy array by using the `array()` function from numpy. We have to import `numpy` first because it's a external library."
   ]
  },
  {
   "cell_type": "code",
   "execution_count": 3,
   "id": "0c8b217e",
   "metadata": {},
   "outputs": [
    {
     "data": {
      "text/plain": [
       "array([1, 2, 3, 4, 5])"
      ]
     },
     "execution_count": 3,
     "metadata": {},
     "output_type": "execute_result"
    }
   ],
   "source": [
    "import numpy as np\n",
    "\n",
    "narr = np.array([1,2,3,4,5])\n",
    "narr"
   ]
  },
  {
   "cell_type": "markdown",
   "id": "00de9981",
   "metadata": {},
   "source": [
    "> In python you can rename a library when imported by using the `as` keyword. For example, if you import `numpy` as `np` you can use it as `np.array()` instead of `numpy.array()`.\n",
    "\n",
    "Here you can see that by using the `np.array()` we are transforming our simple python list into a numpy array.\n",
    "\n",
    "We can do the same thing with a 2D list as well."
   ]
  },
  {
   "cell_type": "code",
   "execution_count": 4,
   "id": "3855f267",
   "metadata": {},
   "outputs": [
    {
     "data": {
      "text/plain": [
       "array([[1, 2, 3],\n",
       "       [4, 5, 6],\n",
       "       [7, 8, 9]])"
      ]
     },
     "execution_count": 4,
     "metadata": {},
     "output_type": "execute_result"
    }
   ],
   "source": [
    "arr_2D = [[1, 2, 3], [4, 5, 6], [7, 8, 9]]\n",
    "narr_2D = np.array(arr_2D)\n",
    "narr_2D"
   ]
  },
  {
   "cell_type": "markdown",
   "id": "f9582f89",
   "metadata": {},
   "source": [
    "A numpy array gives us a lot of methods and attributes to work with the data. \n",
    "\n",
    "> A vector is a one-dimensional array which is a traditional array of numbers.\n",
    "> A matrix is a two-dimensional array.\n",
    "\n",
    "# Numpy Methods\n",
    "\n",
    "There are a lot of methods that we can use to make and work with numpy arrays. \n",
    "\n",
    "First we can talk about the `arange` method. \n",
    "\n",
    "## Numpy Arange\n",
    "\n",
    "This is equivalent to the python `range` function. Works exactly the same way.\n",
    "\n",
    "In the range function, we can specify the start, stop, and step values.\n",
    "\n",
    "And it generates a sequence of numbers from start to stop by step.\n",
    "\n",
    "This is exactly what the `arange` method does. It also takes the start, stop, and step values and generates a sequence of numbers from start to stop by step."
   ]
  },
  {
   "cell_type": "code",
   "execution_count": 5,
   "id": "b99980a4",
   "metadata": {},
   "outputs": [
    {
     "data": {
      "text/plain": [
       "array([0, 1, 2, 3, 4, 5, 6, 7, 8, 9])"
      ]
     },
     "execution_count": 5,
     "metadata": {},
     "output_type": "execute_result"
    }
   ],
   "source": [
    "np.arange(10)"
   ]
  },
  {
   "cell_type": "markdown",
   "id": "485e4d3d",
   "metadata": {},
   "source": [
    "> Just like for the range function, the start value in inclusive and the end value is exclusive. It's the same for `arange`.\n",
    "> By default the starting index is set to 0 and the steps are 1."
   ]
  },
  {
   "cell_type": "code",
   "execution_count": 6,
   "id": "3700d25f",
   "metadata": {},
   "outputs": [
    {
     "data": {
      "text/plain": [
       "array([35, 37, 39, 41, 43])"
      ]
     },
     "execution_count": 6,
     "metadata": {},
     "output_type": "execute_result"
    }
   ],
   "source": [
    "np.arange(35, 45, 2)"
   ]
  },
  {
   "cell_type": "markdown",
   "id": "6980e31a",
   "metadata": {},
   "source": [
    "# Some Quick Numpy Array generators\n",
    "\n",
    "If you want a array of all zeros, you can use the `zeros` function:"
   ]
  },
  {
   "cell_type": "code",
   "execution_count": 7,
   "id": "44c0aec1",
   "metadata": {},
   "outputs": [
    {
     "data": {
      "text/plain": [
       "array([0., 0., 0., 0., 0.])"
      ]
     },
     "execution_count": 7,
     "metadata": {},
     "output_type": "execute_result"
    }
   ],
   "source": [
    "np.zeros(5)"
   ]
  },
  {
   "cell_type": "markdown",
   "id": "20001f63",
   "metadata": {},
   "source": [
    "This will generate a numpy array of 5 zeros. We can also make a `matrix(2D)` array by specifying the number of `rows and columns` in a `tuple`."
   ]
  },
  {
   "cell_type": "code",
   "execution_count": 8,
   "id": "8c23ff9d",
   "metadata": {},
   "outputs": [
    {
     "data": {
      "text/plain": [
       "array([[0., 0., 0., 0.],\n",
       "       [0., 0., 0., 0.],\n",
       "       [0., 0., 0., 0.]])"
      ]
     },
     "execution_count": 8,
     "metadata": {},
     "output_type": "execute_result"
    }
   ],
   "source": [
    "np.zeros((3,4))"
   ]
  },
  {
   "cell_type": "markdown",
   "id": "c39d02bc",
   "metadata": {},
   "source": [
    "And it'll generate a `3x4` matrix. The cool part is we can make 3D or more than 4D array of all zeros with this."
   ]
  },
  {
   "cell_type": "code",
   "execution_count": 9,
   "id": "1c0ea087",
   "metadata": {},
   "outputs": [
    {
     "data": {
      "text/plain": [
       "array([[[0., 0., 0., 0., 0.],\n",
       "        [0., 0., 0., 0., 0.],\n",
       "        [0., 0., 0., 0., 0.],\n",
       "        [0., 0., 0., 0., 0.]],\n",
       "\n",
       "       [[0., 0., 0., 0., 0.],\n",
       "        [0., 0., 0., 0., 0.],\n",
       "        [0., 0., 0., 0., 0.],\n",
       "        [0., 0., 0., 0., 0.]],\n",
       "\n",
       "       [[0., 0., 0., 0., 0.],\n",
       "        [0., 0., 0., 0., 0.],\n",
       "        [0., 0., 0., 0., 0.],\n",
       "        [0., 0., 0., 0., 0.]]])"
      ]
     },
     "execution_count": 9,
     "metadata": {},
     "output_type": "execute_result"
    }
   ],
   "source": [
    "np.zeros((3,4,5))"
   ]
  },
  {
   "cell_type": "code",
   "execution_count": 10,
   "id": "a674ec71",
   "metadata": {},
   "outputs": [
    {
     "data": {
      "text/plain": [
       "array([[[[0., 0.],\n",
       "         [0., 0.],\n",
       "         [0., 0.],\n",
       "         [0., 0.]],\n",
       "\n",
       "        [[0., 0.],\n",
       "         [0., 0.],\n",
       "         [0., 0.],\n",
       "         [0., 0.]],\n",
       "\n",
       "        [[0., 0.],\n",
       "         [0., 0.],\n",
       "         [0., 0.],\n",
       "         [0., 0.]]],\n",
       "\n",
       "\n",
       "       [[[0., 0.],\n",
       "         [0., 0.],\n",
       "         [0., 0.],\n",
       "         [0., 0.]],\n",
       "\n",
       "        [[0., 0.],\n",
       "         [0., 0.],\n",
       "         [0., 0.],\n",
       "         [0., 0.]],\n",
       "\n",
       "        [[0., 0.],\n",
       "         [0., 0.],\n",
       "         [0., 0.],\n",
       "         [0., 0.]]]])"
      ]
     },
     "execution_count": 10,
     "metadata": {},
     "output_type": "execute_result"
    }
   ],
   "source": [
    "np.zeros((2,3,4,2))"
   ]
  },
  {
   "cell_type": "markdown",
   "id": "067267be",
   "metadata": {},
   "source": [
    "Numpy has another function that can generate arrays filled with only `one's`. This function is called `ones`. "
   ]
  },
  {
   "cell_type": "code",
   "execution_count": 11,
   "id": "ecd2e8be",
   "metadata": {},
   "outputs": [
    {
     "name": "stdout",
     "output_type": "stream",
     "text": [
      "Array of 4 ones\n",
      "[1. 1. 1. 1.]\n",
      "2D array of all ones\n",
      "[[1. 1.]\n",
      " [1. 1.]]\n",
      "3D array of all ones\n",
      "[[[1. 1.]\n",
      "  [1. 1.]]\n",
      "\n",
      " [[1. 1.]\n",
      "  [1. 1.]]]\n"
     ]
    }
   ],
   "source": [
    "print('Array of 4 ones')\n",
    "a = np.ones(4)\n",
    "print(a)\n",
    "\n",
    "print('2D array of all ones')\n",
    "b = np.ones((2,2))\n",
    "print(b)\n",
    "\n",
    "print('3D array of all ones')\n",
    "c = np.ones((2,2,2))\n",
    "print(c)"
   ]
  },
  {
   "cell_type": "markdown",
   "id": "11b83a98",
   "metadata": {},
   "source": [
    "This method works exactly same the `zeros` method, but it generates array of any dimentions with all elements as `Ones`.\n",
    "\n",
    "Now, another very useful method I want to talk about is `linspace` method. This method is used to generate array with evenly spaced elements.\n",
    "\n",
    "Let me break it down with an example."
   ]
  },
  {
   "cell_type": "code",
   "execution_count": 16,
   "id": "a2e74381",
   "metadata": {},
   "outputs": [
    {
     "data": {
      "text/plain": [
       "array([ 1.  ,  3.25,  5.5 ,  7.75, 10.  ])"
      ]
     },
     "execution_count": 16,
     "metadata": {},
     "output_type": "execute_result"
    }
   ],
   "source": [
    "np.linspace(1, 10, 5)"
   ]
  },
  {
   "cell_type": "markdown",
   "id": "9ac39be9",
   "metadata": {},
   "source": [
    "`linspace` function takes 3 arguments:\n",
    "- `start`: The starting value of the range\n",
    "- `stop`: The ending value of the range\n",
    "- `num`: The number of values in the range\n",
    "\n",
    "This might look like the `arange` function, but it's not the same. Linspace generates a range of numbers with `evenly spaced values` between `start` and `stop` with `num` number of values.\n",
    "\n",
    "Let's say I want 5 numbers between 0 and 5. `Linspace` will return a list of 5 numbers between 0 and 5 with all the numbers evenly spaced."
   ]
  },
  {
   "cell_type": "code",
   "execution_count": 17,
   "id": "ea9a0270",
   "metadata": {},
   "outputs": [
    {
     "data": {
      "text/plain": [
       "array([1., 2., 3., 4., 5.])"
      ]
     },
     "execution_count": 17,
     "metadata": {},
     "output_type": "execute_result"
    }
   ],
   "source": [
    "np.linspace(1,5,5)"
   ]
  },
  {
   "cell_type": "markdown",
   "id": "b9e1c13c",
   "metadata": {},
   "source": [
    "As you can see we have an array `[1,2,3,4,5]`. You can put any number as arguments and it will generate the array.\n",
    "\n",
    "> Let's say we want to create an array of 30 numbers from 45 to 100. All the numbers should be equally spaced."
   ]
  },
  {
   "cell_type": "code",
   "execution_count": 18,
   "id": "40a293a0",
   "metadata": {},
   "outputs": [
    {
     "data": {
      "text/plain": [
       "array([ 45.        ,  46.89655172,  48.79310345,  50.68965517,\n",
       "        52.5862069 ,  54.48275862,  56.37931034,  58.27586207,\n",
       "        60.17241379,  62.06896552,  63.96551724,  65.86206897,\n",
       "        67.75862069,  69.65517241,  71.55172414,  73.44827586,\n",
       "        75.34482759,  77.24137931,  79.13793103,  81.03448276,\n",
       "        82.93103448,  84.82758621,  86.72413793,  88.62068966,\n",
       "        90.51724138,  92.4137931 ,  94.31034483,  96.20689655,\n",
       "        98.10344828, 100.        ])"
      ]
     },
     "execution_count": 18,
     "metadata": {},
     "output_type": "execute_result"
    }
   ],
   "source": [
    "np.linspace(start=45, stop=100, num=30)"
   ]
  },
  {
   "cell_type": "markdown",
   "id": "c5370752",
   "metadata": {},
   "source": [
    "I hope, you understood the `linspace` function. \n",
    "\n",
    "Now, before going to other things, , one thing in this linspace section, got my mind. It the `dots` after each number in this example."
   ]
  },
  {
   "cell_type": "code",
   "execution_count": 19,
   "id": "47130db3",
   "metadata": {},
   "outputs": [
    {
     "data": {
      "text/plain": [
       "array([1., 2., 3., 4., 5.])"
      ]
     },
     "execution_count": 19,
     "metadata": {},
     "output_type": "execute_result"
    }
   ],
   "source": [
    "np.linspace(1,5,5)"
   ]
  },
  {
   "cell_type": "markdown",
   "id": "193e851a",
   "metadata": {},
   "source": [
    "We are generating 5 numbers from a uniform distribution between 1 to 5 and we can see that the numbers are `1,2,3,4,5` but still there is the dot after each number(`1.`,`2.`,`3.`,`4.`,`5.`). Why is that?\n",
    "\n",
    "We should check the type of the return value of `numpy.linspace(1,5,5)`."
   ]
  },
  {
   "cell_type": "code",
   "execution_count": 21,
   "id": "8216f20c",
   "metadata": {},
   "outputs": [
    {
     "data": {
      "text/plain": [
       "dtype('float64')"
      ]
     },
     "execution_count": 21,
     "metadata": {},
     "output_type": "execute_result"
    }
   ],
   "source": [
    "arr = np.linspace(1,5,5)\n",
    "arr.dtype"
   ]
  },
  {
   "cell_type": "markdown",
   "id": "b5f4adca",
   "metadata": {},
   "source": [
    "> We can use the `arr.dtype` attribute from any numpy array variable to get the data type of the array.\n",
    "\n",
    "As you can see even though we have a numpy array of all whole numbers, the data type is still `float64`.\n",
    "\n",
    "So, by default, `linspace` function returns a `float64` array.\n",
    "\n",
    "Now let's talk about `indentity` matrix.\n",
    "\n",
    "If you don't know what an identity matrix is, it's a square matrix with ones on the main diagonal and zeros elsewhere.\n",
    "\n",
    "> It is also used to represent `1` in matrix.\n",
    "\n",
    "Simply, `1` can be written as\n",
    "\n",
    "$$\n",
    "\\begin{bmatrix}\n",
    "1 & 0 & 0 & \\cdots & 0 \\\\\n",
    "0 & 1 & 0 & \\cdots & 0 \\\\\n",
    "0 & 0 & 1 & \\cdots & 0 \\\\\n",
    "\\vdots & \\vdots & \\vdots & \\ddots & \\vdots \\\\\n",
    "0 & 0 & 0 & \\cdots & 1\n",
    "\\end{bmatrix}\n",
    "$$\n",
    "\n",
    "It can be a square matrix of any size. `1x1`, `2x2`, `3x3`, `n x n` etc.\n",
    "\n",
    "All of this is just a matrix representation of `1`.\n",
    "\n",
    "And in numpy, we can get an identity matrix of any size by using `np.eye` function."
   ]
  },
  {
   "cell_type": "code",
   "execution_count": 22,
   "id": "92933b21",
   "metadata": {},
   "outputs": [
    {
     "data": {
      "text/plain": [
       "array([[1., 0., 0.],\n",
       "       [0., 1., 0.],\n",
       "       [0., 0., 1.]])"
      ]
     },
     "execution_count": 22,
     "metadata": {},
     "output_type": "execute_result"
    }
   ],
   "source": [
    "np.eye(3)"
   ]
  },
  {
   "cell_type": "markdown",
   "id": "49ccade6",
   "metadata": {},
   "source": [
    "> When you multiply a matrix by a Identity matrix, you get the same matrix back.\n",
    "\n",
    "# Random\n",
    "\n",
    "One of the most useful modules in `numpy` is `random`. It provides a number of functions to generate random numbers it different distributions.\n",
    "\n",
    "> We will visualize what different distributions look like in the visualizations library articles.\n",
    "\n",
    "This `random` module is not far off from the `random` module in Python's standard library. The main difference is that `numpy` has a number of functions to generate random numbers in different distributions.\n",
    "\n",
    "So, what about we generate a array of random numbers?"
   ]
  },
  {
   "cell_type": "code",
   "execution_count": 23,
   "id": "ae25b201",
   "metadata": {},
   "outputs": [
    {
     "data": {
      "text/plain": [
       "0.2637810768348473"
      ]
     },
     "execution_count": 23,
     "metadata": {},
     "output_type": "execute_result"
    }
   ],
   "source": [
    "np.random.rand()"
   ]
  },
  {
   "cell_type": "markdown",
   "id": "31f6d3c8",
   "metadata": {},
   "source": [
    "> `rand()` mathod will return a random number between 0 and 1.\n",
    "\n",
    "We can get an array of random numbers between 0 and 1 by using the `rand()` method too."
   ]
  },
  {
   "cell_type": "code",
   "execution_count": 24,
   "id": "04ce6a16",
   "metadata": {},
   "outputs": [
    {
     "data": {
      "text/plain": [
       "array([0.20235773, 0.19999971, 0.4462011 ])"
      ]
     },
     "execution_count": 24,
     "metadata": {},
     "output_type": "execute_result"
    }
   ],
   "source": [
    "np.random.rand(3)"
   ]
  },
  {
   "cell_type": "markdown",
   "id": "c26c7f9c",
   "metadata": {},
   "source": [
    "If you want a 2D array, you can just pass the number of rows and columns."
   ]
  },
  {
   "cell_type": "code",
   "execution_count": 27,
   "id": "f6a34527",
   "metadata": {},
   "outputs": [
    {
     "data": {
      "text/plain": [
       "array([[0.75704793, 0.43485018, 0.14997488, 0.48661208],\n",
       "       [0.55896712, 0.90591318, 0.32762082, 0.48353478],\n",
       "       [0.96958056, 0.40637603, 0.69959379, 0.33193069]])"
      ]
     },
     "execution_count": 27,
     "metadata": {},
     "output_type": "execute_result"
    }
   ],
   "source": [
    "np.random.rand(3,4)"
   ]
  },
  {
   "cell_type": "markdown",
   "id": "dde8a464",
   "metadata": {},
   "source": [
    "We can make as many dimentions we want. Just pass the size of the dimentions and this method will create the array with the given dimentions."
   ]
  },
  {
   "cell_type": "code",
   "execution_count": 28,
   "id": "e3f2f4b0",
   "metadata": {},
   "outputs": [
    {
     "data": {
      "text/plain": [
       "array([[[[0.08691663, 0.17088443, 0.11837669, 0.85721939],\n",
       "         [0.13007443, 0.86760089, 0.82462539, 0.38911562]],\n",
       "\n",
       "        [[0.74100744, 0.50632947, 0.44063465, 0.0729541 ],\n",
       "         [0.62075949, 0.77061905, 0.35113216, 0.85218243]],\n",
       "\n",
       "        [[0.10859144, 0.74240741, 0.46840081, 0.93851261],\n",
       "         [0.10588262, 0.48566231, 0.0246388 , 0.61082481]]],\n",
       "\n",
       "\n",
       "       [[[0.85177588, 0.39478967, 0.47254821, 0.53919674],\n",
       "         [0.92340437, 0.26418839, 0.65563583, 0.42199112]],\n",
       "\n",
       "        [[0.40958923, 0.02075677, 0.10758335, 0.64464445],\n",
       "         [0.15094235, 0.44701903, 0.84610367, 0.6969326 ]],\n",
       "\n",
       "        [[0.406591  , 0.22789348, 0.59403528, 0.87939375],\n",
       "         [0.75349755, 0.78534703, 0.84661362, 0.32354451]]]])"
      ]
     },
     "execution_count": 28,
     "metadata": {},
     "output_type": "execute_result"
    }
   ],
   "source": [
    "np.random.rand(2,3,2,4)"
   ]
  },
  {
   "cell_type": "markdown",
   "id": "7c3a12e6",
   "metadata": {},
   "source": [
    "Now, the values generated from the `rand` function is from the `uniform` distribution. We can generate random numbers from `gaussian` distribution or `normal` distribution using the `randn` function."
   ]
  },
  {
   "cell_type": "code",
   "execution_count": 29,
   "id": "72f66a2a",
   "metadata": {},
   "outputs": [
    {
     "data": {
      "text/plain": [
       "array([[-0.17239173, -1.42657961, -1.91757699,  0.08522032],\n",
       "       [ 1.67533517,  0.06761274, -1.8728889 , -0.7556542 ],\n",
       "       [ 0.85058579,  1.23327789, -0.08622355, -2.33977427]])"
      ]
     },
     "execution_count": 29,
     "metadata": {},
     "output_type": "execute_result"
    }
   ],
   "source": [
    "np.random.randn(3,4)"
   ]
  },
  {
   "cell_type": "markdown",
   "id": "265a3734",
   "metadata": {},
   "source": [
    "This works as same as the `rand` function. But the number generated is from `normal distribution`. That's why you can see negetive numbers as well.\n",
    "\n",
    "These are all numbers between -1 and 1.\n",
    "\n",
    "But what if you need interger numbers? You can use `np.random.randint(low, high, size)`"
   ]
  },
  {
   "cell_type": "code",
   "execution_count": 30,
   "id": "de385f9f",
   "metadata": {},
   "outputs": [
    {
     "data": {
      "text/plain": [
       "array([95, 67, 64, 46, 41])"
      ]
     },
     "execution_count": 30,
     "metadata": {},
     "output_type": "execute_result"
    }
   ],
   "source": [
    "np.random.randint(1, 100, size=5)"
   ]
  },
  {
   "cell_type": "markdown",
   "id": "0699fd81",
   "metadata": {},
   "source": [
    "`randint` method will generate rnaodm integers between min and max values and if you want an array or a matrix or highers dimension you can set the size or dimension size as a tuple."
   ]
  },
  {
   "cell_type": "code",
   "execution_count": 32,
   "id": "0b17aafb",
   "metadata": {},
   "outputs": [
    {
     "data": {
      "text/plain": [
       "array([[[41, 32, 37, 48, 29, 45],\n",
       "        [25, 26, 49, 32, 41, 48],\n",
       "        [27, 31, 34, 33, 39, 44]],\n",
       "\n",
       "       [[41, 44, 47, 46, 45, 20],\n",
       "        [33, 49, 37, 48, 43, 30],\n",
       "        [26, 45, 31, 35, 26, 34]]])"
      ]
     },
     "execution_count": 32,
     "metadata": {},
     "output_type": "execute_result"
    }
   ],
   "source": [
    "np.random.randint(20,50, size=(2,3,6))"
   ]
  },
  {
   "cell_type": "markdown",
   "id": "b9445de2",
   "metadata": {},
   "source": [
    "Pretty easy right? 😃\n",
    "\n",
    "This module is very useful when you want a dummy data to work with. It's a very simple module that you can use to create a dummy dataset very fast.\n",
    "\n",
    "Now, I hope you got the gist of what numpy is and how it works. Now time for some useful functions that can help you undersand the `array` better.\n",
    "\n",
    "## Some Useful Functions\n",
    "\n",
    "With numpy, it is very easy to create a multidimensional array. But sometime seeing a multidimensional array can be a bit confusing and hard to wrap your head around. But it helps if we can know the shape of a array.\n",
    "\n",
    "So, let's experiment."
   ]
  },
  {
   "cell_type": "code",
   "execution_count": 33,
   "id": "577c9fc9",
   "metadata": {},
   "outputs": [
    {
     "data": {
      "text/plain": [
       "array([[18, 29, 26, 20, 25],\n",
       "       [34,  7, 49, 34, 42],\n",
       "       [ 1, 16, 38, 17, 45],\n",
       "       [42, 47, 34, 40,  1],\n",
       "       [38, 19,  4, 29, 20],\n",
       "       [10, 19, 47, 27, 48],\n",
       "       [ 5, 13, 16, 16, 20],\n",
       "       [47, 41, 17, 41,  5],\n",
       "       [16, 26,  9, 42, 37],\n",
       "       [45, 32, 15,  6, 30]])"
      ]
     },
     "execution_count": 33,
     "metadata": {},
     "output_type": "execute_result"
    }
   ],
   "source": [
    "rarr = np.random.randint(1,50,size=(10,5))\n",
    "rarr"
   ]
  },
  {
   "cell_type": "markdown",
   "id": "c13c8c96",
   "metadata": {},
   "source": [
    "Here I created a matrix of size `10x5`, for me it is pretty easy to understand, but if you are a only seeing this array for the first time you might get confused. So, what we can do is, see the shape of the array."
   ]
  },
  {
   "cell_type": "code",
   "execution_count": 34,
   "id": "934a69b5",
   "metadata": {},
   "outputs": [
    {
     "data": {
      "text/plain": [
       "(10, 5)"
      ]
     },
     "execution_count": 34,
     "metadata": {},
     "output_type": "execute_result"
    }
   ],
   "source": [
    "rarr.shape"
   ]
  },
  {
   "cell_type": "markdown",
   "id": "146999b0",
   "metadata": {},
   "source": [
    "`shape` is a numpy array attribute that returns the shape of the array. I created the `10x5` array and with simple command you can also see that it is a 2D matrix that has 10 rows and 5 columns.\n",
    "\n",
    "Now, what if you want to change the size of the rows or columns? You can do that by using the `reshape` method. Let's see how it works."
   ]
  },
  {
   "cell_type": "code",
   "execution_count": 35,
   "id": "b55d633f",
   "metadata": {},
   "outputs": [
    {
     "data": {
      "text/plain": [
       "array([[18, 29, 26, 20, 25, 34,  7, 49, 34, 42],\n",
       "       [ 1, 16, 38, 17, 45, 42, 47, 34, 40,  1],\n",
       "       [38, 19,  4, 29, 20, 10, 19, 47, 27, 48],\n",
       "       [ 5, 13, 16, 16, 20, 47, 41, 17, 41,  5],\n",
       "       [16, 26,  9, 42, 37, 45, 32, 15,  6, 30]])"
      ]
     },
     "execution_count": 35,
     "metadata": {},
     "output_type": "execute_result"
    }
   ],
   "source": [
    "rarr.reshape(5,10)"
   ]
  },
  {
   "cell_type": "markdown",
   "id": "67a5b907",
   "metadata": {},
   "source": [
    "Here you can see I interchange the rows and columns of a matrix. And it is seamlessly done by numpy.\n",
    "\n",
    "> reshape() method doesn't reshape the matrix, it just returns a new matrix with the same data but with a different shape. So, to permanently change the shape of a matrix, you can store the reshaped matrix in a new variable or in the same variable.\n",
    "\n",
    "Now, can we change the whole array into any shape?"
   ]
  },
  {
   "cell_type": "code",
   "execution_count": 37,
   "id": "d3ed2b5a",
   "metadata": {},
   "outputs": [
    {
     "ename": "ValueError",
     "evalue": "cannot reshape array of size 50 into shape (2,5)",
     "output_type": "error",
     "traceback": [
      "\u001b[31m---------------------------------------------------------------------------\u001b[39m",
      "\u001b[31mValueError\u001b[39m                                Traceback (most recent call last)",
      "\u001b[36mCell\u001b[39m\u001b[36m \u001b[39m\u001b[32mIn[37]\u001b[39m\u001b[32m, line 1\u001b[39m\n\u001b[32m----> \u001b[39m\u001b[32m1\u001b[39m rarr.reshape(\u001b[32m2\u001b[39m,\u001b[32m5\u001b[39m)\n",
      "\u001b[31mValueError\u001b[39m: cannot reshape array of size 50 into shape (2,5)"
     ]
    }
   ],
   "source": [
    "rarr.reshape(2,5)"
   ]
  },
  {
   "cell_type": "markdown",
   "id": "b01dac8d",
   "metadata": {},
   "source": [
    "And it's showing an error. This error is because we are trying to change the share of the array in a wrong shape. We need to change the shape of the array in a way that it doesn't doesn't change the elements of the array.\n",
    "\n",
    "The `rarr` array has a shape of `(10, 5)`. So, it has 50 elements. But, we want to change the shape of the array to `(2,5)`. Which means the matrix can have only 10 elements. Which is not possible. So, we should be careful when reshaping the array.\n",
    "\n",
    "> One clever way to reshape is to multiply the sizes of different dimensions and check if it's equal to the total number of elements in the array. \n",
    "\n",
    "So, that means the number of elements should not change so. If I want to reshape the array to `(5,2,5)` then it should work right?"
   ]
  },
  {
   "cell_type": "code",
   "execution_count": 38,
   "id": "9b98c827",
   "metadata": {},
   "outputs": [
    {
     "data": {
      "text/plain": [
       "array([[[18, 29, 26, 20, 25],\n",
       "        [34,  7, 49, 34, 42]],\n",
       "\n",
       "       [[ 1, 16, 38, 17, 45],\n",
       "        [42, 47, 34, 40,  1]],\n",
       "\n",
       "       [[38, 19,  4, 29, 20],\n",
       "        [10, 19, 47, 27, 48]],\n",
       "\n",
       "       [[ 5, 13, 16, 16, 20],\n",
       "        [47, 41, 17, 41,  5]],\n",
       "\n",
       "       [[16, 26,  9, 42, 37],\n",
       "        [45, 32, 15,  6, 30]]])"
      ]
     },
     "execution_count": 38,
     "metadata": {},
     "output_type": "execute_result"
    }
   ],
   "source": [
    "rarr.reshape(5,2,5)"
   ]
  },
  {
   "cell_type": "markdown",
   "id": "ed9c86f0",
   "metadata": {},
   "source": [
    "Yes! It works. Because in the end `5x2x5=50` and we are not changing the element size.\n",
    "\n",
    "With that out of the way, now let's think about some more thing we should be able to do.\n",
    "\n",
    "Ow! I got one.\n",
    "\n",
    "How do we find the maximum or the minimum value in a numpy array?"
   ]
  },
  {
   "cell_type": "code",
   "execution_count": 39,
   "id": "e321f538",
   "metadata": {},
   "outputs": [],
   "source": [
    "arr = np.random.randint(1,100,size=30)"
   ]
  },
  {
   "cell_type": "markdown",
   "id": "ae545d43",
   "metadata": {},
   "source": [
    "For finding the maximum value:"
   ]
  },
  {
   "cell_type": "code",
   "execution_count": 41,
   "id": "d5a3785a",
   "metadata": {},
   "outputs": [
    {
     "data": {
      "text/plain": [
       "np.int64(98)"
      ]
     },
     "execution_count": 41,
     "metadata": {},
     "output_type": "execute_result"
    }
   ],
   "source": [
    "arr.max()"
   ]
  },
  {
   "cell_type": "markdown",
   "id": "ef1b6bfb",
   "metadata": {},
   "source": [
    "For finding the minimum value:"
   ]
  },
  {
   "cell_type": "code",
   "execution_count": 42,
   "id": "d466078f",
   "metadata": {},
   "outputs": [
    {
     "data": {
      "text/plain": [
       "np.int64(13)"
      ]
     },
     "execution_count": 42,
     "metadata": {},
     "output_type": "execute_result"
    }
   ],
   "source": [
    "arr.min()"
   ]
  },
  {
   "cell_type": "markdown",
   "id": "b5b7d627",
   "metadata": {},
   "source": [
    "Noice! But what if I tell you to find the index of the maximum value or the minimum value of a list? `Python` doesn't provide a direct way to do that but `Numpy` does. \n",
    "\n",
    "To get the index of the maximum value of a numpy array:"
   ]
  },
  {
   "cell_type": "code",
   "execution_count": 43,
   "id": "a92a75e0",
   "metadata": {},
   "outputs": [
    {
     "data": {
      "text/plain": [
       "np.int64(6)"
      ]
     },
     "execution_count": 43,
     "metadata": {},
     "output_type": "execute_result"
    }
   ],
   "source": [
    "arr.argmax()"
   ]
  },
  {
   "cell_type": "markdown",
   "id": "20a2d76b",
   "metadata": {},
   "source": [
    "To find the index of the minimum value:"
   ]
  },
  {
   "cell_type": "code",
   "execution_count": 44,
   "id": "a89c0da5",
   "metadata": {},
   "outputs": [
    {
     "data": {
      "text/plain": [
       "np.int64(4)"
      ]
     },
     "execution_count": 44,
     "metadata": {},
     "output_type": "execute_result"
    }
   ],
   "source": [
    "arr.argmin()"
   ]
  },
  {
   "cell_type": "markdown",
   "id": "58b571c1",
   "metadata": {},
   "source": [
    "And I think that covers the elementary stuff. And we can now go on to the more complecated stuff."
   ]
  }
 ],
 "metadata": {
  "kernelspec": {
   "display_name": "ml_env",
   "language": "python",
   "name": "python3"
  },
  "language_info": {
   "codemirror_mode": {
    "name": "ipython",
    "version": 3
   },
   "file_extension": ".py",
   "mimetype": "text/x-python",
   "name": "python",
   "nbconvert_exporter": "python",
   "pygments_lexer": "ipython3",
   "version": "3.11.11"
  }
 },
 "nbformat": 4,
 "nbformat_minor": 5
}
