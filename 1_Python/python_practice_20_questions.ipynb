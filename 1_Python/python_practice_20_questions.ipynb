{
 "cells": [
  {
   "cell_type": "markdown",
   "id": "93f35f1d",
   "metadata": {},
   "source": [
    "<div align=\"center\">\n",
    "\n",
    "# 🧪 Python Basics Practice – Machine Learning Prep\n",
    "\n",
    "This notebook contains **20 practice questions** based on the Python basics covered in the course.  \n",
    "Each cell shows the **output only**, so try to write the code yourself and verify if your logic is correct.\n",
    "\n",
    "---\n",
    "\n"
   ]
  },
  {
   "cell_type": "markdown",
   "id": "aafa5f77",
   "metadata": {},
   "source": [
    "### 1. Add two numbers and print the result."
   ]
  },
  {
   "cell_type": "code",
   "execution_count": null,
   "id": "92af4000",
   "metadata": {},
   "outputs": [
    {
     "name": "stdout",
     "output_type": "stream",
     "text": [
      "Output:\n",
      "15"
     ]
    }
   ],
   "source": []
  },
  {
   "cell_type": "markdown",
   "id": "609645d2",
   "metadata": {},
   "source": [
    "### 2. Check if a number is even or odd."
   ]
  },
  {
   "cell_type": "code",
   "execution_count": null,
   "id": "50186121",
   "metadata": {},
   "outputs": [
    {
     "name": "stdout",
     "output_type": "stream",
     "text": [
      "Output:\n",
      "Even"
     ]
    }
   ],
   "source": []
  },
  {
   "cell_type": "markdown",
   "id": "44ef8882",
   "metadata": {},
   "source": [
    "### 3. Multiply each element in a list by 3."
   ]
  },
  {
   "cell_type": "code",
   "execution_count": null,
   "id": "2bac5c1c",
   "metadata": {},
   "outputs": [
    {
     "name": "stdout",
     "output_type": "stream",
     "text": [
      "Output:\n",
      "3\n",
      "6\n",
      "9"
     ]
    }
   ],
   "source": []
  },
  {
   "cell_type": "markdown",
   "id": "4d47f4c0",
   "metadata": {},
   "source": [
    "### 4. Print numbers from 1 to 5 using a loop."
   ]
  },
  {
   "cell_type": "code",
   "execution_count": null,
   "id": "0a56bb9e",
   "metadata": {},
   "outputs": [
    {
     "name": "stdout",
     "output_type": "stream",
     "text": [
      "Output:\n",
      "1\n",
      "2\n",
      "3\n",
      "4\n",
      "5"
     ]
    }
   ],
   "source": []
  },
  {
   "cell_type": "markdown",
   "id": "0e9a7d7b",
   "metadata": {},
   "source": [
    "### 5. Get the length of a string."
   ]
  },
  {
   "cell_type": "code",
   "execution_count": null,
   "id": "578cdb03",
   "metadata": {},
   "outputs": [
    {
     "name": "stdout",
     "output_type": "stream",
     "text": [
      "Output:\n",
      "11"
     ]
    }
   ],
   "source": []
  },
  {
   "cell_type": "markdown",
   "id": "2557368f",
   "metadata": {},
   "source": [
    "### 6. Replace 'a' with '@' in a string."
   ]
  },
  {
   "cell_type": "code",
   "execution_count": null,
   "id": "604e57a8",
   "metadata": {},
   "outputs": [
    {
     "name": "stdout",
     "output_type": "stream",
     "text": [
      "Output:\n",
      "@pple"
     ]
    }
   ],
   "source": []
  },
  {
   "cell_type": "markdown",
   "id": "6498d826",
   "metadata": {},
   "source": [
    "### 7. Create a function to return the cube of a number."
   ]
  },
  {
   "cell_type": "code",
   "execution_count": null,
   "id": "c3cf0cb1",
   "metadata": {},
   "outputs": [
    {
     "name": "stdout",
     "output_type": "stream",
     "text": [
      "Output:\n",
      "64"
     ]
    }
   ],
   "source": []
  },
  {
   "cell_type": "markdown",
   "id": "eb7bbf10",
   "metadata": {},
   "source": [
    "### 8. Use an if-elif-else block to check age group."
   ]
  },
  {
   "cell_type": "code",
   "execution_count": null,
   "id": "2f96f888",
   "metadata": {},
   "outputs": [
    {
     "name": "stdout",
     "output_type": "stream",
     "text": [
      "Output:\n",
      "Teenager"
     ]
    }
   ],
   "source": []
  },
  {
   "cell_type": "markdown",
   "id": "42bfb716",
   "metadata": {},
   "source": [
    "### 9. Slice a list to get the last 3 elements."
   ]
  },
  {
   "cell_type": "code",
   "execution_count": null,
   "id": "c41b33d6",
   "metadata": {},
   "outputs": [
    {
     "name": "stdout",
     "output_type": "stream",
     "text": [
      "Output:\n",
      "[7, 8, 9]"
     ]
    }
   ],
   "source": []
  },
  {
   "cell_type": "markdown",
   "id": "251ef889",
   "metadata": {},
   "source": [
    "### 10. Join a list of words into a sentence."
   ]
  },
  {
   "cell_type": "code",
   "execution_count": null,
   "id": "02090304",
   "metadata": {},
   "outputs": [
    {
     "name": "stdout",
     "output_type": "stream",
     "text": [
      "Output:\n",
      "Machine learning is fun!"
     ]
    }
   ],
   "source": []
  },
  {
   "cell_type": "markdown",
   "id": "340fbb9b",
   "metadata": {},
   "source": [
    "### 11. Count how many times 'a' appears in a string."
   ]
  },
  {
   "cell_type": "code",
   "execution_count": null,
   "id": "dddb2a02",
   "metadata": {},
   "outputs": [
    {
     "name": "stdout",
     "output_type": "stream",
     "text": [
      "Output:\n",
      "3"
     ]
    }
   ],
   "source": []
  },
  {
   "cell_type": "markdown",
   "id": "da6ec208",
   "metadata": {},
   "source": [
    "### 12. Swap two variables."
   ]
  },
  {
   "cell_type": "code",
   "execution_count": null,
   "id": "40c42eec",
   "metadata": {},
   "outputs": [
    {
     "name": "stdout",
     "output_type": "stream",
     "text": [
      "Output:\n",
      "a = 10\n",
      "b = 5"
     ]
    }
   ],
   "source": []
  },
  {
   "cell_type": "markdown",
   "id": "3845f601",
   "metadata": {},
   "source": [
    "### 13. Use a loop to calculate factorial of 5."
   ]
  },
  {
   "cell_type": "code",
   "execution_count": null,
   "id": "2f6341b9",
   "metadata": {},
   "outputs": [
    {
     "name": "stdout",
     "output_type": "stream",
     "text": [
      "Output:\n",
      "120"
     ]
    }
   ],
   "source": []
  },
  {
   "cell_type": "markdown",
   "id": "d29ed3d1",
   "metadata": {},
   "source": [
    "### 14. Check if an element exists in a list."
   ]
  },
  {
   "cell_type": "code",
   "execution_count": null,
   "id": "829fdd73",
   "metadata": {},
   "outputs": [
    {
     "name": "stdout",
     "output_type": "stream",
     "text": [
      "Output:\n",
      "Yes"
     ]
    }
   ],
   "source": []
  },
  {
   "cell_type": "markdown",
   "id": "411b5686",
   "metadata": {},
   "source": [
    "### 15. Use list comprehension to get squares of numbers."
   ]
  },
  {
   "cell_type": "code",
   "execution_count": null,
   "id": "b3e017be",
   "metadata": {},
   "outputs": [
    {
     "name": "stdout",
     "output_type": "stream",
     "text": [
      "Output:\n",
      "[1, 4, 9, 16, 25]"
     ]
    }
   ],
   "source": []
  },
  {
   "cell_type": "markdown",
   "id": "e20c89e1",
   "metadata": {},
   "source": [
    "### 16. Convert Celsius to Fahrenheit."
   ]
  },
  {
   "cell_type": "code",
   "execution_count": null,
   "id": "59b25226",
   "metadata": {},
   "outputs": [
    {
     "name": "stdout",
     "output_type": "stream",
     "text": [
      "Output:\n",
      "98.6"
     ]
    }
   ],
   "source": []
  },
  {
   "cell_type": "markdown",
   "id": "430d33f4",
   "metadata": {},
   "source": [
    "### 17. Extract domain from an email address."
   ]
  },
  {
   "cell_type": "code",
   "execution_count": null,
   "id": "3430015c",
   "metadata": {},
   "outputs": [
    {
     "name": "stdout",
     "output_type": "stream",
     "text": [
      "Output:\n",
      "gmail.com"
     ]
    }
   ],
   "source": []
  },
  {
   "cell_type": "markdown",
   "id": "6460d033",
   "metadata": {},
   "source": [
    "### 18. Print a dictionary key and value."
   ]
  },
  {
   "cell_type": "code",
   "execution_count": null,
   "id": "e69f9ff1",
   "metadata": {},
   "outputs": [
    {
     "name": "stdout",
     "output_type": "stream",
     "text": [
      "Output:\n",
      "name: Alice"
     ]
    }
   ],
   "source": []
  },
  {
   "cell_type": "markdown",
   "id": "e0fdbf65",
   "metadata": {},
   "source": [
    "### 19. Reverse a string using slicing."
   ]
  },
  {
   "cell_type": "code",
   "execution_count": null,
   "id": "2c66f84e",
   "metadata": {},
   "outputs": [
    {
     "name": "stdout",
     "output_type": "stream",
     "text": [
      "Output:\n",
      "nohtyP"
     ]
    }
   ],
   "source": []
  },
  {
   "cell_type": "markdown",
   "id": "e3015514",
   "metadata": {},
   "source": [
    "### 20. Print index and element using enumerate."
   ]
  },
  {
   "cell_type": "code",
   "execution_count": null,
   "id": "a7374f77",
   "metadata": {},
   "outputs": [
    {
     "name": "stdout",
     "output_type": "stream",
     "text": [
      "Output:\n",
      "0: a\n",
      "1: b\n",
      "2: c"
     ]
    }
   ],
   "source": []
  }
 ],
 "metadata": {},
 "nbformat": 4,
 "nbformat_minor": 5
}
